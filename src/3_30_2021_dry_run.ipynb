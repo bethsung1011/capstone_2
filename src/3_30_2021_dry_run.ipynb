{
 "cells": [
  {
   "cell_type": "code",
   "execution_count": 1,
   "metadata": {},
   "outputs": [],
   "source": [
    "import numpy as np\n",
    "import pandas as pd\n",
    "import matplotlib.pyplot as plt\n",
    "import os\n",
    "\n",
    "\n",
    "from skimage.io import imread\n",
    "from skimage.color import rgb2gray\n",
    "from skimage.filters import sobel \n",
    "from skimage.feature._canny import canny\n",
    "from skimage.color import rgb2gray\n",
    "from skimage.restoration import denoise_bilateral, denoise_tv_chambolle\n",
    "from skimage.transform import resize\n",
    "from sklearn.cluster import KMeans\n",
    "\n",
    "from tensorflow import keras\n",
    "\n",
    "# import tensorflow as tf\n",
    "# from tensorflow import keras\n",
    "# from tensorflow.keras.datasets import mnist\n",
    "# from tensorflow.keras.models import Sequential\n",
    "# from tensorflow.keras.layers import Dense, Dropout, Activation, Flatten\n",
    "# from tensorflow.keras.layers import Conv2D, MaxPooling2D\n",
    "# from tensorflow.keras.utils import to_categorical\n",
    "\n",
    "\n",
    "from tensorflow.keras.preprocessing.image import ImageDataGenerator, array_to_img, img_to_array, load_img\n",
    "\n",
    "%matplotlib inline\n",
    "# matplotlib.style.use('ggplot')"
   ]
  },
  {
   "cell_type": "code",
   "execution_count": 2,
   "metadata": {},
   "outputs": [
    {
     "name": "stdout",
     "output_type": "stream",
     "text": [
      " 3_29_2021_dry_run.ipynb   checkpoint\t\t'ResNet50 .ipynb'\r\n",
      " 3_30_2021_dry_run.ipynb   Land_solution.ipynb\t train.csv\r\n",
      " AlexNet.ipynb\t\t   logs\t\t\t VGG16.ipynb\r\n"
     ]
    }
   ],
   "source": [
    "!ls"
   ]
  },
  {
   "cell_type": "code",
   "execution_count": 3,
   "metadata": {},
   "outputs": [
    {
     "data": {
      "text/html": [
       "<div>\n",
       "<style scoped>\n",
       "    .dataframe tbody tr th:only-of-type {\n",
       "        vertical-align: middle;\n",
       "    }\n",
       "\n",
       "    .dataframe tbody tr th {\n",
       "        vertical-align: top;\n",
       "    }\n",
       "\n",
       "    .dataframe thead th {\n",
       "        text-align: right;\n",
       "    }\n",
       "</style>\n",
       "<table border=\"1\" class=\"dataframe\">\n",
       "  <thead>\n",
       "    <tr style=\"text-align: right;\">\n",
       "      <th></th>\n",
       "      <th>image_id</th>\n",
       "      <th>grapheme_root</th>\n",
       "      <th>vowel_diacritic</th>\n",
       "      <th>consonant_diacritic</th>\n",
       "      <th>grapheme</th>\n",
       "    </tr>\n",
       "  </thead>\n",
       "  <tbody>\n",
       "    <tr>\n",
       "      <th>0</th>\n",
       "      <td>Train_0</td>\n",
       "      <td>15</td>\n",
       "      <td>9</td>\n",
       "      <td>5</td>\n",
       "      <td>ক্ট্রো</td>\n",
       "    </tr>\n",
       "    <tr>\n",
       "      <th>1</th>\n",
       "      <td>Train_1</td>\n",
       "      <td>159</td>\n",
       "      <td>0</td>\n",
       "      <td>0</td>\n",
       "      <td>হ</td>\n",
       "    </tr>\n",
       "    <tr>\n",
       "      <th>2</th>\n",
       "      <td>Train_2</td>\n",
       "      <td>22</td>\n",
       "      <td>3</td>\n",
       "      <td>5</td>\n",
       "      <td>খ্রী</td>\n",
       "    </tr>\n",
       "    <tr>\n",
       "      <th>3</th>\n",
       "      <td>Train_3</td>\n",
       "      <td>53</td>\n",
       "      <td>2</td>\n",
       "      <td>2</td>\n",
       "      <td>র্টি</td>\n",
       "    </tr>\n",
       "    <tr>\n",
       "      <th>4</th>\n",
       "      <td>Train_4</td>\n",
       "      <td>71</td>\n",
       "      <td>9</td>\n",
       "      <td>5</td>\n",
       "      <td>থ্রো</td>\n",
       "    </tr>\n",
       "    <tr>\n",
       "      <th>...</th>\n",
       "      <td>...</td>\n",
       "      <td>...</td>\n",
       "      <td>...</td>\n",
       "      <td>...</td>\n",
       "      <td>...</td>\n",
       "    </tr>\n",
       "    <tr>\n",
       "      <th>200835</th>\n",
       "      <td>Train_200835</td>\n",
       "      <td>22</td>\n",
       "      <td>7</td>\n",
       "      <td>2</td>\n",
       "      <td>র্খে</td>\n",
       "    </tr>\n",
       "    <tr>\n",
       "      <th>200836</th>\n",
       "      <td>Train_200836</td>\n",
       "      <td>65</td>\n",
       "      <td>9</td>\n",
       "      <td>0</td>\n",
       "      <td>ত্তো</td>\n",
       "    </tr>\n",
       "    <tr>\n",
       "      <th>200837</th>\n",
       "      <td>Train_200837</td>\n",
       "      <td>2</td>\n",
       "      <td>1</td>\n",
       "      <td>4</td>\n",
       "      <td>অ্যা</td>\n",
       "    </tr>\n",
       "    <tr>\n",
       "      <th>200838</th>\n",
       "      <td>Train_200838</td>\n",
       "      <td>152</td>\n",
       "      <td>9</td>\n",
       "      <td>0</td>\n",
       "      <td>স্নো</td>\n",
       "    </tr>\n",
       "    <tr>\n",
       "      <th>200839</th>\n",
       "      <td>Train_200839</td>\n",
       "      <td>127</td>\n",
       "      <td>2</td>\n",
       "      <td>0</td>\n",
       "      <td>ল্টি</td>\n",
       "    </tr>\n",
       "  </tbody>\n",
       "</table>\n",
       "<p>200840 rows × 5 columns</p>\n",
       "</div>"
      ],
      "text/plain": [
       "            image_id  grapheme_root  vowel_diacritic  consonant_diacritic  \\\n",
       "0            Train_0             15                9                    5   \n",
       "1            Train_1            159                0                    0   \n",
       "2            Train_2             22                3                    5   \n",
       "3            Train_3             53                2                    2   \n",
       "4            Train_4             71                9                    5   \n",
       "...              ...            ...              ...                  ...   \n",
       "200835  Train_200835             22                7                    2   \n",
       "200836  Train_200836             65                9                    0   \n",
       "200837  Train_200837              2                1                    4   \n",
       "200838  Train_200838            152                9                    0   \n",
       "200839  Train_200839            127                2                    0   \n",
       "\n",
       "       grapheme  \n",
       "0        ক্ট্রো  \n",
       "1             হ  \n",
       "2          খ্রী  \n",
       "3          র্টি  \n",
       "4          থ্রো  \n",
       "...         ...  \n",
       "200835     র্খে  \n",
       "200836     ত্তো  \n",
       "200837     অ্যা  \n",
       "200838     স্নো  \n",
       "200839     ল্টি  \n",
       "\n",
       "[200840 rows x 5 columns]"
      ]
     },
     "execution_count": 3,
     "metadata": {},
     "output_type": "execute_result"
    }
   ],
   "source": [
    "df_index=pd.read_csv('train.csv')\n",
    "df_index"
   ]
  },
  {
   "cell_type": "code",
   "execution_count": 4,
   "metadata": {},
   "outputs": [
    {
     "data": {
      "text/plain": [
       "(200840, 5)"
      ]
     },
     "execution_count": 4,
     "metadata": {},
     "output_type": "execute_result"
    }
   ],
   "source": [
    "df_index.shape"
   ]
  },
  {
   "cell_type": "code",
   "execution_count": 5,
   "metadata": {},
   "outputs": [
    {
     "data": {
      "text/plain": [
       "<AxesSubplot:>"
      ]
     },
     "execution_count": 5,
     "metadata": {},
     "output_type": "execute_result"
    },
    {
     "data": {
      "image/png": "[encoded data removed]",
      "text/plain": [
       "<Figure size 720x2160 with 1 Axes>"
      ]
     },
     "metadata": {
      "needs_background": "light"
     },
     "output_type": "display_data"
    }
   ],
   "source": [
    "plt.figure(figsize=(10,30))\n",
    "df_index['grapheme_root'].value_counts().sort_index().plot.barh()  "
   ]
  },
  {
   "cell_type": "code",
   "execution_count": 6,
   "metadata": {},
   "outputs": [
    {
     "data": {
      "text/plain": [
       "<AxesSubplot:>"
      ]
     },
     "execution_count": 6,
     "metadata": {},
     "output_type": "execute_result"
    },
    {
     "data": {
      "image/png": "[encoded data removed]",
      "text/plain": [
       "<Figure size 432x288 with 1 Axes>"
      ]
     },
     "metadata": {
      "needs_background": "light"
     },
     "output_type": "display_data"
    }
   ],
   "source": [
    "df_index['vowel_diacritic'].value_counts().sort_index().plot.barh()  "
   ]
  },
  {
   "cell_type": "code",
   "execution_count": 7,
   "metadata": {},
   "outputs": [
    {
     "data": {
      "text/plain": [
       "<AxesSubplot:>"
      ]
     },
     "execution_count": 7,
     "metadata": {},
     "output_type": "execute_result"
    },
    {
     "data": {
      "image/png": "[encoded data removed]",
      "text/plain": [
       "<Figure size 432x288 with 1 Axes>"
      ]
     },
     "metadata": {
      "needs_background": "light"
     },
     "output_type": "display_data"
    }
   ],
   "source": [
    "df_index['consonant_diacritic'].value_counts().sort_index().plot.barh()  "
   ]
  },
  {
   "cell_type": "code",
   "execution_count": 8,
   "metadata": {},
   "outputs": [],
   "source": [
    "df_index['image_id']=df_index['image_id']+'.jpg'"
   ]
  },
  {
   "cell_type": "code",
   "execution_count": 9,
   "metadata": {},
   "outputs": [
    {
     "data": {
      "text/html": [
       "<div>\n",
       "<style scoped>\n",
       "    .dataframe tbody tr th:only-of-type {\n",
       "        vertical-align: middle;\n",
       "    }\n",
       "\n",
       "    .dataframe tbody tr th {\n",
       "        vertical-align: top;\n",
       "    }\n",
       "\n",
       "    .dataframe thead th {\n",
       "        text-align: right;\n",
       "    }\n",
       "</style>\n",
       "<table border=\"1\" class=\"dataframe\">\n",
       "  <thead>\n",
       "    <tr style=\"text-align: right;\">\n",
       "      <th></th>\n",
       "      <th>image_id</th>\n",
       "      <th>grapheme_root</th>\n",
       "      <th>vowel_diacritic</th>\n",
       "      <th>consonant_diacritic</th>\n",
       "      <th>grapheme</th>\n",
       "    </tr>\n",
       "  </thead>\n",
       "  <tbody>\n",
       "    <tr>\n",
       "      <th>0</th>\n",
       "      <td>Train_0.jpg</td>\n",
       "      <td>15</td>\n",
       "      <td>9</td>\n",
       "      <td>5</td>\n",
       "      <td>ক্ট্রো</td>\n",
       "    </tr>\n",
       "    <tr>\n",
       "      <th>1</th>\n",
       "      <td>Train_1.jpg</td>\n",
       "      <td>159</td>\n",
       "      <td>0</td>\n",
       "      <td>0</td>\n",
       "      <td>হ</td>\n",
       "    </tr>\n",
       "    <tr>\n",
       "      <th>2</th>\n",
       "      <td>Train_2.jpg</td>\n",
       "      <td>22</td>\n",
       "      <td>3</td>\n",
       "      <td>5</td>\n",
       "      <td>খ্রী</td>\n",
       "    </tr>\n",
       "    <tr>\n",
       "      <th>3</th>\n",
       "      <td>Train_3.jpg</td>\n",
       "      <td>53</td>\n",
       "      <td>2</td>\n",
       "      <td>2</td>\n",
       "      <td>র্টি</td>\n",
       "    </tr>\n",
       "    <tr>\n",
       "      <th>4</th>\n",
       "      <td>Train_4.jpg</td>\n",
       "      <td>71</td>\n",
       "      <td>9</td>\n",
       "      <td>5</td>\n",
       "      <td>থ্রো</td>\n",
       "    </tr>\n",
       "    <tr>\n",
       "      <th>...</th>\n",
       "      <td>...</td>\n",
       "      <td>...</td>\n",
       "      <td>...</td>\n",
       "      <td>...</td>\n",
       "      <td>...</td>\n",
       "    </tr>\n",
       "    <tr>\n",
       "      <th>200835</th>\n",
       "      <td>Train_200835.jpg</td>\n",
       "      <td>22</td>\n",
       "      <td>7</td>\n",
       "      <td>2</td>\n",
       "      <td>র্খে</td>\n",
       "    </tr>\n",
       "    <tr>\n",
       "      <th>200836</th>\n",
       "      <td>Train_200836.jpg</td>\n",
       "      <td>65</td>\n",
       "      <td>9</td>\n",
       "      <td>0</td>\n",
       "      <td>ত্তো</td>\n",
       "    </tr>\n",
       "    <tr>\n",
       "      <th>200837</th>\n",
       "      <td>Train_200837.jpg</td>\n",
       "      <td>2</td>\n",
       "      <td>1</td>\n",
       "      <td>4</td>\n",
       "      <td>অ্যা</td>\n",
       "    </tr>\n",
       "    <tr>\n",
       "      <th>200838</th>\n",
       "      <td>Train_200838.jpg</td>\n",
       "      <td>152</td>\n",
       "      <td>9</td>\n",
       "      <td>0</td>\n",
       "      <td>স্নো</td>\n",
       "    </tr>\n",
       "    <tr>\n",
       "      <th>200839</th>\n",
       "      <td>Train_200839.jpg</td>\n",
       "      <td>127</td>\n",
       "      <td>2</td>\n",
       "      <td>0</td>\n",
       "      <td>ল্টি</td>\n",
       "    </tr>\n",
       "  </tbody>\n",
       "</table>\n",
       "<p>200840 rows × 5 columns</p>\n",
       "</div>"
      ],
      "text/plain": [
       "                image_id  grapheme_root  vowel_diacritic  consonant_diacritic  \\\n",
       "0            Train_0.jpg             15                9                    5   \n",
       "1            Train_1.jpg            159                0                    0   \n",
       "2            Train_2.jpg             22                3                    5   \n",
       "3            Train_3.jpg             53                2                    2   \n",
       "4            Train_4.jpg             71                9                    5   \n",
       "...                  ...            ...              ...                  ...   \n",
       "200835  Train_200835.jpg             22                7                    2   \n",
       "200836  Train_200836.jpg             65                9                    0   \n",
       "200837  Train_200837.jpg              2                1                    4   \n",
       "200838  Train_200838.jpg            152                9                    0   \n",
       "200839  Train_200839.jpg            127                2                    0   \n",
       "\n",
       "       grapheme  \n",
       "0        ক্ট্রো  \n",
       "1             হ  \n",
       "2          খ্রী  \n",
       "3          র্টি  \n",
       "4          থ্রো  \n",
       "...         ...  \n",
       "200835     র্খে  \n",
       "200836     ত্তো  \n",
       "200837     অ্যা  \n",
       "200838     স্নো  \n",
       "200839     ল্টি  \n",
       "\n",
       "[200840 rows x 5 columns]"
      ]
     },
     "execution_count": 9,
     "metadata": {},
     "output_type": "execute_result"
    }
   ],
   "source": [
    "df_index"
   ]
  },
  {
   "cell_type": "code",
   "execution_count": null,
   "metadata": {},
   "outputs": [],
   "source": []
  },
  {
   "cell_type": "code",
   "execution_count": 10,
   "metadata": {},
   "outputs": [
    {
     "data": {
      "text/plain": [
       "0    125278\n",
       "2     23465\n",
       "5     21397\n",
       "4     21270\n",
       "1      7424\n",
       "6      1387\n",
       "3       619\n",
       "Name: consonant_diacritic, dtype: int64"
      ]
     },
     "execution_count": 10,
     "metadata": {},
     "output_type": "execute_result"
    }
   ],
   "source": [
    "df_index['consonant_diacritic'].value_counts() \n",
    "#7 values , # 7 columns one hot coding, output = 7 colums and softmax"
   ]
  },
  {
   "cell_type": "code",
   "execution_count": 11,
   "metadata": {},
   "outputs": [
    {
     "data": {
      "text/plain": [
       "image_id               object\n",
       "grapheme_root           int64\n",
       "vowel_diacritic         int64\n",
       "consonant_diacritic     int64\n",
       "grapheme               object\n",
       "dtype: object"
      ]
     },
     "execution_count": 11,
     "metadata": {},
     "output_type": "execute_result"
    }
   ],
   "source": [
    "df_index.dtypes"
   ]
  },
  {
   "cell_type": "code",
   "execution_count": 12,
   "metadata": {},
   "outputs": [
    {
     "name": "stdout",
     "output_type": "stream",
     "text": [
      "/home/beth/Galvanize/capstone/capstone_2/src\r\n"
     ]
    }
   ],
   "source": [
    "!pwd"
   ]
  },
  {
   "cell_type": "code",
   "execution_count": 13,
   "metadata": {},
   "outputs": [],
   "source": [
    "df_index_1 = df_index.iloc[:44597,:]"
   ]
  },
  {
   "cell_type": "code",
   "execution_count": 14,
   "metadata": {
    "scrolled": true
   },
   "outputs": [
    {
     "data": {
      "text/html": [
       "<div>\n",
       "<style scoped>\n",
       "    .dataframe tbody tr th:only-of-type {\n",
       "        vertical-align: middle;\n",
       "    }\n",
       "\n",
       "    .dataframe tbody tr th {\n",
       "        vertical-align: top;\n",
       "    }\n",
       "\n",
       "    .dataframe thead th {\n",
       "        text-align: right;\n",
       "    }\n",
       "</style>\n",
       "<table border=\"1\" class=\"dataframe\">\n",
       "  <thead>\n",
       "    <tr style=\"text-align: right;\">\n",
       "      <th></th>\n",
       "      <th>image_id</th>\n",
       "      <th>grapheme_root</th>\n",
       "      <th>vowel_diacritic</th>\n",
       "      <th>consonant_diacritic</th>\n",
       "      <th>grapheme</th>\n",
       "    </tr>\n",
       "  </thead>\n",
       "  <tbody>\n",
       "    <tr>\n",
       "      <th>0</th>\n",
       "      <td>Train_0.jpg</td>\n",
       "      <td>15</td>\n",
       "      <td>9</td>\n",
       "      <td>5</td>\n",
       "      <td>ক্ট্রো</td>\n",
       "    </tr>\n",
       "    <tr>\n",
       "      <th>1</th>\n",
       "      <td>Train_1.jpg</td>\n",
       "      <td>159</td>\n",
       "      <td>0</td>\n",
       "      <td>0</td>\n",
       "      <td>হ</td>\n",
       "    </tr>\n",
       "    <tr>\n",
       "      <th>2</th>\n",
       "      <td>Train_2.jpg</td>\n",
       "      <td>22</td>\n",
       "      <td>3</td>\n",
       "      <td>5</td>\n",
       "      <td>খ্রী</td>\n",
       "    </tr>\n",
       "    <tr>\n",
       "      <th>3</th>\n",
       "      <td>Train_3.jpg</td>\n",
       "      <td>53</td>\n",
       "      <td>2</td>\n",
       "      <td>2</td>\n",
       "      <td>র্টি</td>\n",
       "    </tr>\n",
       "    <tr>\n",
       "      <th>4</th>\n",
       "      <td>Train_4.jpg</td>\n",
       "      <td>71</td>\n",
       "      <td>9</td>\n",
       "      <td>5</td>\n",
       "      <td>থ্রো</td>\n",
       "    </tr>\n",
       "    <tr>\n",
       "      <th>...</th>\n",
       "      <td>...</td>\n",
       "      <td>...</td>\n",
       "      <td>...</td>\n",
       "      <td>...</td>\n",
       "      <td>...</td>\n",
       "    </tr>\n",
       "    <tr>\n",
       "      <th>44592</th>\n",
       "      <td>Train_44592.jpg</td>\n",
       "      <td>78</td>\n",
       "      <td>1</td>\n",
       "      <td>0</td>\n",
       "      <td>দ্মা</td>\n",
       "    </tr>\n",
       "    <tr>\n",
       "      <th>44593</th>\n",
       "      <td>Train_44593.jpg</td>\n",
       "      <td>86</td>\n",
       "      <td>2</td>\n",
       "      <td>0</td>\n",
       "      <td>ন্তি</td>\n",
       "    </tr>\n",
       "    <tr>\n",
       "      <th>44594</th>\n",
       "      <td>Train_44594.jpg</td>\n",
       "      <td>140</td>\n",
       "      <td>0</td>\n",
       "      <td>0</td>\n",
       "      <td>ষ্ক</td>\n",
       "    </tr>\n",
       "    <tr>\n",
       "      <th>44595</th>\n",
       "      <td>Train_44595.jpg</td>\n",
       "      <td>18</td>\n",
       "      <td>9</td>\n",
       "      <td>0</td>\n",
       "      <td>ক্ষো</td>\n",
       "    </tr>\n",
       "    <tr>\n",
       "      <th>44596</th>\n",
       "      <td>Train_44596.jpg</td>\n",
       "      <td>64</td>\n",
       "      <td>4</td>\n",
       "      <td>2</td>\n",
       "      <td>র্তু</td>\n",
       "    </tr>\n",
       "  </tbody>\n",
       "</table>\n",
       "<p>44597 rows × 5 columns</p>\n",
       "</div>"
      ],
      "text/plain": [
       "              image_id  grapheme_root  vowel_diacritic  consonant_diacritic  \\\n",
       "0          Train_0.jpg             15                9                    5   \n",
       "1          Train_1.jpg            159                0                    0   \n",
       "2          Train_2.jpg             22                3                    5   \n",
       "3          Train_3.jpg             53                2                    2   \n",
       "4          Train_4.jpg             71                9                    5   \n",
       "...                ...            ...              ...                  ...   \n",
       "44592  Train_44592.jpg             78                1                    0   \n",
       "44593  Train_44593.jpg             86                2                    0   \n",
       "44594  Train_44594.jpg            140                0                    0   \n",
       "44595  Train_44595.jpg             18                9                    0   \n",
       "44596  Train_44596.jpg             64                4                    2   \n",
       "\n",
       "      grapheme  \n",
       "0       ক্ট্রো  \n",
       "1            হ  \n",
       "2         খ্রী  \n",
       "3         র্টি  \n",
       "4         থ্রো  \n",
       "...        ...  \n",
       "44592     দ্মা  \n",
       "44593     ন্তি  \n",
       "44594      ষ্ক  \n",
       "44595     ক্ষো  \n",
       "44596     র্তু  \n",
       "\n",
       "[44597 rows x 5 columns]"
      ]
     },
     "execution_count": 14,
     "metadata": {},
     "output_type": "execute_result"
    }
   ],
   "source": [
    "df_index_1"
   ]
  },
  {
   "cell_type": "code",
   "execution_count": 15,
   "metadata": {},
   "outputs": [
    {
     "data": {
      "text/plain": [
       "<AxesSubplot:>"
      ]
     },
     "execution_count": 15,
     "metadata": {},
     "output_type": "execute_result"
    },
    {
     "data": {
      "image/png": "[encoded data removed]",
      "text/plain": [
       "<Figure size 720x1440 with 1 Axes>"
      ]
     },
     "metadata": {
      "needs_background": "light"
     },
     "output_type": "display_data"
    }
   ],
   "source": [
    "plt.figure(figsize=(10,20))\n",
    "df_index_1['grapheme_root'].value_counts().sort_index().plot.barh()  "
   ]
  },
  {
   "cell_type": "code",
   "execution_count": 16,
   "metadata": {},
   "outputs": [
    {
     "data": {
      "text/plain": [
       "<AxesSubplot:>"
      ]
     },
     "execution_count": 16,
     "metadata": {},
     "output_type": "execute_result"
    },
    {
     "data": {
      "image/png": "[encoded data removed]",
      "text/plain": [
       "<Figure size 432x288 with 1 Axes>"
      ]
     },
     "metadata": {
      "needs_background": "light"
     },
     "output_type": "display_data"
    }
   ],
   "source": [
    "df_index_1['vowel_diacritic'].value_counts().sort_index().plot.barh()  "
   ]
  },
  {
   "cell_type": "code",
   "execution_count": 17,
   "metadata": {},
   "outputs": [
    {
     "data": {
      "text/plain": [
       "<AxesSubplot:>"
      ]
     },
     "execution_count": 17,
     "metadata": {},
     "output_type": "execute_result"
    },
    {
     "data": {
      "image/png": "[encoded data removed]",
      "text/plain": [
       "<Figure size 432x288 with 1 Axes>"
      ]
     },
     "metadata": {
      "needs_background": "light"
     },
     "output_type": "display_data"
    }
   ],
   "source": [
    "df_index_1['consonant_diacritic'].value_counts().sort_index().plot.barh()  "
   ]
  },
  {
   "cell_type": "code",
   "execution_count": null,
   "metadata": {},
   "outputs": [],
   "source": []
  },
  {
   "cell_type": "code",
   "execution_count": 18,
   "metadata": {},
   "outputs": [
    {
     "name": "stdout",
     "output_type": "stream",
     "text": [
      "168\n"
     ]
    },
    {
     "data": {
      "text/plain": [
       "72     1284\n",
       "64     1247\n",
       "13     1236\n",
       "23     1129\n",
       "107    1110\n",
       "       ... \n",
       "63       27\n",
       "126      26\n",
       "45       24\n",
       "102      24\n",
       "73       22\n",
       "Name: grapheme_root, Length: 168, dtype: int64"
      ]
     },
     "execution_count": 18,
     "metadata": {},
     "output_type": "execute_result"
    }
   ],
   "source": [
    "print(len(df_index_1['grapheme_root'].value_counts()))\n",
    "df_index_1['grapheme_root'].value_counts()"
   ]
  },
  {
   "cell_type": "code",
   "execution_count": 19,
   "metadata": {},
   "outputs": [
    {
     "name": "stdout",
     "output_type": "stream",
     "text": [
      "11\n"
     ]
    },
    {
     "data": {
      "text/plain": [
       "0     9290\n",
       "1     8159\n",
       "7     6414\n",
       "2     5813\n",
       "4     4109\n",
       "3     3613\n",
       "9     3494\n",
       "5     1220\n",
       "6      951\n",
       "8      769\n",
       "10     765\n",
       "Name: vowel_diacritic, dtype: int64"
      ]
     },
     "execution_count": 19,
     "metadata": {},
     "output_type": "execute_result"
    }
   ],
   "source": [
    "print(len(df_index_1['vowel_diacritic'].value_counts()))\n",
    "df_index_1['vowel_diacritic'].value_counts()"
   ]
  },
  {
   "cell_type": "code",
   "execution_count": 20,
   "metadata": {},
   "outputs": [
    {
     "name": "stdout",
     "output_type": "stream",
     "text": [
      "7\n"
     ]
    },
    {
     "data": {
      "text/plain": [
       "0    27933\n",
       "2     5168\n",
       "5     4784\n",
       "4     4639\n",
       "1     1641\n",
       "6      293\n",
       "3      139\n",
       "Name: consonant_diacritic, dtype: int64"
      ]
     },
     "execution_count": 20,
     "metadata": {},
     "output_type": "execute_result"
    }
   ],
   "source": [
    "print(len(df_index_1['consonant_diacritic'].value_counts()))\n",
    "df_index_1['consonant_diacritic'].value_counts() "
   ]
  },
  {
   "cell_type": "code",
   "execution_count": null,
   "metadata": {},
   "outputs": [],
   "source": []
  },
  {
   "cell_type": "code",
   "execution_count": 21,
   "metadata": {},
   "outputs": [],
   "source": [
    "df_shuffle = df_index_1.sample(frac=1) #shuffle"
   ]
  },
  {
   "cell_type": "code",
   "execution_count": 22,
   "metadata": {},
   "outputs": [],
   "source": [
    "train = df_shuffle.iloc[:int(0.8*len(df_index_1)),:]\n",
    "test = df_shuffle.iloc[int(0.8*len(df_index_1)):,:]"
   ]
  },
  {
   "cell_type": "code",
   "execution_count": 167,
   "metadata": {},
   "outputs": [
    {
     "data": {
      "text/plain": [
       "0"
      ]
     },
     "execution_count": 167,
     "metadata": {},
     "output_type": "execute_result"
    }
   ],
   "source": [
    "train.iloc[30415,:][3]"
   ]
  },
  {
   "cell_type": "code",
   "execution_count": 36,
   "metadata": {},
   "outputs": [
    {
     "data": {
      "text/html": [
       "<div>\n",
       "<style scoped>\n",
       "    .dataframe tbody tr th:only-of-type {\n",
       "        vertical-align: middle;\n",
       "    }\n",
       "\n",
       "    .dataframe tbody tr th {\n",
       "        vertical-align: top;\n",
       "    }\n",
       "\n",
       "    .dataframe thead th {\n",
       "        text-align: right;\n",
       "    }\n",
       "</style>\n",
       "<table border=\"1\" class=\"dataframe\">\n",
       "  <thead>\n",
       "    <tr style=\"text-align: right;\">\n",
       "      <th></th>\n",
       "      <th>image_id</th>\n",
       "      <th>grapheme_root</th>\n",
       "      <th>vowel_diacritic</th>\n",
       "      <th>consonant_diacritic</th>\n",
       "      <th>grapheme</th>\n",
       "    </tr>\n",
       "  </thead>\n",
       "  <tbody>\n",
       "    <tr>\n",
       "      <th>23105</th>\n",
       "      <td>Train_23105.jpg</td>\n",
       "      <td>64</td>\n",
       "      <td>8</td>\n",
       "      <td>0</td>\n",
       "      <td>তৈ</td>\n",
       "    </tr>\n",
       "  </tbody>\n",
       "</table>\n",
       "</div>"
      ],
      "text/plain": [
       "              image_id  grapheme_root  vowel_diacritic  consonant_diacritic  \\\n",
       "23105  Train_23105.jpg             64                8                    0   \n",
       "\n",
       "      grapheme  \n",
       "23105       তৈ  "
      ]
     },
     "execution_count": 36,
     "metadata": {},
     "output_type": "execute_result"
    }
   ],
   "source": [
    "train.sample()"
   ]
  },
  {
   "cell_type": "code",
   "execution_count": 139,
   "metadata": {},
   "outputs": [],
   "source": [
    "from PIL import Image \n",
    "\n",
    "def mygenerator(dataframe): # X = image, y = target\n",
    "    while True:\n",
    "        sample = dataframe.sample()\n",
    "        TRAIN_DIR = '/home/beth/Galvanize/capstone/capstone_2/data/train/train/'\n",
    "        image_name = TRAIN_DIR + sample['image_id'].values[0]\n",
    "        image=Image.open(image_name)\n",
    "        y=np.zeros(7)\n",
    "        y[sample[\"consonant_diacritic\"].values[0]]=1   \n",
    "        X = np.array(image).astype(np.int32)\n",
    "        y = y.astype(np.int32).reshape(1,7) \n",
    "#         X = np.array([X,X,X]).reshape(1,137,236,3)\n",
    "        X = X.reshape(1,137,236,1)\n",
    "        yield X,y\n",
    "# infinite numbers of X and y    "
   ]
  },
  {
   "cell_type": "code",
   "execution_count": 140,
   "metadata": {},
   "outputs": [],
   "source": [
    "X,y = next(mygenerator(train)) # randomly pick a row "
   ]
  },
  {
   "cell_type": "code",
   "execution_count": 141,
   "metadata": {},
   "outputs": [
    {
     "data": {
      "text/plain": [
       "(1, 137, 236, 1)"
      ]
     },
     "execution_count": 141,
     "metadata": {},
     "output_type": "execute_result"
    }
   ],
   "source": [
    "X.shape"
   ]
  },
  {
   "cell_type": "code",
   "execution_count": 142,
   "metadata": {},
   "outputs": [
    {
     "data": {
      "text/plain": [
       "<matplotlib.image.AxesImage at 0x7f6c74261c10>"
      ]
     },
     "execution_count": 142,
     "metadata": {},
     "output_type": "execute_result"
    },
    {
     "data": {
      "image/png": "[encoded data removed]",
      "text/plain": [
       "<Figure size 432x288 with 1 Axes>"
      ]
     },
     "metadata": {
      "needs_background": "light"
     },
     "output_type": "display_data"
    }
   ],
   "source": [
    "plt.imshow(X[0,:,:,0])"
   ]
  },
  {
   "cell_type": "code",
   "execution_count": 40,
   "metadata": {},
   "outputs": [
    {
     "data": {
      "text/plain": [
       "array([[1, 0, 0, 0, 0, 0, 0]], dtype=int32)"
      ]
     },
     "execution_count": 40,
     "metadata": {},
     "output_type": "execute_result"
    }
   ],
   "source": [
    "y"
   ]
  },
  {
   "cell_type": "code",
   "execution_count": 29,
   "metadata": {},
   "outputs": [],
   "source": [
    "# wanna try ResNet and AlexNet 3-31-2021"
   ]
  },
  {
   "cell_type": "code",
   "execution_count": 172,
   "metadata": {},
   "outputs": [],
   "source": [
    "model = keras.models.Sequential([\n",
    "    keras.layers.Conv2D(32, 7, activation=\"relu\", padding=\"valid\", input_shape=(137,236,1)),#input shape: [rows, columns, channels]\n",
    "    keras.layers.Conv2D(32, 3, activation=\"relu\", padding=\"valid\"),\n",
    "    keras.layers.MaxPooling2D(2),\n",
    "\n",
    "    keras.layers.Conv2D(64, 3, activation=\"relu\", padding=\"valid\"),\n",
    "    keras.layers.Conv2D(64, 3, activation=\"relu\", padding=\"valid\"),\n",
    "    keras.layers.MaxPooling2D(2),\n",
    "    \n",
    "    keras.layers.Conv2D(128, 3, activation=\"relu\", padding=\"valid\"),\n",
    "    keras.layers.MaxPooling2D(2),\n",
    "    \n",
    "    keras.layers.Flatten(),\n",
    "    keras.layers.Dense(128, activation=\"relu\"),\n",
    "    keras.layers.Dropout(0.3),     # < --------------------------\n",
    "    keras.layers.Dense(64, activation=\"relu\"),\n",
    "    keras.layers.Dropout(0.3),     # < --------------------------\n",
    "    keras.layers.Dense(7, activation=\"softmax\")\n",
    "])\n",
    "\n",
    "model.compile(loss='categorical_crossentropy',\n",
    "                optimizer='adam',\n",
    "                metrics=['accuracy', keras.metrics.Recall()])\n",
    "\n",
    "# Details/Retrospectives:\n",
    "\n",
    "# - did not Norm layers (not common anymore)\n",
    "# - no data augmentation\n",
    "# - dropout 0.3  <--------------------------\n",
    "# - batch size 32 <--------------------------\n",
    "# - no SGD Momentum \n",
    "# - no Learning rate, reduced by 10 manually when val accuracy plateaus\n",
    "# - no L2 weight decay 5\n",
    "# - no 7 CNN ensemble: \n"
   ]
  },
  {
   "cell_type": "code",
   "execution_count": 173,
   "metadata": {},
   "outputs": [
    {
     "name": "stdout",
     "output_type": "stream",
     "text": [
      "Model: \"sequential_7\"\n",
      "_________________________________________________________________\n",
      "Layer (type)                 Output Shape              Param #   \n",
      "=================================================================\n",
      "conv2d_21 (Conv2D)           (None, 131, 230, 32)      1600      \n",
      "_________________________________________________________________\n",
      "conv2d_22 (Conv2D)           (None, 129, 228, 32)      9248      \n",
      "_________________________________________________________________\n",
      "max_pooling2d_21 (MaxPooling (None, 64, 114, 32)       0         \n",
      "_________________________________________________________________\n",
      "conv2d_23 (Conv2D)           (None, 62, 112, 64)       18496     \n",
      "_________________________________________________________________\n",
      "conv2d_24 (Conv2D)           (None, 60, 110, 64)       36928     \n",
      "_________________________________________________________________\n",
      "max_pooling2d_22 (MaxPooling (None, 30, 55, 64)        0         \n",
      "_________________________________________________________________\n",
      "conv2d_25 (Conv2D)           (None, 28, 53, 128)       73856     \n",
      "_________________________________________________________________\n",
      "max_pooling2d_23 (MaxPooling (None, 14, 26, 128)       0         \n",
      "_________________________________________________________________\n",
      "flatten_7 (Flatten)          (None, 46592)             0         \n",
      "_________________________________________________________________\n",
      "dense_21 (Dense)             (None, 128)               5963904   \n",
      "_________________________________________________________________\n",
      "dropout_14 (Dropout)         (None, 128)               0         \n",
      "_________________________________________________________________\n",
      "dense_22 (Dense)             (None, 64)                8256      \n",
      "_________________________________________________________________\n",
      "dropout_15 (Dropout)         (None, 64)                0         \n",
      "_________________________________________________________________\n",
      "dense_23 (Dense)             (None, 7)                 455       \n",
      "=================================================================\n",
      "Total params: 6,112,743\n",
      "Trainable params: 6,112,743\n",
      "Non-trainable params: 0\n",
      "_________________________________________________________________\n"
     ]
    }
   ],
   "source": [
    "model.summary()"
   ]
  },
  {
   "cell_type": "code",
   "execution_count": 166,
   "metadata": {},
   "outputs": [
    {
     "name": "stdout",
     "output_type": "stream",
     "text": [
      "Epoch 1/75\n",
      "64/64 [==============================] - 6s 96ms/step - loss: 1.2213 - accuracy: 0.6406 - recall_3: 0.5781 - val_loss: 1.0408 - val_accuracy: 0.6667 - val_recall_3: 0.6667\n",
      "Epoch 2/75\n",
      "64/64 [==============================] - 6s 96ms/step - loss: 1.1207 - accuracy: 0.6406 - recall_3: 0.6406 - val_loss: 0.9901 - val_accuracy: 0.7333 - val_recall_3: 0.7333\n",
      "Epoch 3/75\n",
      "64/64 [==============================] - 6s 97ms/step - loss: 1.3092 - accuracy: 0.6406 - recall_3: 0.6406 - val_loss: 0.9390 - val_accuracy: 0.7333 - val_recall_3: 0.7333\n",
      "Epoch 4/75\n",
      "64/64 [==============================] - 6s 96ms/step - loss: 1.2421 - accuracy: 0.5625 - recall_3: 0.5156 - val_loss: 1.4197 - val_accuracy: 0.5667 - val_recall_3: 0.5667\n",
      "Epoch 5/75\n",
      "64/64 [==============================] - 6s 96ms/step - loss: 0.9992 - accuracy: 0.7188 - recall_3: 0.6719 - val_loss: 1.2035 - val_accuracy: 0.6000 - val_recall_3: 0.6000\n",
      "Epoch 6/75\n",
      "64/64 [==============================] - 6s 96ms/step - loss: 1.1968 - accuracy: 0.6406 - recall_3: 0.6250 - val_loss: 1.3734 - val_accuracy: 0.5333 - val_recall_3: 0.5333\n",
      "Epoch 7/75\n",
      "64/64 [==============================] - 6s 96ms/step - loss: 1.3409 - accuracy: 0.5781 - recall_3: 0.5469 - val_loss: 0.9695 - val_accuracy: 0.7667 - val_recall_3: 0.7667\n",
      "Epoch 8/75\n",
      "64/64 [==============================] - 6s 98ms/step - loss: 1.2292 - accuracy: 0.6406 - recall_3: 0.6250 - val_loss: 1.2046 - val_accuracy: 0.6000 - val_recall_3: 0.6000\n",
      "Epoch 9/75\n",
      "64/64 [==============================] - 6s 100ms/step - loss: 8.6652 - accuracy: 0.6562 - recall_3: 0.6250 - val_loss: 1.2510 - val_accuracy: 0.6000 - val_recall_3: 0.6000\n",
      "Epoch 10/75\n",
      "64/64 [==============================] - 6s 99ms/step - loss: 1.2137 - accuracy: 0.6250 - recall_3: 0.5938 - val_loss: 1.1549 - val_accuracy: 0.6333 - val_recall_3: 0.6333\n",
      "Epoch 11/75\n",
      "64/64 [==============================] - 6s 100ms/step - loss: 1.3112 - accuracy: 0.5938 - recall_3: 0.5781 - val_loss: 1.1063 - val_accuracy: 0.6667 - val_recall_3: 0.6667\n",
      "Epoch 12/75\n",
      "64/64 [==============================] - 6s 101ms/step - loss: 1.3626 - accuracy: 0.5625 - recall_3: 0.5312 - val_loss: 1.0068 - val_accuracy: 0.7000 - val_recall_3: 0.7000\n",
      "Epoch 13/75\n",
      "64/64 [==============================] - 6s 100ms/step - loss: 1.1842 - accuracy: 0.6250 - recall_3: 0.5469 - val_loss: 0.9758 - val_accuracy: 0.7667 - val_recall_3: 0.7667\n",
      "Epoch 14/75\n",
      "64/64 [==============================] - 6s 101ms/step - loss: 1.1738 - accuracy: 0.6250 - recall_3: 0.6250 - val_loss: 1.0985 - val_accuracy: 0.6333 - val_recall_3: 0.6333\n",
      "Epoch 15/75\n",
      "64/64 [==============================] - 6s 100ms/step - loss: 1.1330 - accuracy: 0.6562 - recall_3: 0.6406 - val_loss: 1.2907 - val_accuracy: 0.6000 - val_recall_3: 0.6000\n",
      "Epoch 16/75\n",
      "64/64 [==============================] - 6s 100ms/step - loss: 1.1953 - accuracy: 0.5938 - recall_3: 0.5938 - val_loss: 1.2393 - val_accuracy: 0.6000 - val_recall_3: 0.6000\n",
      "Epoch 17/75\n",
      "64/64 [==============================] - 6s 100ms/step - loss: 1.1732 - accuracy: 0.6250 - recall_3: 0.6250 - val_loss: 1.0392 - val_accuracy: 0.7000 - val_recall_3: 0.7000\n",
      "Epoch 18/75\n",
      "64/64 [==============================] - 7s 104ms/step - loss: 1.3416 - accuracy: 0.5469 - recall_3: 0.5000 - val_loss: 1.4022 - val_accuracy: 0.5667 - val_recall_3: 0.5667\n",
      "Epoch 19/75\n",
      "64/64 [==============================] - 7s 102ms/step - loss: 1.0910 - accuracy: 0.6562 - recall_3: 0.5781 - val_loss: 1.3664 - val_accuracy: 0.5000 - val_recall_3: 0.5000\n",
      "Epoch 20/75\n",
      "64/64 [==============================] - 6s 100ms/step - loss: 1.0112 - accuracy: 0.7031 - recall_3: 0.6875 - val_loss: 0.9645 - val_accuracy: 0.7667 - val_recall_3: 0.7667\n",
      "Epoch 21/75\n",
      "64/64 [==============================] - 6s 100ms/step - loss: 1.3289 - accuracy: 0.5312 - recall_3: 0.5156 - val_loss: 1.0730 - val_accuracy: 0.6667 - val_recall_3: 0.6667\n",
      "Epoch 22/75\n",
      "64/64 [==============================] - 6s 100ms/step - loss: 1.0841 - accuracy: 0.7031 - recall_3: 0.6875 - val_loss: 1.4948 - val_accuracy: 0.5000 - val_recall_3: 0.5000\n",
      "Epoch 23/75\n",
      "64/64 [==============================] - 6s 100ms/step - loss: 1.1535 - accuracy: 0.6250 - recall_3: 0.5625 - val_loss: 1.1703 - val_accuracy: 0.6667 - val_recall_3: 0.6667\n",
      "Epoch 24/75\n",
      "64/64 [==============================] - 6s 101ms/step - loss: 1.1277 - accuracy: 0.6562 - recall_3: 0.6562 - val_loss: 1.3320 - val_accuracy: 0.6333 - val_recall_3: 0.6333\n",
      "Epoch 25/75\n",
      "64/64 [==============================] - 6s 102ms/step - loss: 1.5298 - accuracy: 0.4688 - recall_3: 0.4531 - val_loss: 1.0548 - val_accuracy: 0.7000 - val_recall_3: 0.7000\n",
      "Epoch 26/75\n",
      "64/64 [==============================] - 6s 100ms/step - loss: 1.2847 - accuracy: 0.5625 - recall_3: 0.4531 - val_loss: 0.9578 - val_accuracy: 0.7667 - val_recall_3: 0.7667\n",
      "Epoch 27/75\n",
      "64/64 [==============================] - 7s 102ms/step - loss: 1.2368 - accuracy: 0.6250 - recall_3: 0.5312 - val_loss: 1.2074 - val_accuracy: 0.6000 - val_recall_3: 0.6000\n",
      "Epoch 28/75\n",
      "64/64 [==============================] - 6s 99ms/step - loss: 1.1944 - accuracy: 0.6562 - recall_3: 0.6562 - val_loss: 0.9994 - val_accuracy: 0.7333 - val_recall_3: 0.7333\n",
      "Epoch 29/75\n",
      "64/64 [==============================] - 7s 107ms/step - loss: 1.0388 - accuracy: 0.6719 - recall_3: 0.6719 - val_loss: 1.2483 - val_accuracy: 0.6000 - val_recall_3: 0.6000\n",
      "Epoch 30/75\n",
      "64/64 [==============================] - 7s 102ms/step - loss: 1.0879 - accuracy: 0.6719 - recall_3: 0.6562 - val_loss: 1.1894 - val_accuracy: 0.6333 - val_recall_3: 0.6333\n",
      "Epoch 31/75\n",
      "64/64 [==============================] - 6s 101ms/step - loss: 1.1876 - accuracy: 0.6562 - recall_3: 0.6562 - val_loss: 1.1243 - val_accuracy: 0.7000 - val_recall_3: 0.7000\n",
      "Epoch 32/75\n",
      "64/64 [==============================] - 6s 102ms/step - loss: 1.1152 - accuracy: 0.6719 - recall_3: 0.6719 - val_loss: 1.1675 - val_accuracy: 0.6667 - val_recall_3: 0.6667\n",
      "Epoch 33/75\n",
      "64/64 [==============================] - 6s 101ms/step - loss: 1.2810 - accuracy: 0.6250 - recall_3: 0.6250 - val_loss: 1.2961 - val_accuracy: 0.5667 - val_recall_3: 0.5667\n",
      "Epoch 34/75\n",
      "64/64 [==============================] - 6s 101ms/step - loss: 1.1825 - accuracy: 0.6406 - recall_3: 0.6094 - val_loss: 1.0911 - val_accuracy: 0.6667 - val_recall_3: 0.6667\n",
      "Epoch 35/75\n",
      "64/64 [==============================] - 6s 100ms/step - loss: 1.3441 - accuracy: 0.5469 - recall_3: 0.5156 - val_loss: 1.3967 - val_accuracy: 0.4667 - val_recall_3: 0.4667\n",
      "Epoch 36/75\n",
      "64/64 [==============================] - 6s 100ms/step - loss: 1.0615 - accuracy: 0.6875 - recall_3: 0.6719 - val_loss: 1.2365 - val_accuracy: 0.6333 - val_recall_3: 0.6333\n",
      "Epoch 37/75\n",
      "64/64 [==============================] - 6s 100ms/step - loss: 1.2893 - accuracy: 0.6094 - recall_3: 0.6094 - val_loss: 1.0120 - val_accuracy: 0.7667 - val_recall_3: 0.7667\n",
      "Epoch 38/75\n",
      "64/64 [==============================] - 7s 106ms/step - loss: 1.1857 - accuracy: 0.6250 - recall_3: 0.6250 - val_loss: 0.9801 - val_accuracy: 0.7000 - val_recall_3: 0.7000\n",
      "Epoch 39/75\n",
      "64/64 [==============================] - 7s 103ms/step - loss: 1.3987 - accuracy: 0.5312 - recall_3: 0.5000 - val_loss: 1.0825 - val_accuracy: 0.7000 - val_recall_3: 0.7000\n",
      "Epoch 40/75\n",
      "64/64 [==============================] - 7s 104ms/step - loss: 1.3008 - accuracy: 0.6406 - recall_3: 0.5938 - val_loss: 1.4477 - val_accuracy: 0.6333 - val_recall_3: 0.6333\n",
      "Epoch 41/75\n",
      "64/64 [==============================] - 6s 101ms/step - loss: 1.1962 - accuracy: 0.6250 - recall_3: 0.6094 - val_loss: 1.5933 - val_accuracy: 0.4667 - val_recall_3: 0.4667\n",
      "Epoch 42/75\n",
      "64/64 [==============================] - 7s 103ms/step - loss: 1.1743 - accuracy: 0.6875 - recall_3: 0.6875 - val_loss: 1.0782 - val_accuracy: 0.7000 - val_recall_3: 0.7000\n",
      "Epoch 43/75\n",
      "64/64 [==============================] - 7s 105ms/step - loss: 1.2007 - accuracy: 0.5938 - recall_3: 0.5938 - val_loss: 1.0792 - val_accuracy: 0.6667 - val_recall_3: 0.6667\n",
      "Epoch 44/75\n",
      "64/64 [==============================] - 7s 102ms/step - loss: 1.1928 - accuracy: 0.6250 - recall_3: 0.6250 - val_loss: 1.1673 - val_accuracy: 0.6333 - val_recall_3: 0.6333\n",
      "Epoch 45/75\n",
      "64/64 [==============================] - 6s 102ms/step - loss: 1.1115 - accuracy: 0.6406 - recall_3: 0.6250 - val_loss: 0.9963 - val_accuracy: 0.7000 - val_recall_3: 0.7000\n",
      "Epoch 46/75\n",
      "64/64 [==============================] - 6s 99ms/step - loss: 1.2667 - accuracy: 0.6406 - recall_3: 0.6094 - val_loss: 0.9444 - val_accuracy: 0.7333 - val_recall_3: 0.7333\n",
      "Epoch 47/75\n",
      "64/64 [==============================] - 6s 100ms/step - loss: 1.3047 - accuracy: 0.5938 - recall_3: 0.5000 - val_loss: 0.9096 - val_accuracy: 0.8000 - val_recall_3: 0.8000\n",
      "Epoch 48/75\n",
      "64/64 [==============================] - 6s 99ms/step - loss: 1.4095 - accuracy: 0.5156 - recall_3: 0.4688 - val_loss: 1.3325 - val_accuracy: 0.5000 - val_recall_3: 0.5000\n",
      "Epoch 49/75\n",
      "64/64 [==============================] - 6s 98ms/step - loss: 1.1544 - accuracy: 0.6562 - recall_3: 0.6406 - val_loss: 1.3397 - val_accuracy: 0.5333 - val_recall_3: 0.5333\n",
      "Epoch 50/75\n",
      "64/64 [==============================] - 6s 99ms/step - loss: 1.2246 - accuracy: 0.5938 - recall_3: 0.5625 - val_loss: 1.0776 - val_accuracy: 0.7000 - val_recall_3: 0.7000\n",
      "Epoch 51/75\n",
      "64/64 [==============================] - 6s 101ms/step - loss: 1.1816 - accuracy: 0.6250 - recall_3: 0.5938 - val_loss: 0.9855 - val_accuracy: 0.7333 - val_recall_3: 0.7333\n",
      "Epoch 52/75\n",
      "64/64 [==============================] - 6s 102ms/step - loss: 1.1889 - accuracy: 0.6250 - recall_3: 0.6094 - val_loss: 1.0071 - val_accuracy: 0.7000 - val_recall_3: 0.7000\n",
      "Epoch 53/75\n",
      "64/64 [==============================] - 6s 101ms/step - loss: 1.3616 - accuracy: 0.5781 - recall_3: 0.5625 - val_loss: 1.3161 - val_accuracy: 0.5333 - val_recall_3: 0.5333\n",
      "Epoch 54/75\n",
      "64/64 [==============================] - 6s 100ms/step - loss: 1.2386 - accuracy: 0.6250 - recall_3: 0.5938 - val_loss: 1.4634 - val_accuracy: 0.5333 - val_recall_3: 0.5333\n",
      "Epoch 55/75\n",
      "64/64 [==============================] - 6s 98ms/step - loss: 1.0660 - accuracy: 0.6875 - recall_3: 0.6562 - val_loss: 1.2653 - val_accuracy: 0.6667 - val_recall_3: 0.6667\n",
      "Epoch 56/75\n",
      "64/64 [==============================] - 6s 99ms/step - loss: 1.1857 - accuracy: 0.6406 - recall_3: 0.6406 - val_loss: 1.0829 - val_accuracy: 0.6667 - val_recall_3: 0.6667\n",
      "Epoch 57/75\n",
      "64/64 [==============================] - 6s 100ms/step - loss: 1.3621 - accuracy: 0.5469 - recall_3: 0.5469 - val_loss: 1.2589 - val_accuracy: 0.5667 - val_recall_3: 0.5667\n",
      "Epoch 58/75\n",
      "64/64 [==============================] - 6s 102ms/step - loss: 1.2778 - accuracy: 0.5938 - recall_3: 0.5625 - val_loss: 1.4804 - val_accuracy: 0.5000 - val_recall_3: 0.5000\n",
      "Epoch 59/75\n",
      "64/64 [==============================] - 6s 101ms/step - loss: 0.9980 - accuracy: 0.7344 - recall_3: 0.7031 - val_loss: 1.6351 - val_accuracy: 0.4333 - val_recall_3: 0.4333\n",
      "Epoch 60/75\n",
      "64/64 [==============================] - 7s 105ms/step - loss: 1.2508 - accuracy: 0.6094 - recall_3: 0.5938 - val_loss: 1.5233 - val_accuracy: 0.4667 - val_recall_3: 0.4667\n",
      "Epoch 61/75\n",
      "64/64 [==============================] - 7s 109ms/step - loss: 1.1274 - accuracy: 0.6562 - recall_3: 0.6562 - val_loss: 1.1832 - val_accuracy: 0.6333 - val_recall_3: 0.6333\n",
      "Epoch 62/75\n",
      "64/64 [==============================] - 7s 107ms/step - loss: 1.3274 - accuracy: 0.5625 - recall_3: 0.5469 - val_loss: 1.0973 - val_accuracy: 0.6667 - val_recall_3: 0.6667\n",
      "Epoch 63/75\n",
      "64/64 [==============================] - 7s 118ms/step - loss: 1.1910 - accuracy: 0.6094 - recall_3: 0.5625 - val_loss: 0.9377 - val_accuracy: 0.7333 - val_recall_3: 0.7333\n",
      "Epoch 64/75\n",
      "64/64 [==============================] - 7s 102ms/step - loss: 1.2187 - accuracy: 0.5938 - recall_3: 0.5781 - val_loss: 1.4354 - val_accuracy: 0.5333 - val_recall_3: 0.5333\n",
      "Epoch 65/75\n",
      "64/64 [==============================] - 6s 99ms/step - loss: 1.3149 - accuracy: 0.6719 - recall_3: 0.6406 - val_loss: 1.2879 - val_accuracy: 0.6333 - val_recall_3: 0.6333\n",
      "Epoch 66/75\n",
      "64/64 [==============================] - 6s 100ms/step - loss: 1.2945 - accuracy: 0.5469 - recall_3: 0.5156 - val_loss: 1.3862 - val_accuracy: 0.6000 - val_recall_3: 0.6000\n",
      "Epoch 67/75\n",
      "64/64 [==============================] - 7s 106ms/step - loss: 1.0730 - accuracy: 0.7031 - recall_3: 0.7031 - val_loss: 1.1259 - val_accuracy: 0.6667 - val_recall_3: 0.6667\n",
      "Epoch 68/75\n",
      "64/64 [==============================] - 6s 101ms/step - loss: 1.3766 - accuracy: 0.5625 - recall_3: 0.5469 - val_loss: 1.1459 - val_accuracy: 0.6000 - val_recall_3: 0.6000\n",
      "Epoch 69/75\n",
      "64/64 [==============================] - 7s 102ms/step - loss: 1.2837 - accuracy: 0.5625 - recall_3: 0.5312 - val_loss: 1.2543 - val_accuracy: 0.5667 - val_recall_3: 0.5667\n",
      "Epoch 70/75\n",
      "64/64 [==============================] - 6s 101ms/step - loss: 1.2926 - accuracy: 0.5938 - recall_3: 0.5625 - val_loss: 1.1928 - val_accuracy: 0.6333 - val_recall_3: 0.6333\n",
      "Epoch 71/75\n",
      "64/64 [==============================] - 6s 101ms/step - loss: 0.9552 - accuracy: 0.7656 - recall_3: 0.7500 - val_loss: 0.9584 - val_accuracy: 0.7000 - val_recall_3: 0.7000\n",
      "Epoch 72/75\n",
      "64/64 [==============================] - 7s 104ms/step - loss: 1.3439 - accuracy: 0.6094 - recall_3: 0.6094 - val_loss: 1.0100 - val_accuracy: 0.7333 - val_recall_3: 0.7333\n",
      "Epoch 73/75\n",
      "64/64 [==============================] - 7s 105ms/step - loss: 1.1147 - accuracy: 0.6406 - recall_3: 0.6250 - val_loss: 1.2941 - val_accuracy: 0.6000 - val_recall_3: 0.6000\n",
      "Epoch 74/75\n",
      "64/64 [==============================] - 7s 106ms/step - loss: 1.2356 - accuracy: 0.5938 - recall_3: 0.5938 - val_loss: 1.1877 - val_accuracy: 0.6333 - val_recall_3: 0.6333\n",
      "Epoch 75/75\n",
      "64/64 [==============================] - 7s 104ms/step - loss: 1.1623 - accuracy: 0.6250 - recall_3: 0.6094 - val_loss: 1.3610 - val_accuracy: 0.5667 - val_recall_3: 0.5667\n"
     ]
    }
   ],
   "source": [
    "my_callbacks = [\n",
    "    keras.callbacks.EarlyStopping(patience=100),\n",
    "    keras.callbacks.ModelCheckpoint(filepath='./checkpoint/model.{epoch:02d}-{val_loss:.2f}.h5'),\n",
    "    keras.callbacks.TensorBoard(log_dir='./logs')]\n",
    "\n",
    "\n",
    "history = model.fit(mygenerator(train),\n",
    "                    epochs=75,\n",
    "                    steps_per_epoch=64, #<------------\n",
    "                    validation_data=mygenerator(test),\n",
    "                    validation_steps=30, \n",
    "                    callbacks=my_callbacks)                 \n"
   ]
  },
  {
   "cell_type": "code",
   "execution_count": null,
   "metadata": {},
   "outputs": [],
   "source": []
  },
  {
   "cell_type": "code",
   "execution_count": 51,
   "metadata": {},
   "outputs": [
    {
     "name": "stdout",
     "output_type": "stream",
     "text": [
      "Test score: 1.2019404172897339\n",
      "Test accuracy: 0.625\n"
     ]
    }
   ],
   "source": [
    "score = model.evaluate(mygenerator(test), steps=200,verbose=0)\n",
    "\n",
    "print('Test score:', score[0])\n",
    "print('Test accuracy:', score[1])  # this is the one we care about"
   ]
  },
  {
   "cell_type": "code",
   "execution_count": 169,
   "metadata": {},
   "outputs": [
    {
     "data": {
      "image/png": "[encoded data removed]",
      "text/plain": [
       "<Figure size 432x288 with 2 Axes>"
      ]
     },
     "metadata": {
      "needs_background": "light"
     },
     "output_type": "display_data"
    }
   ],
   "source": [
    "%matplotlib inline\n",
    "import matplotlib.pyplot as plt\n",
    "\n",
    "fig, loss_ax = plt.subplots()\n",
    "\n",
    "acc_ax = loss_ax.twinx()\n",
    "\n",
    "loss_ax.plot(history.history['loss'], 'y', label='train loss')\n",
    "loss_ax.plot(history.history['val_loss'], 'r', label='val loss')\n",
    "\n",
    "acc_ax.plot(history.history['accuracy'], 'b', label='train acc')\n",
    "acc_ax.plot(history.history['val_accuracy'], 'g', label='val acc')\n",
    "\n",
    "loss_ax.set_xlabel('epoch')\n",
    "loss_ax.set_ylabel('loss')\n",
    "acc_ax.set_ylabel('accuray')\n",
    "\n",
    "loss_ax.legend(loc='upper left')\n",
    "acc_ax.legend(loc='lower left')\n",
    "\n",
    "plt.show()\n"
   ]
  },
  {
   "cell_type": "code",
   "execution_count": 170,
   "metadata": {},
   "outputs": [
    {
     "data": {
      "image/png": "[encoded data removed]",
      "text/plain": [
       "<Figure size 432x288 with 1 Axes>"
      ]
     },
     "metadata": {
      "needs_background": "light"
     },
     "output_type": "display_data"
    }
   ],
   "source": [
    "[plt.plot(history.history[i], label=i) for i in history.history.keys()]\n",
    "plt.legend();"
   ]
  },
  {
   "cell_type": "code",
   "execution_count": 148,
   "metadata": {},
   "outputs": [
    {
     "data": {
      "text/plain": [
       "array([0, 0, 0, 0, 0, 0, 0, 0, 0, 0, 0, 0, 0, 0, 0, 0, 0, 0, 0, 0, 0, 0,\n",
       "       0, 0, 0, 0, 0, 0, 0, 0, 0, 0, 0, 0, 0, 0, 0, 0, 0, 0, 0, 0, 0, 0,\n",
       "       0, 0, 0, 0, 0, 0, 0, 0, 0, 0, 0, 0, 0, 0, 0, 0, 0, 0, 0, 0, 0, 0,\n",
       "       0, 0, 0, 0, 0, 0, 0, 0, 0, 0, 0, 0, 0, 0, 0, 0, 0, 0, 0, 0, 0, 0,\n",
       "       0, 0, 0, 0, 0, 0, 0, 0, 0, 0, 0, 0, 0, 0, 0, 0, 0, 0, 0, 0, 0, 0,\n",
       "       0, 0, 0, 0, 0, 0, 0, 0, 0, 0, 0, 0, 0, 0, 0, 0, 0, 0, 0, 0, 0, 0,\n",
       "       0, 0, 0, 0, 0, 0, 0, 0, 0, 0, 0, 0, 0, 0, 0, 0, 0, 0, 0, 0, 0, 0,\n",
       "       0, 0, 0, 0, 0, 0, 0, 0, 0, 0, 0, 0, 0, 0, 0, 0, 0, 0, 0, 0, 0, 0,\n",
       "       0, 0, 0, 0, 0, 0, 0, 0, 0, 0, 0, 0, 0, 0, 0, 0, 0, 0, 0, 0, 0, 0,\n",
       "       0, 0])"
      ]
     },
     "execution_count": 148,
     "metadata": {},
     "output_type": "execute_result"
    }
   ],
   "source": [
    "# confusion matrix\n",
    "from sklearn.metrics import confusion_matrix\n",
    "\n",
    "y_pred = model.predict(mygenerator(test),steps=200) # probability\n",
    "y_pred = np.argmax(y_pred, axis=1) # index of highest prob \n",
    "# Y_pred = model.predict_generator(mygenerator(test))\n",
    "\n",
    "\n",
    "# print('Confusion Matrix')\n",
    "# print(confusion_matrix(y, y_pred))\n",
    "y_pred"
   ]
  },
  {
   "cell_type": "code",
   "execution_count": 147,
   "metadata": {},
   "outputs": [
    {
     "data": {
      "text/plain": [
       "<matplotlib.image.AxesImage at 0x7f6c9427be90>"
      ]
     },
     "execution_count": 147,
     "metadata": {},
     "output_type": "execute_result"
    },
    {
     "data": {
      "image/png": "[encoded data removed]",
      "text/plain": [
       "<Figure size 432x288 with 1 Axes>"
      ]
     },
     "metadata": {
      "needs_background": "light"
     },
     "output_type": "display_data"
    }
   ],
   "source": [
    "x,y= next(mygenerator(test))\n",
    "x.shape\n",
    "y.shape\n",
    "plt.imshow(x[0,:,:,0])"
   ]
  },
  {
   "cell_type": "code",
   "execution_count": 158,
   "metadata": {},
   "outputs": [],
   "source": [
    "prediction = [] \n",
    "actual = []\n",
    "for x,y in mygenerator(test):\n",
    "#     plt.imshow(x[0,:,:,0])\n",
    "    actual.append(y.argmax())\n",
    "    prediction.append(model.predict(x).argmax())\n",
    "    if len(actual)>2000:\n",
    "        break \n",
    "    "
   ]
  },
  {
   "cell_type": "code",
   "execution_count": 1,
   "metadata": {},
   "outputs": [],
   "source": [
    "# actual"
   ]
  },
  {
   "cell_type": "code",
   "execution_count": 2,
   "metadata": {},
   "outputs": [],
   "source": [
    "# prediction"
   ]
  },
  {
   "cell_type": "code",
   "execution_count": 161,
   "metadata": {},
   "outputs": [
    {
     "name": "stdout",
     "output_type": "stream",
     "text": [
      "Confusion Matrix\n",
      "[[1235    0    0    0    0    0    0]\n",
      " [  81    0    0    0    0    0    0]\n",
      " [ 233    0    0    0    0    0    0]\n",
      " [   5    0    0    0    0    0    0]\n",
      " [ 208    0    0    0    0    0    0]\n",
      " [ 233    0    0    0    0    0    0]\n",
      " [   6    0    0    0    0    0    0]]\n"
     ]
    }
   ],
   "source": [
    "print('Confusion Matrix')\n",
    "print(confusion_matrix(actual, prediction))\n"
   ]
  },
  {
   "cell_type": "code",
   "execution_count": 70,
   "metadata": {},
   "outputs": [
    {
     "name": "stdout",
     "output_type": "stream",
     "text": [
      "<generator object mygenerator at 0x7f6c947edd50>\n"
     ]
    }
   ],
   "source": []
  },
  {
   "cell_type": "code",
   "execution_count": 66,
   "metadata": {},
   "outputs": [
    {
     "data": {
      "text/plain": [
       "(1, 7)"
      ]
     },
     "execution_count": 66,
     "metadata": {},
     "output_type": "execute_result"
    }
   ],
   "source": [
    "y.shape"
   ]
  },
  {
   "cell_type": "code",
   "execution_count": 143,
   "metadata": {},
   "outputs": [
    {
     "name": "stdout",
     "output_type": "stream",
     "text": [
      "Found 44597 validated image filenames.\n"
     ]
    }
   ],
   "source": [
    "# TRAIN_DIR = '/home/beth/Galvanize/capstone/capstone_2/data/train/train'\n",
    "# # VALIDATION_DIR = '/home/beth/Galvanize/capstone/capstone_2/data/test'\n",
    "\n",
    "# datagen = ImageDataGenerator(validation_split=0.3, rescale=1./255)\n",
    "# batch_size = 32\n",
    "# train_generator = datagen.flow_from_dataframe(dataframe=df_index_1,\n",
    "#                                               directory=TRAIN_DIR,\n",
    "#                                               x_col=\"image_id\",\n",
    "#                                               y_col=\"consonant_diacritic\",\n",
    "#                                               weight_col=None,\n",
    "#                                               target_size=(137, 236),\n",
    "#                                               color_mode=\"grayscale\",\n",
    "#                                               classes=None,\n",
    "#                                               class_mode=\"raw\",\n",
    "#                                               batch_size=batch_size,\n",
    "#                                               shuffle=True,\n",
    "#                                               subset=None,\n",
    "#                                               interpolation=\"nearest\",\n",
    "#                                               validate_filenames=True)\n",
    "\n",
    "#\"raw\": numpy array of values in y_col column(s), - \"sparse\": 1D numpy array of integer labels, \n",
    "# validation_generator = ImageDataGenerator.flow_from_dataframe(dataframe,\n",
    "#                                                          directory=TRAIN_DIR,\n",
    "#                                                          x_col=\"filename\",\n",
    "#                                                          y_col=\"class\",\n",
    "#                                                          weight_col=None,\n",
    "#                                                          target_size=(256, 256),\n",
    "#                                                          color_mode=\"rgb\",\n",
    "#                                                          classes=None,\n",
    "#                                                          class_mode=\"categorical\",\n",
    "#                                                          batch_size=batch_size,\n",
    "#                                                          shuffle=False,\n",
    "#                                                          seed=None,\n",
    "#                                                          save_to_dir=None,\n",
    "#                                                          save_prefix=\"\",\n",
    "#                                                          save_format=\"png\",\n",
    "#                                                          subset=None,\n",
    "#                                                          interpolation=\"nearest\",\n",
    "#                                                          validate_filenames=True)\n",
    "\n",
    "# train_generator = datagen.flow_from_directory(\n",
    "#     TRAIN_DIR, \n",
    "#     subset='training'\n",
    "# )\n",
    "\n",
    "# val_generator = datagen.flow_from_directory(\n",
    "#     TRAIN_DIR,\n",
    "#     subset='validation'\n",
    "# )\n",
    "# https://ibrahimgoke.medium.com/split-train-data-into-training-and-validation-when-using-imagedatagenerator-in-keras-ffdc88bbf6f3\n",
    "\n",
    "# train_datagen = ImageDataGenerator(rescale=1./255,\n",
    "#                                    shear_range=0.2,\n",
    "#                                    zoom_range=0.2,\n",
    "#                                    horizontal_flip=True)\n",
    "\n",
    "# test_datagen = ImageDataGenerator(rescale=1./255)\n"
   ]
  },
  {
   "cell_type": "code",
   "execution_count": null,
   "metadata": {},
   "outputs": [],
   "source": [
    "# validation_generator = test_datagen.flow_from_directory(\n",
    "#         '../data/validation',\n",
    "#         target_size=(150, 150),\n",
    "#         batch_size=batch_size,\n",
    "#         class_mode='binary')\n",
    "\n",
    "# cat_dog_model.fit_generator(\n",
    "#     train_generator,\n",
    "#     steps_per_epoch=180 // batch_size,\n",
    "#     epochs=50,\n",
    "#     validation_data=validation_generator,\n",
    "#     validation_steps=20 // batch_size)\n",
    "\n",
    "# score = cat_dog_model.evaluate(validation_generator, verbose=0)\n",
    "# print('Test score:', score[0])\n",
    "# print('Test accuracy:', score[1])  # this is the one we care about"
   ]
  },
  {
   "cell_type": "code",
   "execution_count": null,
   "metadata": {},
   "outputs": [],
   "source": [
    "# # important inputs to the model: don't changes the ones marked KEEP in the functions above\n",
    "# batch_size = 5000  # number of training samples used at a time to update the weights\n",
    "# nb_epoch = 2       # number of passes through the entire train dataset before weights \"final\"\n",
    "# nb_filters = 12    # number of convolutional filters to use\n",
    "# pool_size = (2, 2)  # pooling decreases image size, reduces computation, adds translational invariance\n",
    "# kernel_size = (4, 4)  # convolutional kernel size, slides over image to learn features\n",
    "# dropout = 0.1\n",
    "# activation='tanh'\n",
    "# optimizer='adadelta'\n",
    "\n",
    "# model = Sequential()  # model is a linear stack of layers (don't change)\n",
    "\n",
    "#     # note: the convolutional layers and dense layers require an activation function\n",
    "#     # see https://keras.io/activations/\n",
    "#     # and https://en.wikipedia.org/wiki/Activation_function\n",
    "#     # options: 'linear', 'sigmoid', 'tanh', 'relu', 'softplus', 'softsign'\n",
    "\n",
    "#     model.add(Conv2D(nb_filters,\n",
    "#                      (kernel_size[0], kernel_size[1]),\n",
    "#                      padding='valid',\n",
    "#                      input_shape=input_shape))  # first conv. layer  KEEP\n",
    "#     model.add(Activation(activation))  # Activation specification necessary for Conv2D and Dense layers\n",
    "\n",
    "#     model.add(Conv2D(nb_filters,\n",
    "#                      (kernel_size[0], kernel_size[1]),\n",
    "#                      padding='valid'))  # 2nd conv. layer KEEP\n",
    "#     model.add(Activation(activation))\n",
    "\n",
    "#     model.add(MaxPooling2D(pool_size=pool_size))  # decreases size, helps prevent overfitting\n",
    "#     model.add(Dropout(dropout))  # zeros out some fraction of inputs, helps prevent overfitting\n",
    "\n",
    "#     model.add(Flatten())  # necessary to flatten before going into conventional dense layer  KEEP\n",
    "#     print('Model flattened out to ', model.output_shape)\n",
    "\n",
    "#     # now start a typical neural network\n",
    "#     model.add(Dense(32))  # (only) 32 neurons in this layer, really?   KEEP\n",
    "#     model.add(Activation(activation))\n",
    "\n",
    "#     model.add(Dropout(dropout))  # zeros out some fraction of inputs, helps prevent overfitting\n",
    "\n",
    "#     model.add(Dense(nb_classes))  # 10 final nodes (one for each class)  KEEP\n",
    "#     model.add(Activation('softmax'))  # softmax at end to pick between classes 0-9 KEEP\n",
    "\n",
    "#     # many optimizers available, see https://keras.io/optimizers/#usage-of-optimizers\n",
    "#     # suggest you KEEP loss at 'categorical_crossentropy' for this multiclass problem,\n",
    "#     # and KEEP metrics at 'accuracy'\n",
    "#     # suggest limiting optimizers to one of these: 'adam', 'adadelta', 'sgd'\n",
    "#     model.compile(loss='categorical_crossentropy',\n",
    "#                   optimizer=optimizer,\n",
    "#                   metrics=['accuracy'],\n",
    "#                  learning)\n",
    "#     return model"
   ]
  }
 ],
 "metadata": {
  "kernelspec": {
   "display_name": "Python 3",
   "language": "python",
   "name": "python3"
  },
  "language_info": {
   "codemirror_mode": {
    "name": "ipython",
    "version": 3
   },
   "file_extension": ".py",
   "mimetype": "text/x-python",
   "name": "python",
   "nbconvert_exporter": "python",
   "pygments_lexer": "ipython3",
   "version": "3.7.9"
  }
 },
 "nbformat": 4,
 "nbformat_minor": 4
}
