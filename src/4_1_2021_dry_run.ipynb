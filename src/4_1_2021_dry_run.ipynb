{
 "cells": [
  {
   "cell_type": "code",
   "execution_count": 2,
   "metadata": {},
   "outputs": [],
   "source": [
    "import numpy as np\n",
    "import pandas as pd\n",
    "import matplotlib.pyplot as plt\n",
    "import os\n",
    "\n",
    "\n",
    "from skimage.io import imread\n",
    "from skimage.color import rgb2gray\n",
    "from skimage.filters import sobel \n",
    "from skimage.feature._canny import canny\n",
    "from skimage.color import rgb2gray\n",
    "from skimage.restoration import denoise_bilateral, denoise_tv_chambolle\n",
    "from skimage.transform import resize\n",
    "from sklearn.cluster import KMeans\n",
    "\n",
    "from tensorflow import keras\n",
    "from tensorflow.keras.preprocessing.image import ImageDataGenerator, array_to_img, img_to_array, load_img\n",
    "\n",
    "%matplotlib inline\n"
   ]
  },
  {
   "cell_type": "code",
   "execution_count": 3,
   "metadata": {},
   "outputs": [
    {
     "name": "stdout",
     "output_type": "stream",
     "text": [
      " 3_29_2021_dry_run_1.ipynb\t\t\t    class_map_corrected.csv\r\n",
      " 3_29_2021_dry_run.ipynb\t\t\t    kalpurush-2.ttf\r\n",
      " 3_30_2021_dry_run.ipynb\t\t\t    logs\r\n",
      " 3_31_2021_dry_run-more_layers_n_pools.ipynb\t    model.png\r\n",
      " 3_31_2021_dry_run_with_layer_learning_rate.ipynb   sample_submission.csv\r\n",
      " 3_31_2021_resnet50.ipynb\t\t\t    test.csv\r\n",
      "'3_31_night_thanks_to_Kaushal Shah.ipynb'\t    train.csv\r\n",
      " 4_1_2021_dry_run.ipynb\r\n"
     ]
    }
   ],
   "source": [
    "!ls"
   ]
  },
  {
   "cell_type": "code",
   "execution_count": 4,
   "metadata": {},
   "outputs": [
    {
     "data": {
      "text/html": [
       "<div>\n",
       "<style scoped>\n",
       "    .dataframe tbody tr th:only-of-type {\n",
       "        vertical-align: middle;\n",
       "    }\n",
       "\n",
       "    .dataframe tbody tr th {\n",
       "        vertical-align: top;\n",
       "    }\n",
       "\n",
       "    .dataframe thead th {\n",
       "        text-align: right;\n",
       "    }\n",
       "</style>\n",
       "<table border=\"1\" class=\"dataframe\">\n",
       "  <thead>\n",
       "    <tr style=\"text-align: right;\">\n",
       "      <th></th>\n",
       "      <th>image_id</th>\n",
       "      <th>grapheme_root</th>\n",
       "      <th>vowel_diacritic</th>\n",
       "      <th>consonant_diacritic</th>\n",
       "      <th>grapheme</th>\n",
       "    </tr>\n",
       "  </thead>\n",
       "  <tbody>\n",
       "    <tr>\n",
       "      <th>0</th>\n",
       "      <td>Train_0</td>\n",
       "      <td>15</td>\n",
       "      <td>9</td>\n",
       "      <td>5</td>\n",
       "      <td>ক্ট্রো</td>\n",
       "    </tr>\n",
       "    <tr>\n",
       "      <th>1</th>\n",
       "      <td>Train_1</td>\n",
       "      <td>159</td>\n",
       "      <td>0</td>\n",
       "      <td>0</td>\n",
       "      <td>হ</td>\n",
       "    </tr>\n",
       "    <tr>\n",
       "      <th>2</th>\n",
       "      <td>Train_2</td>\n",
       "      <td>22</td>\n",
       "      <td>3</td>\n",
       "      <td>5</td>\n",
       "      <td>খ্রী</td>\n",
       "    </tr>\n",
       "    <tr>\n",
       "      <th>3</th>\n",
       "      <td>Train_3</td>\n",
       "      <td>53</td>\n",
       "      <td>2</td>\n",
       "      <td>2</td>\n",
       "      <td>র্টি</td>\n",
       "    </tr>\n",
       "    <tr>\n",
       "      <th>4</th>\n",
       "      <td>Train_4</td>\n",
       "      <td>71</td>\n",
       "      <td>9</td>\n",
       "      <td>5</td>\n",
       "      <td>থ্রো</td>\n",
       "    </tr>\n",
       "    <tr>\n",
       "      <th>...</th>\n",
       "      <td>...</td>\n",
       "      <td>...</td>\n",
       "      <td>...</td>\n",
       "      <td>...</td>\n",
       "      <td>...</td>\n",
       "    </tr>\n",
       "    <tr>\n",
       "      <th>200835</th>\n",
       "      <td>Train_200835</td>\n",
       "      <td>22</td>\n",
       "      <td>7</td>\n",
       "      <td>2</td>\n",
       "      <td>র্খে</td>\n",
       "    </tr>\n",
       "    <tr>\n",
       "      <th>200836</th>\n",
       "      <td>Train_200836</td>\n",
       "      <td>65</td>\n",
       "      <td>9</td>\n",
       "      <td>0</td>\n",
       "      <td>ত্তো</td>\n",
       "    </tr>\n",
       "    <tr>\n",
       "      <th>200837</th>\n",
       "      <td>Train_200837</td>\n",
       "      <td>2</td>\n",
       "      <td>1</td>\n",
       "      <td>4</td>\n",
       "      <td>অ্যা</td>\n",
       "    </tr>\n",
       "    <tr>\n",
       "      <th>200838</th>\n",
       "      <td>Train_200838</td>\n",
       "      <td>152</td>\n",
       "      <td>9</td>\n",
       "      <td>0</td>\n",
       "      <td>স্নো</td>\n",
       "    </tr>\n",
       "    <tr>\n",
       "      <th>200839</th>\n",
       "      <td>Train_200839</td>\n",
       "      <td>127</td>\n",
       "      <td>2</td>\n",
       "      <td>0</td>\n",
       "      <td>ল্টি</td>\n",
       "    </tr>\n",
       "  </tbody>\n",
       "</table>\n",
       "<p>200840 rows × 5 columns</p>\n",
       "</div>"
      ],
      "text/plain": [
       "            image_id  grapheme_root  vowel_diacritic  consonant_diacritic  \\\n",
       "0            Train_0             15                9                    5   \n",
       "1            Train_1            159                0                    0   \n",
       "2            Train_2             22                3                    5   \n",
       "3            Train_3             53                2                    2   \n",
       "4            Train_4             71                9                    5   \n",
       "...              ...            ...              ...                  ...   \n",
       "200835  Train_200835             22                7                    2   \n",
       "200836  Train_200836             65                9                    0   \n",
       "200837  Train_200837              2                1                    4   \n",
       "200838  Train_200838            152                9                    0   \n",
       "200839  Train_200839            127                2                    0   \n",
       "\n",
       "       grapheme  \n",
       "0        ক্ট্রো  \n",
       "1             হ  \n",
       "2          খ্রী  \n",
       "3          র্টি  \n",
       "4          থ্রো  \n",
       "...         ...  \n",
       "200835     র্খে  \n",
       "200836     ত্তো  \n",
       "200837     অ্যা  \n",
       "200838     স্নো  \n",
       "200839     ল্টি  \n",
       "\n",
       "[200840 rows x 5 columns]"
      ]
     },
     "execution_count": 4,
     "metadata": {},
     "output_type": "execute_result"
    }
   ],
   "source": [
    "df_index=pd.read_csv('train.csv')\n",
    "df_index"
   ]
  },
  {
   "cell_type": "code",
   "execution_count": 5,
   "metadata": {},
   "outputs": [
    {
     "data": {
      "text/plain": [
       "(200840, 5)"
      ]
     },
     "execution_count": 5,
     "metadata": {},
     "output_type": "execute_result"
    }
   ],
   "source": [
    "df_index.shape"
   ]
  },
  {
   "cell_type": "code",
   "execution_count": 6,
   "metadata": {},
   "outputs": [
    {
     "data": {
      "text/plain": [
       "<AxesSubplot:>"
      ]
     },
     "execution_count": 6,
     "metadata": {},
     "output_type": "execute_result"
    },
    {
     "data": {
      "image/png": "[encoded data removed]",
      "text/plain": [
       "<Figure size 720x2160 with 1 Axes>"
      ]
     },
     "metadata": {
      "needs_background": "light"
     },
     "output_type": "display_data"
    }
   ],
   "source": [
    "plt.figure(figsize=(10,30))\n",
    "df_index['grapheme_root'].value_counts().sort_index().plot.barh()  "
   ]
  },
  {
   "cell_type": "code",
   "execution_count": 7,
   "metadata": {},
   "outputs": [
    {
     "data": {
      "text/plain": [
       "<AxesSubplot:>"
      ]
     },
     "execution_count": 7,
     "metadata": {},
     "output_type": "execute_result"
    },
    {
     "data": {
      "image/png": "[encoded data removed]",
      "text/plain": [
       "<Figure size 432x288 with 1 Axes>"
      ]
     },
     "metadata": {
      "needs_background": "light"
     },
     "output_type": "display_data"
    }
   ],
   "source": [
    "df_index['vowel_diacritic'].value_counts().sort_index().plot.barh()  "
   ]
  },
  {
   "cell_type": "code",
   "execution_count": 8,
   "metadata": {},
   "outputs": [
    {
     "data": {
      "text/plain": [
       "<AxesSubplot:>"
      ]
     },
     "execution_count": 8,
     "metadata": {},
     "output_type": "execute_result"
    },
    {
     "data": {
      "image/png": "[encoded data removed]",
      "text/plain": [
       "<Figure size 432x288 with 1 Axes>"
      ]
     },
     "metadata": {
      "needs_background": "light"
     },
     "output_type": "display_data"
    }
   ],
   "source": [
    "df_index['consonant_diacritic'].value_counts().sort_index().plot.barh()  "
   ]
  },
  {
   "cell_type": "code",
   "execution_count": 9,
   "metadata": {},
   "outputs": [],
   "source": [
    "df_index['image_id']=df_index['image_id']+'.jpg'"
   ]
  },
  {
   "cell_type": "code",
   "execution_count": 10,
   "metadata": {},
   "outputs": [
    {
     "data": {
      "text/html": [
       "<div>\n",
       "<style scoped>\n",
       "    .dataframe tbody tr th:only-of-type {\n",
       "        vertical-align: middle;\n",
       "    }\n",
       "\n",
       "    .dataframe tbody tr th {\n",
       "        vertical-align: top;\n",
       "    }\n",
       "\n",
       "    .dataframe thead th {\n",
       "        text-align: right;\n",
       "    }\n",
       "</style>\n",
       "<table border=\"1\" class=\"dataframe\">\n",
       "  <thead>\n",
       "    <tr style=\"text-align: right;\">\n",
       "      <th></th>\n",
       "      <th>image_id</th>\n",
       "      <th>grapheme_root</th>\n",
       "      <th>vowel_diacritic</th>\n",
       "      <th>consonant_diacritic</th>\n",
       "      <th>grapheme</th>\n",
       "    </tr>\n",
       "  </thead>\n",
       "  <tbody>\n",
       "    <tr>\n",
       "      <th>0</th>\n",
       "      <td>Train_0.jpg</td>\n",
       "      <td>15</td>\n",
       "      <td>9</td>\n",
       "      <td>5</td>\n",
       "      <td>ক্ট্রো</td>\n",
       "    </tr>\n",
       "    <tr>\n",
       "      <th>1</th>\n",
       "      <td>Train_1.jpg</td>\n",
       "      <td>159</td>\n",
       "      <td>0</td>\n",
       "      <td>0</td>\n",
       "      <td>হ</td>\n",
       "    </tr>\n",
       "    <tr>\n",
       "      <th>2</th>\n",
       "      <td>Train_2.jpg</td>\n",
       "      <td>22</td>\n",
       "      <td>3</td>\n",
       "      <td>5</td>\n",
       "      <td>খ্রী</td>\n",
       "    </tr>\n",
       "    <tr>\n",
       "      <th>3</th>\n",
       "      <td>Train_3.jpg</td>\n",
       "      <td>53</td>\n",
       "      <td>2</td>\n",
       "      <td>2</td>\n",
       "      <td>র্টি</td>\n",
       "    </tr>\n",
       "    <tr>\n",
       "      <th>4</th>\n",
       "      <td>Train_4.jpg</td>\n",
       "      <td>71</td>\n",
       "      <td>9</td>\n",
       "      <td>5</td>\n",
       "      <td>থ্রো</td>\n",
       "    </tr>\n",
       "    <tr>\n",
       "      <th>...</th>\n",
       "      <td>...</td>\n",
       "      <td>...</td>\n",
       "      <td>...</td>\n",
       "      <td>...</td>\n",
       "      <td>...</td>\n",
       "    </tr>\n",
       "    <tr>\n",
       "      <th>200835</th>\n",
       "      <td>Train_200835.jpg</td>\n",
       "      <td>22</td>\n",
       "      <td>7</td>\n",
       "      <td>2</td>\n",
       "      <td>র্খে</td>\n",
       "    </tr>\n",
       "    <tr>\n",
       "      <th>200836</th>\n",
       "      <td>Train_200836.jpg</td>\n",
       "      <td>65</td>\n",
       "      <td>9</td>\n",
       "      <td>0</td>\n",
       "      <td>ত্তো</td>\n",
       "    </tr>\n",
       "    <tr>\n",
       "      <th>200837</th>\n",
       "      <td>Train_200837.jpg</td>\n",
       "      <td>2</td>\n",
       "      <td>1</td>\n",
       "      <td>4</td>\n",
       "      <td>অ্যা</td>\n",
       "    </tr>\n",
       "    <tr>\n",
       "      <th>200838</th>\n",
       "      <td>Train_200838.jpg</td>\n",
       "      <td>152</td>\n",
       "      <td>9</td>\n",
       "      <td>0</td>\n",
       "      <td>স্নো</td>\n",
       "    </tr>\n",
       "    <tr>\n",
       "      <th>200839</th>\n",
       "      <td>Train_200839.jpg</td>\n",
       "      <td>127</td>\n",
       "      <td>2</td>\n",
       "      <td>0</td>\n",
       "      <td>ল্টি</td>\n",
       "    </tr>\n",
       "  </tbody>\n",
       "</table>\n",
       "<p>200840 rows × 5 columns</p>\n",
       "</div>"
      ],
      "text/plain": [
       "                image_id  grapheme_root  vowel_diacritic  consonant_diacritic  \\\n",
       "0            Train_0.jpg             15                9                    5   \n",
       "1            Train_1.jpg            159                0                    0   \n",
       "2            Train_2.jpg             22                3                    5   \n",
       "3            Train_3.jpg             53                2                    2   \n",
       "4            Train_4.jpg             71                9                    5   \n",
       "...                  ...            ...              ...                  ...   \n",
       "200835  Train_200835.jpg             22                7                    2   \n",
       "200836  Train_200836.jpg             65                9                    0   \n",
       "200837  Train_200837.jpg              2                1                    4   \n",
       "200838  Train_200838.jpg            152                9                    0   \n",
       "200839  Train_200839.jpg            127                2                    0   \n",
       "\n",
       "       grapheme  \n",
       "0        ক্ট্রো  \n",
       "1             হ  \n",
       "2          খ্রী  \n",
       "3          র্টি  \n",
       "4          থ্রো  \n",
       "...         ...  \n",
       "200835     র্খে  \n",
       "200836     ত্তো  \n",
       "200837     অ্যা  \n",
       "200838     স্নো  \n",
       "200839     ল্টি  \n",
       "\n",
       "[200840 rows x 5 columns]"
      ]
     },
     "execution_count": 10,
     "metadata": {},
     "output_type": "execute_result"
    }
   ],
   "source": [
    "df_index"
   ]
  },
  {
   "cell_type": "code",
   "execution_count": null,
   "metadata": {},
   "outputs": [],
   "source": []
  },
  {
   "cell_type": "code",
   "execution_count": 11,
   "metadata": {},
   "outputs": [
    {
     "data": {
      "text/plain": [
       "0    125278\n",
       "2     23465\n",
       "5     21397\n",
       "4     21270\n",
       "1      7424\n",
       "6      1387\n",
       "3       619\n",
       "Name: consonant_diacritic, dtype: int64"
      ]
     },
     "execution_count": 11,
     "metadata": {},
     "output_type": "execute_result"
    }
   ],
   "source": [
    "df_index['consonant_diacritic'].value_counts() \n",
    "#7 values , # 7 columns one hot coding, output = 7 colums and softmax"
   ]
  },
  {
   "cell_type": "code",
   "execution_count": 12,
   "metadata": {},
   "outputs": [
    {
     "data": {
      "text/plain": [
       "image_id               object\n",
       "grapheme_root           int64\n",
       "vowel_diacritic         int64\n",
       "consonant_diacritic     int64\n",
       "grapheme               object\n",
       "dtype: object"
      ]
     },
     "execution_count": 12,
     "metadata": {},
     "output_type": "execute_result"
    }
   ],
   "source": [
    "df_index.dtypes"
   ]
  },
  {
   "cell_type": "code",
   "execution_count": 13,
   "metadata": {},
   "outputs": [
    {
     "name": "stdout",
     "output_type": "stream",
     "text": [
      "/home/beth/Galvanize/capstone/capstone_2_new/capstone_2/src\r\n"
     ]
    }
   ],
   "source": [
    "!pwd"
   ]
  },
  {
   "cell_type": "code",
   "execution_count": 14,
   "metadata": {},
   "outputs": [],
   "source": [
    "df_index_1 = df_index.iloc[:44597,:]"
   ]
  },
  {
   "cell_type": "code",
   "execution_count": 15,
   "metadata": {
    "scrolled": true
   },
   "outputs": [
    {
     "data": {
      "text/html": [
       "<div>\n",
       "<style scoped>\n",
       "    .dataframe tbody tr th:only-of-type {\n",
       "        vertical-align: middle;\n",
       "    }\n",
       "\n",
       "    .dataframe tbody tr th {\n",
       "        vertical-align: top;\n",
       "    }\n",
       "\n",
       "    .dataframe thead th {\n",
       "        text-align: right;\n",
       "    }\n",
       "</style>\n",
       "<table border=\"1\" class=\"dataframe\">\n",
       "  <thead>\n",
       "    <tr style=\"text-align: right;\">\n",
       "      <th></th>\n",
       "      <th>image_id</th>\n",
       "      <th>grapheme_root</th>\n",
       "      <th>vowel_diacritic</th>\n",
       "      <th>consonant_diacritic</th>\n",
       "      <th>grapheme</th>\n",
       "    </tr>\n",
       "  </thead>\n",
       "  <tbody>\n",
       "    <tr>\n",
       "      <th>0</th>\n",
       "      <td>Train_0.jpg</td>\n",
       "      <td>15</td>\n",
       "      <td>9</td>\n",
       "      <td>5</td>\n",
       "      <td>ক্ট্রো</td>\n",
       "    </tr>\n",
       "    <tr>\n",
       "      <th>1</th>\n",
       "      <td>Train_1.jpg</td>\n",
       "      <td>159</td>\n",
       "      <td>0</td>\n",
       "      <td>0</td>\n",
       "      <td>হ</td>\n",
       "    </tr>\n",
       "    <tr>\n",
       "      <th>2</th>\n",
       "      <td>Train_2.jpg</td>\n",
       "      <td>22</td>\n",
       "      <td>3</td>\n",
       "      <td>5</td>\n",
       "      <td>খ্রী</td>\n",
       "    </tr>\n",
       "    <tr>\n",
       "      <th>3</th>\n",
       "      <td>Train_3.jpg</td>\n",
       "      <td>53</td>\n",
       "      <td>2</td>\n",
       "      <td>2</td>\n",
       "      <td>র্টি</td>\n",
       "    </tr>\n",
       "    <tr>\n",
       "      <th>4</th>\n",
       "      <td>Train_4.jpg</td>\n",
       "      <td>71</td>\n",
       "      <td>9</td>\n",
       "      <td>5</td>\n",
       "      <td>থ্রো</td>\n",
       "    </tr>\n",
       "    <tr>\n",
       "      <th>...</th>\n",
       "      <td>...</td>\n",
       "      <td>...</td>\n",
       "      <td>...</td>\n",
       "      <td>...</td>\n",
       "      <td>...</td>\n",
       "    </tr>\n",
       "    <tr>\n",
       "      <th>44592</th>\n",
       "      <td>Train_44592.jpg</td>\n",
       "      <td>78</td>\n",
       "      <td>1</td>\n",
       "      <td>0</td>\n",
       "      <td>দ্মা</td>\n",
       "    </tr>\n",
       "    <tr>\n",
       "      <th>44593</th>\n",
       "      <td>Train_44593.jpg</td>\n",
       "      <td>86</td>\n",
       "      <td>2</td>\n",
       "      <td>0</td>\n",
       "      <td>ন্তি</td>\n",
       "    </tr>\n",
       "    <tr>\n",
       "      <th>44594</th>\n",
       "      <td>Train_44594.jpg</td>\n",
       "      <td>140</td>\n",
       "      <td>0</td>\n",
       "      <td>0</td>\n",
       "      <td>ষ্ক</td>\n",
       "    </tr>\n",
       "    <tr>\n",
       "      <th>44595</th>\n",
       "      <td>Train_44595.jpg</td>\n",
       "      <td>18</td>\n",
       "      <td>9</td>\n",
       "      <td>0</td>\n",
       "      <td>ক্ষো</td>\n",
       "    </tr>\n",
       "    <tr>\n",
       "      <th>44596</th>\n",
       "      <td>Train_44596.jpg</td>\n",
       "      <td>64</td>\n",
       "      <td>4</td>\n",
       "      <td>2</td>\n",
       "      <td>র্তু</td>\n",
       "    </tr>\n",
       "  </tbody>\n",
       "</table>\n",
       "<p>44597 rows × 5 columns</p>\n",
       "</div>"
      ],
      "text/plain": [
       "              image_id  grapheme_root  vowel_diacritic  consonant_diacritic  \\\n",
       "0          Train_0.jpg             15                9                    5   \n",
       "1          Train_1.jpg            159                0                    0   \n",
       "2          Train_2.jpg             22                3                    5   \n",
       "3          Train_3.jpg             53                2                    2   \n",
       "4          Train_4.jpg             71                9                    5   \n",
       "...                ...            ...              ...                  ...   \n",
       "44592  Train_44592.jpg             78                1                    0   \n",
       "44593  Train_44593.jpg             86                2                    0   \n",
       "44594  Train_44594.jpg            140                0                    0   \n",
       "44595  Train_44595.jpg             18                9                    0   \n",
       "44596  Train_44596.jpg             64                4                    2   \n",
       "\n",
       "      grapheme  \n",
       "0       ক্ট্রো  \n",
       "1            হ  \n",
       "2         খ্রী  \n",
       "3         র্টি  \n",
       "4         থ্রো  \n",
       "...        ...  \n",
       "44592     দ্মা  \n",
       "44593     ন্তি  \n",
       "44594      ষ্ক  \n",
       "44595     ক্ষো  \n",
       "44596     র্তু  \n",
       "\n",
       "[44597 rows x 5 columns]"
      ]
     },
     "execution_count": 15,
     "metadata": {},
     "output_type": "execute_result"
    }
   ],
   "source": [
    "df_index_1"
   ]
  },
  {
   "cell_type": "code",
   "execution_count": 16,
   "metadata": {},
   "outputs": [
    {
     "data": {
      "text/plain": [
       "<AxesSubplot:>"
      ]
     },
     "execution_count": 16,
     "metadata": {},
     "output_type": "execute_result"
    },
    {
     "data": {
      "image/png": "[encoded data removed]",
      "text/plain": [
       "<Figure size 720x1440 with 1 Axes>"
      ]
     },
     "metadata": {
      "needs_background": "light"
     },
     "output_type": "display_data"
    }
   ],
   "source": [
    "plt.figure(figsize=(10,20))\n",
    "df_index_1['grapheme_root'].value_counts().sort_index().plot.barh()  "
   ]
  },
  {
   "cell_type": "code",
   "execution_count": 17,
   "metadata": {},
   "outputs": [
    {
     "data": {
      "text/plain": [
       "<AxesSubplot:>"
      ]
     },
     "execution_count": 17,
     "metadata": {},
     "output_type": "execute_result"
    },
    {
     "data": {
      "image/png": "[encoded data removed]",
      "text/plain": [
       "<Figure size 432x288 with 1 Axes>"
      ]
     },
     "metadata": {
      "needs_background": "light"
     },
     "output_type": "display_data"
    }
   ],
   "source": [
    "df_index_1['vowel_diacritic'].value_counts().sort_index().plot.barh()  "
   ]
  },
  {
   "cell_type": "code",
   "execution_count": 18,
   "metadata": {},
   "outputs": [
    {
     "data": {
      "text/plain": [
       "<AxesSubplot:>"
      ]
     },
     "execution_count": 18,
     "metadata": {},
     "output_type": "execute_result"
    },
    {
     "data": {
      "image/png": "[encoded data removed]",
      "text/plain": [
       "<Figure size 432x288 with 1 Axes>"
      ]
     },
     "metadata": {
      "needs_background": "light"
     },
     "output_type": "display_data"
    }
   ],
   "source": [
    "df_index_1['consonant_diacritic'].value_counts().sort_index().plot.barh()  "
   ]
  },
  {
   "cell_type": "code",
   "execution_count": null,
   "metadata": {},
   "outputs": [],
   "source": []
  },
  {
   "cell_type": "code",
   "execution_count": 19,
   "metadata": {},
   "outputs": [
    {
     "name": "stdout",
     "output_type": "stream",
     "text": [
      "168\n"
     ]
    },
    {
     "data": {
      "text/plain": [
       "72     1284\n",
       "64     1247\n",
       "13     1236\n",
       "23     1129\n",
       "107    1110\n",
       "       ... \n",
       "63       27\n",
       "126      26\n",
       "45       24\n",
       "102      24\n",
       "73       22\n",
       "Name: grapheme_root, Length: 168, dtype: int64"
      ]
     },
     "execution_count": 19,
     "metadata": {},
     "output_type": "execute_result"
    }
   ],
   "source": [
    "print(len(df_index_1['grapheme_root'].value_counts()))\n",
    "df_index_1['grapheme_root'].value_counts()"
   ]
  },
  {
   "cell_type": "code",
   "execution_count": 20,
   "metadata": {},
   "outputs": [
    {
     "name": "stdout",
     "output_type": "stream",
     "text": [
      "11\n"
     ]
    },
    {
     "data": {
      "text/plain": [
       "0     9290\n",
       "1     8159\n",
       "7     6414\n",
       "2     5813\n",
       "4     4109\n",
       "3     3613\n",
       "9     3494\n",
       "5     1220\n",
       "6      951\n",
       "8      769\n",
       "10     765\n",
       "Name: vowel_diacritic, dtype: int64"
      ]
     },
     "execution_count": 20,
     "metadata": {},
     "output_type": "execute_result"
    }
   ],
   "source": [
    "print(len(df_index_1['vowel_diacritic'].value_counts()))\n",
    "df_index_1['vowel_diacritic'].value_counts()"
   ]
  },
  {
   "cell_type": "code",
   "execution_count": 21,
   "metadata": {},
   "outputs": [
    {
     "name": "stdout",
     "output_type": "stream",
     "text": [
      "7\n"
     ]
    },
    {
     "data": {
      "text/plain": [
       "0    27933\n",
       "2     5168\n",
       "5     4784\n",
       "4     4639\n",
       "1     1641\n",
       "6      293\n",
       "3      139\n",
       "Name: consonant_diacritic, dtype: int64"
      ]
     },
     "execution_count": 21,
     "metadata": {},
     "output_type": "execute_result"
    }
   ],
   "source": [
    "print(len(df_index_1['consonant_diacritic'].value_counts()))\n",
    "df_index_1['consonant_diacritic'].value_counts() "
   ]
  },
  {
   "cell_type": "code",
   "execution_count": 22,
   "metadata": {},
   "outputs": [
    {
     "name": "stdout",
     "output_type": "stream",
     "text": [
      " 3_29_2021_dry_run_1.ipynb\t\t\t    class_map_corrected.csv\r\n",
      " 3_29_2021_dry_run.ipynb\t\t\t    kalpurush-2.ttf\r\n",
      " 3_30_2021_dry_run.ipynb\t\t\t    logs\r\n",
      " 3_31_2021_dry_run-more_layers_n_pools.ipynb\t    model.png\r\n",
      " 3_31_2021_dry_run_with_layer_learning_rate.ipynb   sample_submission.csv\r\n",
      " 3_31_2021_resnet50.ipynb\t\t\t    test.csv\r\n",
      "'3_31_night_thanks_to_Kaushal Shah.ipynb'\t    train.csv\r\n",
      " 4_1_2021_dry_run.ipynb\r\n"
     ]
    }
   ],
   "source": [
    "!ls\n"
   ]
  },
  {
   "cell_type": "code",
   "execution_count": 23,
   "metadata": {},
   "outputs": [],
   "source": [
    "df_shuffle = df_index_1.sample(frac=1) #shuffle"
   ]
  },
  {
   "cell_type": "code",
   "execution_count": 24,
   "metadata": {},
   "outputs": [],
   "source": [
    "train = df_shuffle.iloc[:int(0.8*len(df_index_1)),:]\n",
    "test = df_shuffle.iloc[int(0.8*len(df_index_1)):,:]"
   ]
  },
  {
   "cell_type": "code",
   "execution_count": 25,
   "metadata": {},
   "outputs": [
    {
     "data": {
      "text/plain": [
       "0"
      ]
     },
     "execution_count": 25,
     "metadata": {},
     "output_type": "execute_result"
    }
   ],
   "source": [
    "train.iloc[30415,:][3]"
   ]
  },
  {
   "cell_type": "code",
   "execution_count": 26,
   "metadata": {},
   "outputs": [
    {
     "data": {
      "text/plain": [
       "(1, 5)"
      ]
     },
     "execution_count": 26,
     "metadata": {},
     "output_type": "execute_result"
    }
   ],
   "source": [
    "train.sample().shape"
   ]
  },
  {
   "cell_type": "code",
   "execution_count": 29,
   "metadata": {},
   "outputs": [
    {
     "name": "stdout",
     "output_type": "stream",
     "text": [
      " 3_29_2021_dry_run_1.ipynb\t\t\t    class_map_corrected.csv\r\n",
      " 3_29_2021_dry_run.ipynb\t\t\t    kalpurush-2.ttf\r\n",
      " 3_30_2021_dry_run.ipynb\t\t\t    logs\r\n",
      " 3_31_2021_dry_run-more_layers_n_pools.ipynb\t    model.png\r\n",
      " 3_31_2021_dry_run_with_layer_learning_rate.ipynb   sample_submission.csv\r\n",
      " 3_31_2021_resnet50.ipynb\t\t\t    test.csv\r\n",
      "'3_31_night_thanks_to_Kaushal Shah.ipynb'\t    train.csv\r\n",
      " 4_1_2021_dry_run.ipynb\r\n"
     ]
    }
   ],
   "source": [
    "!ls"
   ]
  },
  {
   "cell_type": "code",
   "execution_count": 30,
   "metadata": {},
   "outputs": [],
   "source": [
    "from PIL import Image \n",
    "\n",
    "def mygenerator(dataframe): # X = image, y = target\n",
    "    while True:\n",
    "        sample = dataframe.sample()\n",
    "        TRAIN_DIR = '/home/beth/Galvanize/capstone/capstone_2_new/capstone_2/data/train/'\n",
    "        image_name = TRAIN_DIR + sample['image_id'].values[0]\n",
    "        image=Image.open(image_name)\n",
    "        y=np.zeros(7)\n",
    "        y[sample[\"consonant_diacritic\"].values[0]]=1   \n",
    "        X = np.array(image).astype(np.int32)\n",
    "        y = y.astype(np.int32).reshape(1,7) \n",
    "#         X = np.array([X,X,X]).reshape(1,137,236,3)\n",
    "        X = X.reshape(1,137,236,1)\n",
    "        yield X,y\n",
    "# infinite numbers of X and y    "
   ]
  },
  {
   "cell_type": "code",
   "execution_count": 31,
   "metadata": {},
   "outputs": [],
   "source": [
    "X,y = next(mygenerator(train)) # randomly pick a row "
   ]
  },
  {
   "cell_type": "code",
   "execution_count": 32,
   "metadata": {},
   "outputs": [
    {
     "data": {
      "text/plain": [
       "(1, 137, 236, 1)"
      ]
     },
     "execution_count": 32,
     "metadata": {},
     "output_type": "execute_result"
    }
   ],
   "source": [
    "X.shape"
   ]
  },
  {
   "cell_type": "code",
   "execution_count": 33,
   "metadata": {},
   "outputs": [
    {
     "data": {
      "text/plain": [
       "<matplotlib.image.AxesImage at 0x7fc5655f7b10>"
      ]
     },
     "execution_count": 33,
     "metadata": {},
     "output_type": "execute_result"
    },
    {
     "data": {
      "image/png": "[encoded data removed]",
      "text/plain": [
       "<Figure size 432x288 with 1 Axes>"
      ]
     },
     "metadata": {
      "needs_background": "light"
     },
     "output_type": "display_data"
    }
   ],
   "source": [
    "plt.imshow(X[0,:,:,0])"
   ]
  },
  {
   "cell_type": "code",
   "execution_count": 34,
   "metadata": {},
   "outputs": [
    {
     "data": {
      "text/plain": [
       "array([[1, 0, 0, 0, 0, 0, 0]], dtype=int32)"
      ]
     },
     "execution_count": 34,
     "metadata": {},
     "output_type": "execute_result"
    }
   ],
   "source": [
    "y"
   ]
  },
  {
   "cell_type": "code",
   "execution_count": 35,
   "metadata": {},
   "outputs": [],
   "source": [
    "# wanna try ResNet and AlexNet 3-31-2021"
   ]
  },
  {
   "cell_type": "code",
   "execution_count": 39,
   "metadata": {},
   "outputs": [],
   "source": [
    "model = keras.models.Sequential([\n",
    "    keras.layers.Conv2D(filters=32, kernel_size=(3, 3), padding='SAME', activation='relu', input_shape=(137,236,1)), \n",
    "    keras.layers.Conv2D(filters=32, kernel_size=(3, 3), padding='SAME', activation='relu'),\n",
    "    keras.layers.Conv2D(filters=32, kernel_size=(3, 3), padding='SAME', activation='relu'),\n",
    "    keras.layers.Conv2D(filters=32, kernel_size=(3, 3), padding='SAME', activation='relu'),\n",
    "    keras.layers.BatchNormalization(momentum=0.15),\n",
    "    keras.layers.MaxPool2D(pool_size=(2, 2)),\n",
    "    keras.layers.Conv2D(filters=32, kernel_size=(5, 5), padding='SAME', activation='relu'),\n",
    "    keras.layers.Dropout(rate=0.3),\n",
    "\n",
    "    keras.layers.Conv2D(filters=64, kernel_size=(3, 3), padding='SAME', activation='relu'),\n",
    "    keras.layers.Conv2D(filters=64, kernel_size=(3, 3), padding='SAME', activation='relu'),\n",
    "    keras.layers.Conv2D(filters=64, kernel_size=(3, 3), padding='SAME', activation='relu'),\n",
    "    keras.layers.Conv2D(filters=64, kernel_size=(3, 3), padding='SAME', activation='relu'),\n",
    "    keras.layers.BatchNormalization(momentum=0.15),\n",
    "    keras.layers.MaxPool2D(pool_size=(2, 2)),\n",
    "    keras.layers.Conv2D(filters=64, kernel_size=(5, 5), padding='SAME', activation='relu'),\n",
    "    keras.layers.BatchNormalization(momentum=0.15),\n",
    "    keras.layers.Dropout(rate=0.3),\n",
    "\n",
    "    keras.layers.Conv2D(filters=128, kernel_size=(3, 3), padding='SAME', activation='relu'),\n",
    "    keras.layers.Conv2D(filters=128, kernel_size=(3, 3), padding='SAME', activation='relu'),\n",
    "    keras.layers.Conv2D(filters=128, kernel_size=(3, 3), padding='SAME', activation='relu'),\n",
    "    keras.layers.Conv2D(filters=128, kernel_size=(3, 3), padding='SAME', activation='relu'),\n",
    "    keras.layers.BatchNormalization(momentum=0.15),\n",
    "    keras.layers.MaxPool2D(pool_size=(2, 2)),\n",
    "    keras.layers.Conv2D(filters=128, kernel_size=(5, 5), padding='SAME', activation='relu'),\n",
    "    keras.layers.BatchNormalization(momentum=0.15),\n",
    "    keras.layers.Dropout(rate=0.3),\n",
    "\n",
    "    keras.layers.Conv2D(filters=256, kernel_size=(3, 3), padding='SAME', activation='relu'),\n",
    "    keras.layers.Conv2D(filters=256, kernel_size=(3, 3), padding='SAME', activation='relu'),\n",
    "    keras.layers.Conv2D(filters=256, kernel_size=(3, 3), padding='SAME', activation='relu'),\n",
    "    keras.layers.Conv2D(filters=256, kernel_size=(3, 3), padding='SAME', activation='relu'),\n",
    "    keras.layers.BatchNormalization(momentum=0.15),\n",
    "    keras.layers.MaxPool2D(pool_size=(2, 2)),\n",
    "    keras.layers.Conv2D(filters=256, kernel_size=(5, 5), padding='SAME', activation='relu'),\n",
    "    keras.layers.BatchNormalization(momentum=0.15),\n",
    "    keras.layers.Dropout(rate=0.3),\n",
    "\n",
    "    keras.layers.Flatten(),\n",
    "    keras.layers.Dense(1024, activation = \"relu\"),\n",
    "    keras.layers.Dropout(rate=0.3),\n",
    "    keras.layers.Dense(512, activation = \"relu\"),\n",
    "    keras.layers.Dense(7, activation = 'softmax')   \n",
    "])\n",
    "\n"
   ]
  },
  {
   "cell_type": "code",
   "execution_count": 40,
   "metadata": {},
   "outputs": [
    {
     "name": "stdout",
     "output_type": "stream",
     "text": [
      "Model: \"sequential\"\n",
      "_________________________________________________________________\n",
      "Layer (type)                 Output Shape              Param #   \n",
      "=================================================================\n",
      "conv2d_60 (Conv2D)           (None, 137, 236, 32)      320       \n",
      "_________________________________________________________________\n",
      "conv2d_61 (Conv2D)           (None, 137, 236, 32)      9248      \n",
      "_________________________________________________________________\n",
      "conv2d_62 (Conv2D)           (None, 137, 236, 32)      9248      \n",
      "_________________________________________________________________\n",
      "conv2d_63 (Conv2D)           (None, 137, 236, 32)      9248      \n",
      "_________________________________________________________________\n",
      "batch_normalization_21 (Batc (None, 137, 236, 32)      128       \n",
      "_________________________________________________________________\n",
      "max_pooling2d_12 (MaxPooling (None, 68, 118, 32)       0         \n",
      "_________________________________________________________________\n",
      "conv2d_64 (Conv2D)           (None, 68, 118, 32)       25632     \n",
      "_________________________________________________________________\n",
      "dropout_15 (Dropout)         (None, 68, 118, 32)       0         \n",
      "_________________________________________________________________\n",
      "conv2d_65 (Conv2D)           (None, 68, 118, 64)       18496     \n",
      "_________________________________________________________________\n",
      "conv2d_66 (Conv2D)           (None, 68, 118, 64)       36928     \n",
      "_________________________________________________________________\n",
      "conv2d_67 (Conv2D)           (None, 68, 118, 64)       36928     \n",
      "_________________________________________________________________\n",
      "conv2d_68 (Conv2D)           (None, 68, 118, 64)       36928     \n",
      "_________________________________________________________________\n",
      "batch_normalization_22 (Batc (None, 68, 118, 64)       256       \n",
      "_________________________________________________________________\n",
      "max_pooling2d_13 (MaxPooling (None, 34, 59, 64)        0         \n",
      "_________________________________________________________________\n",
      "conv2d_69 (Conv2D)           (None, 34, 59, 64)        102464    \n",
      "_________________________________________________________________\n",
      "batch_normalization_23 (Batc (None, 34, 59, 64)        256       \n",
      "_________________________________________________________________\n",
      "dropout_16 (Dropout)         (None, 34, 59, 64)        0         \n",
      "_________________________________________________________________\n",
      "conv2d_70 (Conv2D)           (None, 34, 59, 128)       73856     \n",
      "_________________________________________________________________\n",
      "conv2d_71 (Conv2D)           (None, 34, 59, 128)       147584    \n",
      "_________________________________________________________________\n",
      "conv2d_72 (Conv2D)           (None, 34, 59, 128)       147584    \n",
      "_________________________________________________________________\n",
      "conv2d_73 (Conv2D)           (None, 34, 59, 128)       147584    \n",
      "_________________________________________________________________\n",
      "batch_normalization_24 (Batc (None, 34, 59, 128)       512       \n",
      "_________________________________________________________________\n",
      "max_pooling2d_14 (MaxPooling (None, 17, 29, 128)       0         \n",
      "_________________________________________________________________\n",
      "conv2d_74 (Conv2D)           (None, 17, 29, 128)       409728    \n",
      "_________________________________________________________________\n",
      "batch_normalization_25 (Batc (None, 17, 29, 128)       512       \n",
      "_________________________________________________________________\n",
      "dropout_17 (Dropout)         (None, 17, 29, 128)       0         \n",
      "_________________________________________________________________\n",
      "conv2d_75 (Conv2D)           (None, 17, 29, 256)       295168    \n",
      "_________________________________________________________________\n",
      "conv2d_76 (Conv2D)           (None, 17, 29, 256)       590080    \n",
      "_________________________________________________________________\n",
      "conv2d_77 (Conv2D)           (None, 17, 29, 256)       590080    \n",
      "_________________________________________________________________\n",
      "conv2d_78 (Conv2D)           (None, 17, 29, 256)       590080    \n",
      "_________________________________________________________________\n",
      "batch_normalization_26 (Batc (None, 17, 29, 256)       1024      \n",
      "_________________________________________________________________\n",
      "max_pooling2d_15 (MaxPooling (None, 8, 14, 256)        0         \n",
      "_________________________________________________________________\n",
      "conv2d_79 (Conv2D)           (None, 8, 14, 256)        1638656   \n",
      "_________________________________________________________________\n",
      "batch_normalization_27 (Batc (None, 8, 14, 256)        1024      \n",
      "_________________________________________________________________\n",
      "dropout_18 (Dropout)         (None, 8, 14, 256)        0         \n",
      "_________________________________________________________________\n",
      "flatten_3 (Flatten)          (None, 28672)             0         \n",
      "_________________________________________________________________\n",
      "dense_7 (Dense)              (None, 1024)              29361152  \n",
      "_________________________________________________________________\n",
      "dropout_19 (Dropout)         (None, 1024)              0         \n",
      "_________________________________________________________________\n",
      "dense_8 (Dense)              (None, 512)               524800    \n",
      "_________________________________________________________________\n",
      "dense_9 (Dense)              (None, 7)                 3591      \n",
      "=================================================================\n",
      "Total params: 34,809,095\n",
      "Trainable params: 34,807,239\n",
      "Non-trainable params: 1,856\n",
      "_________________________________________________________________\n"
     ]
    }
   ],
   "source": [
    "model.summary()"
   ]
  },
  {
   "cell_type": "code",
   "execution_count": 41,
   "metadata": {},
   "outputs": [],
   "source": [
    "opt = keras.optimizers.Adam(learning_rate=0.0001)  # <--------------------------\n",
    "model.compile(loss='categorical_crossentropy', optimizer=opt, metrics=['accuracy', keras.metrics.Recall()])\n",
    "\n",
    "# Details/Retrospectives:\n",
    "# - add more layers <--------------------------\n",
    "# - did not Norm layers (not common anymore)\n",
    "# - no data augmentation\n",
    "# - dropout 0.3  \n",
    "# - batch size 32 \n",
    "# - no SGD Momentum \n",
    "# - Learning rate added <--------------------------\n",
    "# - no L2 weight decay 5\n",
    "# - no 7 CNN ensemble: \n"
   ]
  },
  {
   "cell_type": "code",
   "execution_count": 42,
   "metadata": {},
   "outputs": [
    {
     "name": "stdout",
     "output_type": "stream",
     "text": [
      "Epoch 1/75\n",
      "64/64 [==============================] - 28s 420ms/step - loss: 3.1836 - accuracy: 0.3707 - recall: 0.2628 - val_loss: 1.3049 - val_accuracy: 0.6000 - val_recall: 0.6000\n",
      "Epoch 2/75\n",
      "64/64 [==============================] - 32s 498ms/step - loss: 2.0795 - accuracy: 0.5770 - recall: 0.5770 - val_loss: 2.1176 - val_accuracy: 0.5667 - val_recall: 0.5667\n",
      "Epoch 3/75\n",
      "64/64 [==============================] - 30s 474ms/step - loss: 1.9676 - accuracy: 0.6897 - recall: 0.6897 - val_loss: 2.2165 - val_accuracy: 0.5000 - val_recall: 0.4667\n",
      "Epoch 4/75\n",
      "64/64 [==============================] - 31s 490ms/step - loss: 1.8056 - accuracy: 0.5673 - recall: 0.5115 - val_loss: 3.1260 - val_accuracy: 0.6333 - val_recall: 0.6333\n",
      "Epoch 5/75\n",
      "64/64 [==============================] - 33s 513ms/step - loss: 2.8632 - accuracy: 0.5106 - recall: 0.5083 - val_loss: 5.7187 - val_accuracy: 0.5000 - val_recall: 0.5000\n",
      "Epoch 6/75\n",
      "64/64 [==============================] - 31s 484ms/step - loss: 2.6416 - accuracy: 0.3876 - recall: 0.3876 - val_loss: 2.4755 - val_accuracy: 0.5667 - val_recall: 0.5667\n",
      "Epoch 7/75\n",
      "64/64 [==============================] - 32s 502ms/step - loss: 3.0055 - accuracy: 0.3695 - recall: 0.3184 - val_loss: 1.4762 - val_accuracy: 0.6333 - val_recall: 0.5667\n",
      "Epoch 8/75\n",
      "64/64 [==============================] - 30s 463ms/step - loss: 2.6201 - accuracy: 0.5306 - recall: 0.4570 - val_loss: 5.7158 - val_accuracy: 0.1667 - val_recall: 0.1333\n",
      "Epoch 9/75\n",
      "64/64 [==============================] - 29s 446ms/step - loss: 3.7436 - accuracy: 0.4467 - recall: 0.4467 - val_loss: 4.7032 - val_accuracy: 0.1667 - val_recall: 0.1667\n",
      "Epoch 10/75\n",
      "64/64 [==============================] - 31s 481ms/step - loss: 2.6923 - accuracy: 0.3886 - recall: 0.3163 - val_loss: 5.5697 - val_accuracy: 0.3000 - val_recall: 0.2667\n",
      "Epoch 11/75\n",
      "64/64 [==============================] - 31s 486ms/step - loss: 2.7159 - accuracy: 0.3417 - recall: 0.3400 - val_loss: 5.2125 - val_accuracy: 0.5333 - val_recall: 0.5000\n",
      "Epoch 12/75\n",
      "64/64 [==============================] - 31s 482ms/step - loss: 2.4254 - accuracy: 0.5367 - recall: 0.5367 - val_loss: 1.7213 - val_accuracy: 0.5333 - val_recall: 0.5000\n",
      "Epoch 13/75\n",
      "64/64 [==============================] - 30s 465ms/step - loss: 2.0829 - accuracy: 0.4478 - recall: 0.4275 - val_loss: 12.1404 - val_accuracy: 0.3333 - val_recall: 0.3333\n",
      "Epoch 14/75\n",
      "64/64 [==============================] - 30s 462ms/step - loss: 3.2798 - accuracy: 0.4402 - recall: 0.4402 - val_loss: 1.8687 - val_accuracy: 0.7333 - val_recall: 0.7333\n",
      "Epoch 15/75\n",
      "64/64 [==============================] - 29s 459ms/step - loss: 1.4940 - accuracy: 0.5599 - recall: 0.5517 - val_loss: 1.6000 - val_accuracy: 0.4000 - val_recall: 0.3667\n",
      "Epoch 16/75\n",
      "64/64 [==============================] - 30s 467ms/step - loss: 2.2752 - accuracy: 0.4377 - recall: 0.4377 - val_loss: 2.2534 - val_accuracy: 0.5000 - val_recall: 0.4667\n",
      "Epoch 17/75\n",
      "64/64 [==============================] - 30s 462ms/step - loss: 3.2342 - accuracy: 0.2885 - recall: 0.1811 - val_loss: 15.9590 - val_accuracy: 0.2000 - val_recall: 0.2000\n",
      "Epoch 18/75\n",
      "64/64 [==============================] - 29s 460ms/step - loss: 2.3092 - accuracy: 0.4077 - recall: 0.3647 - val_loss: 6.1474 - val_accuracy: 0.6667 - val_recall: 0.6667\n",
      "Epoch 19/75\n",
      "64/64 [==============================] - 30s 462ms/step - loss: 2.3294 - accuracy: 0.5363 - recall: 0.5121 - val_loss: 9.1229 - val_accuracy: 0.4000 - val_recall: 0.4000\n",
      "Epoch 20/75\n",
      "64/64 [==============================] - 30s 477ms/step - loss: 1.4590 - accuracy: 0.6070 - recall: 0.5203 - val_loss: 5.3647 - val_accuracy: 0.4667 - val_recall: 0.4667\n",
      "Epoch 21/75\n",
      "64/64 [==============================] - 31s 479ms/step - loss: 1.6676 - accuracy: 0.5830 - recall: 0.5700 - val_loss: 1.8204 - val_accuracy: 0.4000 - val_recall: 0.3333\n",
      "Epoch 22/75\n",
      "64/64 [==============================] - 31s 481ms/step - loss: 1.6460 - accuracy: 0.5108 - recall: 0.3980 - val_loss: 2.0597 - val_accuracy: 0.4333 - val_recall: 0.4000\n",
      "Epoch 23/75\n",
      "64/64 [==============================] - 30s 468ms/step - loss: 2.1068 - accuracy: 0.5437 - recall: 0.4798 - val_loss: 3.7214 - val_accuracy: 0.6000 - val_recall: 0.6000\n",
      "Epoch 24/75\n",
      "64/64 [==============================] - 30s 474ms/step - loss: 1.5850 - accuracy: 0.5437 - recall: 0.4715 - val_loss: 2.1902 - val_accuracy: 0.5667 - val_recall: 0.5667\n",
      "Epoch 25/75\n",
      "64/64 [==============================] - 30s 469ms/step - loss: 1.6151 - accuracy: 0.5061 - recall: 0.4068 - val_loss: 1.2574 - val_accuracy: 0.7333 - val_recall: 0.6333\n",
      "Epoch 26/75\n",
      "64/64 [==============================] - 32s 499ms/step - loss: 1.7859 - accuracy: 0.5115 - recall: 0.4667 - val_loss: 2.3458 - val_accuracy: 0.5667 - val_recall: 0.5667\n",
      "Epoch 27/75\n",
      "64/64 [==============================] - 36s 568ms/step - loss: 1.4110 - accuracy: 0.6516 - recall: 0.5947 - val_loss: 1.2914 - val_accuracy: 0.6333 - val_recall: 0.4667\n",
      "Epoch 28/75\n",
      "64/64 [==============================] - 35s 549ms/step - loss: 1.4110 - accuracy: 0.6288 - recall: 0.6135 - val_loss: 1.6440 - val_accuracy: 0.6000 - val_recall: 0.4333\n",
      "Epoch 29/75\n",
      "64/64 [==============================] - 33s 514ms/step - loss: 0.9061 - accuracy: 0.6828 - recall: 0.6393 - val_loss: 2.2100 - val_accuracy: 0.5333 - val_recall: 0.5333\n",
      "Epoch 30/75\n",
      "64/64 [==============================] - 34s 525ms/step - loss: 1.3650 - accuracy: 0.6176 - recall: 0.5264 - val_loss: 1.1960 - val_accuracy: 0.7000 - val_recall: 0.7000\n",
      "Epoch 31/75\n",
      "64/64 [==============================] - 31s 492ms/step - loss: 1.3406 - accuracy: 0.6310 - recall: 0.5601 - val_loss: 4.1411 - val_accuracy: 0.6333 - val_recall: 0.6333\n",
      "Epoch 32/75\n",
      "64/64 [==============================] - 31s 486ms/step - loss: 1.2391 - accuracy: 0.5558 - recall: 0.5110 - val_loss: 2.5489 - val_accuracy: 0.6667 - val_recall: 0.6667\n",
      "Epoch 33/75\n",
      "64/64 [==============================] - 31s 483ms/step - loss: 1.7313 - accuracy: 0.4160 - recall: 0.3310 - val_loss: 2.1094 - val_accuracy: 0.6333 - val_recall: 0.6000\n",
      "Epoch 34/75\n",
      "64/64 [==============================] - 31s 481ms/step - loss: 1.3967 - accuracy: 0.5118 - recall: 0.3310 - val_loss: 1.3674 - val_accuracy: 0.6333 - val_recall: 0.4667\n",
      "Epoch 35/75\n",
      "64/64 [==============================] - 32s 498ms/step - loss: 1.2975 - accuracy: 0.6174 - recall: 0.3990 - val_loss: 1.6119 - val_accuracy: 0.6667 - val_recall: 0.6667\n",
      "Epoch 36/75\n",
      "64/64 [==============================] - 32s 503ms/step - loss: 1.0297 - accuracy: 0.6452 - recall: 0.5615 - val_loss: 0.7228 - val_accuracy: 0.8333 - val_recall: 0.8000\n",
      "Epoch 37/75\n",
      "64/64 [==============================] - 32s 496ms/step - loss: 1.5805 - accuracy: 0.4976 - recall: 0.4343 - val_loss: 1.7385 - val_accuracy: 0.6000 - val_recall: 0.5667\n",
      "Epoch 38/75\n",
      "64/64 [==============================] - 32s 503ms/step - loss: 1.1187 - accuracy: 0.5580 - recall: 0.5506 - val_loss: 10.9320 - val_accuracy: 0.6333 - val_recall: 0.6333\n",
      "Epoch 39/75\n",
      "64/64 [==============================] - 32s 493ms/step - loss: 1.0238 - accuracy: 0.6036 - recall: 0.6010 - val_loss: 2.4964 - val_accuracy: 0.5000 - val_recall: 0.4667\n",
      "Epoch 40/75\n",
      "64/64 [==============================] - 32s 496ms/step - loss: 1.4402 - accuracy: 0.4714 - recall: 0.4426 - val_loss: 3.6993 - val_accuracy: 0.6333 - val_recall: 0.6000\n",
      "Epoch 41/75\n",
      "64/64 [==============================] - 31s 487ms/step - loss: 1.6987 - accuracy: 0.4527 - recall: 0.3341 - val_loss: 4.3095 - val_accuracy: 0.5667 - val_recall: 0.5333\n",
      "Epoch 42/75\n",
      "64/64 [==============================] - 32s 503ms/step - loss: 1.8335 - accuracy: 0.3932 - recall: 0.3621 - val_loss: 3.7809 - val_accuracy: 0.6667 - val_recall: 0.6667\n",
      "Epoch 43/75\n",
      "64/64 [==============================] - 32s 493ms/step - loss: 0.9562 - accuracy: 0.7858 - recall: 0.7261 - val_loss: 2.2389 - val_accuracy: 0.6000 - val_recall: 0.4000\n",
      "Epoch 44/75\n",
      "64/64 [==============================] - 33s 511ms/step - loss: 1.1225 - accuracy: 0.6451 - recall: 0.6372 - val_loss: 1.8248 - val_accuracy: 0.5667 - val_recall: 0.5667\n",
      "Epoch 45/75\n",
      "64/64 [==============================] - 30s 469ms/step - loss: 0.8301 - accuracy: 0.7058 - recall: 0.6896 - val_loss: 1.1729 - val_accuracy: 0.6667 - val_recall: 0.5333\n",
      "Epoch 46/75\n"
     ]
    },
    {
     "name": "stdout",
     "output_type": "stream",
     "text": [
      "64/64 [==============================] - 30s 476ms/step - loss: 1.0321 - accuracy: 0.7394 - recall: 0.6188 - val_loss: 1.5646 - val_accuracy: 0.3667 - val_recall: 0.3000\n",
      "Epoch 47/75\n",
      "64/64 [==============================] - 30s 474ms/step - loss: 1.3645 - accuracy: 0.5627 - recall: 0.5025 - val_loss: 1.4720 - val_accuracy: 0.7667 - val_recall: 0.7000\n",
      "Epoch 48/75\n",
      "64/64 [==============================] - 30s 467ms/step - loss: 1.3341 - accuracy: 0.5419 - recall: 0.4532 - val_loss: 4.8593 - val_accuracy: 0.7333 - val_recall: 0.7333\n",
      "Epoch 49/75\n",
      "64/64 [==============================] - 32s 496ms/step - loss: 1.2141 - accuracy: 0.6326 - recall: 0.5003 - val_loss: 1.7793 - val_accuracy: 0.3667 - val_recall: 0.2000\n",
      "Epoch 50/75\n",
      "64/64 [==============================] - 31s 486ms/step - loss: 1.1252 - accuracy: 0.5870 - recall: 0.5701 - val_loss: 2.8884 - val_accuracy: 0.6333 - val_recall: 0.6000\n",
      "Epoch 51/75\n",
      "64/64 [==============================] - 30s 471ms/step - loss: 1.6356 - accuracy: 0.5014 - recall: 0.4066 - val_loss: 2.3515 - val_accuracy: 0.5667 - val_recall: 0.4333\n",
      "Epoch 52/75\n",
      "64/64 [==============================] - 30s 475ms/step - loss: 0.9762 - accuracy: 0.7350 - recall: 0.6879 - val_loss: 6.1019 - val_accuracy: 0.6333 - val_recall: 0.6333\n",
      "Epoch 53/75\n",
      "64/64 [==============================] - 30s 466ms/step - loss: 1.0825 - accuracy: 0.7566 - recall: 0.6978 - val_loss: 2.0221 - val_accuracy: 0.8000 - val_recall: 0.7667\n",
      "Epoch 54/75\n",
      "64/64 [==============================] - 30s 472ms/step - loss: 1.1837 - accuracy: 0.6305 - recall: 0.5781 - val_loss: 7.3881 - val_accuracy: 0.6333 - val_recall: 0.6333\n",
      "Epoch 55/75\n",
      "64/64 [==============================] - 30s 463ms/step - loss: 0.8848 - accuracy: 0.7406 - recall: 0.6041 - val_loss: 1.6803 - val_accuracy: 0.6333 - val_recall: 0.5333\n",
      "Epoch 56/75\n",
      "64/64 [==============================] - 29s 458ms/step - loss: 0.8877 - accuracy: 0.8087 - recall: 0.7862 - val_loss: 2.2206 - val_accuracy: 0.6667 - val_recall: 0.6000\n",
      "Epoch 57/75\n",
      "64/64 [==============================] - 30s 465ms/step - loss: 1.5110 - accuracy: 0.4961 - recall: 0.3369 - val_loss: 2.1071 - val_accuracy: 0.5000 - val_recall: 0.4333\n",
      "Epoch 58/75\n",
      "64/64 [==============================] - 31s 485ms/step - loss: 0.7992 - accuracy: 0.7470 - recall: 0.6310 - val_loss: 1.5388 - val_accuracy: 0.5667 - val_recall: 0.5000\n",
      "Epoch 59/75\n",
      "64/64 [==============================] - 33s 512ms/step - loss: 1.3327 - accuracy: 0.6450 - recall: 0.5924 - val_loss: 1.1011 - val_accuracy: 0.8000 - val_recall: 0.8000\n",
      "Epoch 60/75\n",
      "64/64 [==============================] - 29s 453ms/step - loss: 1.4349 - accuracy: 0.6137 - recall: 0.5746 - val_loss: 1.1833 - val_accuracy: 0.7000 - val_recall: 0.7000\n",
      "Epoch 61/75\n",
      "64/64 [==============================] - 30s 462ms/step - loss: 1.1354 - accuracy: 0.6564 - recall: 0.6541 - val_loss: 0.9826 - val_accuracy: 0.8000 - val_recall: 0.8000\n",
      "Epoch 62/75\n",
      "64/64 [==============================] - 29s 457ms/step - loss: 1.2001 - accuracy: 0.5977 - recall: 0.4976 - val_loss: 2.6219 - val_accuracy: 0.5000 - val_recall: 0.4667\n",
      "Epoch 63/75\n",
      "64/64 [==============================] - 29s 455ms/step - loss: 1.2008 - accuracy: 0.6275 - recall: 0.6071 - val_loss: 1.7375 - val_accuracy: 0.7000 - val_recall: 0.6667\n",
      "Epoch 64/75\n",
      "64/64 [==============================] - 29s 455ms/step - loss: 0.9713 - accuracy: 0.6101 - recall: 0.4654 - val_loss: 5.0709 - val_accuracy: 0.6000 - val_recall: 0.6000\n",
      "Epoch 65/75\n",
      "64/64 [==============================] - 29s 458ms/step - loss: 1.0332 - accuracy: 0.6587 - recall: 0.6261 - val_loss: 19.7542 - val_accuracy: 0.7000 - val_recall: 0.7000\n",
      "Epoch 66/75\n",
      "64/64 [==============================] - 30s 475ms/step - loss: 1.0792 - accuracy: 0.6683 - recall: 0.4303 - val_loss: 0.6855 - val_accuracy: 0.8000 - val_recall: 0.7000\n",
      "Epoch 67/75\n",
      "64/64 [==============================] - 31s 481ms/step - loss: 0.7088 - accuracy: 0.8057 - recall: 0.7588 - val_loss: 3.4600 - val_accuracy: 0.6667 - val_recall: 0.6667\n",
      "Epoch 68/75\n",
      "64/64 [==============================] - 30s 475ms/step - loss: 0.8763 - accuracy: 0.6233 - recall: 0.6233 - val_loss: 1.7255 - val_accuracy: 0.6000 - val_recall: 0.5667\n",
      "Epoch 69/75\n",
      "64/64 [==============================] - 30s 465ms/step - loss: 0.7337 - accuracy: 0.7751 - recall: 0.7751 - val_loss: 1.6163 - val_accuracy: 0.7667 - val_recall: 0.7333\n",
      "Epoch 70/75\n",
      "64/64 [==============================] - 32s 501ms/step - loss: 0.9015 - accuracy: 0.7052 - recall: 0.6761 - val_loss: 1.8848 - val_accuracy: 0.7667 - val_recall: 0.7667\n",
      "Epoch 71/75\n",
      "64/64 [==============================] - 32s 494ms/step - loss: 1.8153 - accuracy: 0.5495 - recall: 0.5273 - val_loss: 1.2453 - val_accuracy: 0.6333 - val_recall: 0.6333\n",
      "Epoch 72/75\n",
      "64/64 [==============================] - 29s 458ms/step - loss: 1.4254 - accuracy: 0.6526 - recall: 0.5909 - val_loss: 1.7791 - val_accuracy: 0.6333 - val_recall: 0.5333\n",
      "Epoch 73/75\n",
      "64/64 [==============================] - 30s 465ms/step - loss: 1.2599 - accuracy: 0.5647 - recall: 0.4014 - val_loss: 4.3649 - val_accuracy: 0.6000 - val_recall: 0.6000\n",
      "Epoch 74/75\n",
      "64/64 [==============================] - 30s 466ms/step - loss: 1.0439 - accuracy: 0.6458 - recall: 0.6171 - val_loss: 5.0708 - val_accuracy: 0.7000 - val_recall: 0.6667\n",
      "Epoch 75/75\n",
      "64/64 [==============================] - 29s 458ms/step - loss: 1.5432 - accuracy: 0.5285 - recall: 0.4994 - val_loss: 3.1293 - val_accuracy: 0.5000 - val_recall: 0.2667\n"
     ]
    }
   ],
   "source": [
    "my_callbacks = [\n",
    "    keras.callbacks.EarlyStopping(patience=100),\n",
    "    keras.callbacks.TensorBoard(log_dir='./logs')]\n",
    "#keras.callbacks.ModelCheckpoint(filepath='./checkpoint/model.{epoch:02d}-{val_loss:.2f}.h5')\n",
    "\n",
    "history = model.fit(mygenerator(train),\n",
    "                    epochs=75,\n",
    "                    steps_per_epoch=64, #<------------\n",
    "                    validation_data=mygenerator(test),\n",
    "                    validation_steps=30, \n",
    "                    callbacks=my_callbacks)                 \n"
   ]
  },
  {
   "cell_type": "code",
   "execution_count": null,
   "metadata": {},
   "outputs": [],
   "source": []
  },
  {
   "cell_type": "code",
   "execution_count": 43,
   "metadata": {},
   "outputs": [
    {
     "name": "stdout",
     "output_type": "stream",
     "text": [
      "Test score: 1.8480132818222046\n",
      "Test accuracy: 0.6200000047683716\n"
     ]
    }
   ],
   "source": [
    "score = model.evaluate(mygenerator(test), steps=200,verbose=0)\n",
    "\n",
    "print('Test score:', score[0])\n",
    "print('Test accuracy:', score[1])  # this is the one we care about"
   ]
  },
  {
   "cell_type": "code",
   "execution_count": 44,
   "metadata": {},
   "outputs": [
    {
     "data": {
      "image/png": "[encoded data removed]",
      "text/plain": [
       "<Figure size 432x288 with 2 Axes>"
      ]
     },
     "metadata": {
      "needs_background": "light"
     },
     "output_type": "display_data"
    }
   ],
   "source": [
    "%matplotlib inline\n",
    "import matplotlib.pyplot as plt\n",
    "\n",
    "fig, loss_ax = plt.subplots()\n",
    "\n",
    "acc_ax = loss_ax.twinx()\n",
    "\n",
    "loss_ax.plot(history.history['loss'], 'y', label='train loss')\n",
    "loss_ax.plot(history.history['val_loss'], 'r', label='val loss')\n",
    "\n",
    "acc_ax.plot(history.history['accuracy'], 'b', label='train acc')\n",
    "acc_ax.plot(history.history['val_accuracy'], 'g', label='val acc')\n",
    "\n",
    "loss_ax.set_xlabel('epoch')\n",
    "loss_ax.set_ylabel('loss')\n",
    "acc_ax.set_ylabel('accuray')\n",
    "\n",
    "loss_ax.legend(loc='upper left')\n",
    "acc_ax.legend(loc='lower left')\n",
    "\n",
    "plt.show()\n"
   ]
  },
  {
   "cell_type": "code",
   "execution_count": 1,
   "metadata": {},
   "outputs": [],
   "source": [
    "# [plt.plot(history.history[i], label=i) for i in history.history.keys()]\n",
    "# plt.legend();"
   ]
  },
  {
   "cell_type": "code",
   "execution_count": 2,
   "metadata": {},
   "outputs": [],
   "source": [
    "# confusion matrix\n",
    "# from sklearn.metrics import confusion_matrix\n",
    "\n",
    "# y_pred = model.predict(mygenerator(test),steps=200) # probability\n",
    "# y_pred = np.argmax(y_pred, axis=1) # index of highest prob \n",
    "# y_pred"
   ]
  },
  {
   "cell_type": "code",
   "execution_count": 46,
   "metadata": {},
   "outputs": [
    {
     "data": {
      "text/plain": [
       "<matplotlib.image.AxesImage at 0x7fc550546990>"
      ]
     },
     "execution_count": 46,
     "metadata": {},
     "output_type": "execute_result"
    },
    {
     "data": {
      "image/png": "[encoded data removed]",
      "text/plain": [
       "<Figure size 432x288 with 1 Axes>"
      ]
     },
     "metadata": {
      "needs_background": "light"
     },
     "output_type": "display_data"
    }
   ],
   "source": [
    "x,y= next(mygenerator(test))\n",
    "x.shape\n",
    "y.shape\n",
    "plt.imshow(x[0,:,:,0])"
   ]
  },
  {
   "cell_type": "code",
   "execution_count": 47,
   "metadata": {},
   "outputs": [],
   "source": [
    "prediction = [] \n",
    "actual = []\n",
    "for x,y in mygenerator(test):\n",
    "#     plt.imshow(x[0,:,:,0])\n",
    "    actual.append(y.argmax())\n",
    "    prediction.append(model.predict(x).argmax())\n",
    "    if len(actual)>2000:\n",
    "        break     "
   ]
  },
  {
   "cell_type": "code",
   "execution_count": 35,
   "metadata": {},
   "outputs": [],
   "source": [
    "# actual"
   ]
  },
  {
   "cell_type": "code",
   "execution_count": 36,
   "metadata": {},
   "outputs": [],
   "source": [
    "# prediction"
   ]
  },
  {
   "cell_type": "code",
   "execution_count": 48,
   "metadata": {},
   "outputs": [
    {
     "name": "stdout",
     "output_type": "stream",
     "text": [
      "Confusion Matrix\n",
      "[[1011   37   44    0   31  165    0]\n",
      " [  52    1    2    0    1    8    0]\n",
      " [ 142    7   53    0    0   12    0]\n",
      " [   3    0    0    0    1    0    0]\n",
      " [ 160    1    1    0   42   14    0]\n",
      " [ 167    4    1    0    5   20    0]\n",
      " [  10    0    0    0    2    4    0]]\n"
     ]
    }
   ],
   "source": [
    "# confusion matrix\n",
    "from sklearn.metrics import confusion_matrix\n",
    "print('Confusion Matrix')\n",
    "multiclass=confusion_matrix(actual, prediction)\n",
    "print(multiclass)"
   ]
  },
  {
   "cell_type": "code",
   "execution_count": 49,
   "metadata": {
    "scrolled": true
   },
   "outputs": [
    {
     "data": {
      "image/png": "[encoded data removed]",
      "text/plain": [
       "<Figure size 432x288 with 2 Axes>"
      ]
     },
     "metadata": {
      "needs_background": "light"
     },
     "output_type": "display_data"
    }
   ],
   "source": [
    "cm = confusion_matrix(actual, prediction)\n",
    "\n",
    "plt.imshow(cm, cmap=plt.cm.Blues)\n",
    "plt.xlabel(\"Predicted labels\")\n",
    "plt.ylabel(\"True labels\")\n",
    "plt.xticks([], [])\n",
    "plt.yticks([], [])\n",
    "plt.title('Confusion matrix ')\n",
    "plt.colorbar()\n",
    "plt.show()\n"
   ]
  },
  {
   "cell_type": "code",
   "execution_count": null,
   "metadata": {},
   "outputs": [],
   "source": []
  }
 ],
 "metadata": {
  "kernelspec": {
   "display_name": "Python 3",
   "language": "python",
   "name": "python3"
  },
  "language_info": {
   "codemirror_mode": {
    "name": "ipython",
    "version": 3
   },
   "file_extension": ".py",
   "mimetype": "text/x-python",
   "name": "python",
   "nbconvert_exporter": "python",
   "pygments_lexer": "ipython3",
   "version": "3.7.9"
  }
 },
 "nbformat": 4,
 "nbformat_minor": 4
}
