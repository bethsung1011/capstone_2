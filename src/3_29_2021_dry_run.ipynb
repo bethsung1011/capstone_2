{
 "cells": [
  {
   "cell_type": "code",
   "execution_count": 1,
   "metadata": {},
   "outputs": [],
   "source": [
    "import numpy as np\n",
    "import pandas as pd\n",
    "import matplotlib.pyplot as plt\n",
    "import os\n",
    "\n",
    "\n",
    "from skimage.io import imread\n",
    "from skimage.color import rgb2gray\n",
    "from skimage.filters import sobel \n",
    "from skimage.feature._canny import canny\n",
    "from skimage.color import rgb2gray\n",
    "from skimage.restoration import denoise_bilateral, denoise_tv_chambolle\n",
    "from skimage.transform import resize\n",
    "from sklearn.cluster import KMeans\n",
    "\n",
    "from tensorflow import keras\n",
    "\n",
    "# import tensorflow as tf\n",
    "# from tensorflow import keras\n",
    "# from tensorflow.keras.datasets import mnist\n",
    "# from tensorflow.keras.models import Sequential\n",
    "# from tensorflow.keras.layers import Dense, Dropout, Activation, Flatten\n",
    "# from tensorflow.keras.layers import Conv2D, MaxPooling2D\n",
    "# from tensorflow.keras.utils import to_categorical\n",
    "\n",
    "\n",
    "from tensorflow.keras.preprocessing.image import ImageDataGenerator, array_to_img, img_to_array, load_img\n",
    "\n",
    "%matplotlib inline\n",
    "# matplotlib.style.use('ggplot')"
   ]
  },
  {
   "cell_type": "code",
   "execution_count": 2,
   "metadata": {},
   "outputs": [],
   "source": [
    "! cd ..\n"
   ]
  },
  {
   "cell_type": "code",
   "execution_count": 3,
   "metadata": {},
   "outputs": [
    {
     "name": "stdout",
     "output_type": "stream",
     "text": [
      " 3_29_2021_dry_run.ipynb   checkpoint\t\t'ResNet50 .ipynb'\r\n",
      " 3_30_2021_dry_run.ipynb   Land_solution.ipynb\t train.csv\r\n",
      " AlexNet.ipynb\t\t   logs\t\t\t VGG16.ipynb\r\n"
     ]
    }
   ],
   "source": [
    "!ls"
   ]
  },
  {
   "cell_type": "code",
   "execution_count": 4,
   "metadata": {},
   "outputs": [
    {
     "data": {
      "text/html": [
       "<div>\n",
       "<style scoped>\n",
       "    .dataframe tbody tr th:only-of-type {\n",
       "        vertical-align: middle;\n",
       "    }\n",
       "\n",
       "    .dataframe tbody tr th {\n",
       "        vertical-align: top;\n",
       "    }\n",
       "\n",
       "    .dataframe thead th {\n",
       "        text-align: right;\n",
       "    }\n",
       "</style>\n",
       "<table border=\"1\" class=\"dataframe\">\n",
       "  <thead>\n",
       "    <tr style=\"text-align: right;\">\n",
       "      <th></th>\n",
       "      <th>image_id</th>\n",
       "      <th>grapheme_root</th>\n",
       "      <th>vowel_diacritic</th>\n",
       "      <th>consonant_diacritic</th>\n",
       "      <th>grapheme</th>\n",
       "    </tr>\n",
       "  </thead>\n",
       "  <tbody>\n",
       "    <tr>\n",
       "      <th>0</th>\n",
       "      <td>Train_0</td>\n",
       "      <td>15</td>\n",
       "      <td>9</td>\n",
       "      <td>5</td>\n",
       "      <td>ক্ট্রো</td>\n",
       "    </tr>\n",
       "    <tr>\n",
       "      <th>1</th>\n",
       "      <td>Train_1</td>\n",
       "      <td>159</td>\n",
       "      <td>0</td>\n",
       "      <td>0</td>\n",
       "      <td>হ</td>\n",
       "    </tr>\n",
       "    <tr>\n",
       "      <th>2</th>\n",
       "      <td>Train_2</td>\n",
       "      <td>22</td>\n",
       "      <td>3</td>\n",
       "      <td>5</td>\n",
       "      <td>খ্রী</td>\n",
       "    </tr>\n",
       "    <tr>\n",
       "      <th>3</th>\n",
       "      <td>Train_3</td>\n",
       "      <td>53</td>\n",
       "      <td>2</td>\n",
       "      <td>2</td>\n",
       "      <td>র্টি</td>\n",
       "    </tr>\n",
       "    <tr>\n",
       "      <th>4</th>\n",
       "      <td>Train_4</td>\n",
       "      <td>71</td>\n",
       "      <td>9</td>\n",
       "      <td>5</td>\n",
       "      <td>থ্রো</td>\n",
       "    </tr>\n",
       "    <tr>\n",
       "      <th>...</th>\n",
       "      <td>...</td>\n",
       "      <td>...</td>\n",
       "      <td>...</td>\n",
       "      <td>...</td>\n",
       "      <td>...</td>\n",
       "    </tr>\n",
       "    <tr>\n",
       "      <th>200835</th>\n",
       "      <td>Train_200835</td>\n",
       "      <td>22</td>\n",
       "      <td>7</td>\n",
       "      <td>2</td>\n",
       "      <td>র্খে</td>\n",
       "    </tr>\n",
       "    <tr>\n",
       "      <th>200836</th>\n",
       "      <td>Train_200836</td>\n",
       "      <td>65</td>\n",
       "      <td>9</td>\n",
       "      <td>0</td>\n",
       "      <td>ত্তো</td>\n",
       "    </tr>\n",
       "    <tr>\n",
       "      <th>200837</th>\n",
       "      <td>Train_200837</td>\n",
       "      <td>2</td>\n",
       "      <td>1</td>\n",
       "      <td>4</td>\n",
       "      <td>অ্যা</td>\n",
       "    </tr>\n",
       "    <tr>\n",
       "      <th>200838</th>\n",
       "      <td>Train_200838</td>\n",
       "      <td>152</td>\n",
       "      <td>9</td>\n",
       "      <td>0</td>\n",
       "      <td>স্নো</td>\n",
       "    </tr>\n",
       "    <tr>\n",
       "      <th>200839</th>\n",
       "      <td>Train_200839</td>\n",
       "      <td>127</td>\n",
       "      <td>2</td>\n",
       "      <td>0</td>\n",
       "      <td>ল্টি</td>\n",
       "    </tr>\n",
       "  </tbody>\n",
       "</table>\n",
       "<p>200840 rows × 5 columns</p>\n",
       "</div>"
      ],
      "text/plain": [
       "            image_id  grapheme_root  vowel_diacritic  consonant_diacritic  \\\n",
       "0            Train_0             15                9                    5   \n",
       "1            Train_1            159                0                    0   \n",
       "2            Train_2             22                3                    5   \n",
       "3            Train_3             53                2                    2   \n",
       "4            Train_4             71                9                    5   \n",
       "...              ...            ...              ...                  ...   \n",
       "200835  Train_200835             22                7                    2   \n",
       "200836  Train_200836             65                9                    0   \n",
       "200837  Train_200837              2                1                    4   \n",
       "200838  Train_200838            152                9                    0   \n",
       "200839  Train_200839            127                2                    0   \n",
       "\n",
       "       grapheme  \n",
       "0        ক্ট্রো  \n",
       "1             হ  \n",
       "2          খ্রী  \n",
       "3          র্টি  \n",
       "4          থ্রো  \n",
       "...         ...  \n",
       "200835     র্খে  \n",
       "200836     ত্তো  \n",
       "200837     অ্যা  \n",
       "200838     স্নো  \n",
       "200839     ল্টি  \n",
       "\n",
       "[200840 rows x 5 columns]"
      ]
     },
     "execution_count": 4,
     "metadata": {},
     "output_type": "execute_result"
    }
   ],
   "source": [
    "df_index=pd.read_csv('train.csv')\n",
    "df_index"
   ]
  },
  {
   "cell_type": "code",
   "execution_count": 5,
   "metadata": {},
   "outputs": [
    {
     "data": {
      "text/plain": [
       "(200840, 5)"
      ]
     },
     "execution_count": 5,
     "metadata": {},
     "output_type": "execute_result"
    }
   ],
   "source": [
    "df_index.shape"
   ]
  },
  {
   "cell_type": "code",
   "execution_count": 6,
   "metadata": {},
   "outputs": [
    {
     "data": {
      "text/plain": [
       "<AxesSubplot:>"
      ]
     },
     "execution_count": 6,
     "metadata": {},
     "output_type": "execute_result"
    },
    {
     "data": {
      "image/png": "[encoded data removed]",
      "text/plain": [
       "<Figure size 720x2160 with 1 Axes>"
      ]
     },
     "metadata": {
      "needs_background": "light"
     },
     "output_type": "display_data"
    }
   ],
   "source": [
    "plt.figure(figsize=(10,30))\n",
    "df_index['grapheme_root'].value_counts().sort_index().plot.barh()  "
   ]
  },
  {
   "cell_type": "code",
   "execution_count": 7,
   "metadata": {},
   "outputs": [
    {
     "data": {
      "text/plain": [
       "<AxesSubplot:>"
      ]
     },
     "execution_count": 7,
     "metadata": {},
     "output_type": "execute_result"
    },
    {
     "data": {
      "image/png": "[encoded data removed]",
      "text/plain": [
       "<Figure size 432x288 with 1 Axes>"
      ]
     },
     "metadata": {
      "needs_background": "light"
     },
     "output_type": "display_data"
    }
   ],
   "source": [
    "df_index['vowel_diacritic'].value_counts().sort_index().plot.barh()  "
   ]
  },
  {
   "cell_type": "code",
   "execution_count": 8,
   "metadata": {},
   "outputs": [
    {
     "data": {
      "text/plain": [
       "<AxesSubplot:>"
      ]
     },
     "execution_count": 8,
     "metadata": {},
     "output_type": "execute_result"
    },
    {
     "data": {
      "image/png": "[encoded data removed]",
      "text/plain": [
       "<Figure size 432x288 with 1 Axes>"
      ]
     },
     "metadata": {
      "needs_background": "light"
     },
     "output_type": "display_data"
    }
   ],
   "source": [
    "df_index['consonant_diacritic'].value_counts().sort_index().plot.barh()  "
   ]
  },
  {
   "cell_type": "code",
   "execution_count": 9,
   "metadata": {},
   "outputs": [],
   "source": [
    "df_index['image_id']=df_index['image_id']+'.jpg'"
   ]
  },
  {
   "cell_type": "code",
   "execution_count": 10,
   "metadata": {},
   "outputs": [
    {
     "data": {
      "text/html": [
       "<div>\n",
       "<style scoped>\n",
       "    .dataframe tbody tr th:only-of-type {\n",
       "        vertical-align: middle;\n",
       "    }\n",
       "\n",
       "    .dataframe tbody tr th {\n",
       "        vertical-align: top;\n",
       "    }\n",
       "\n",
       "    .dataframe thead th {\n",
       "        text-align: right;\n",
       "    }\n",
       "</style>\n",
       "<table border=\"1\" class=\"dataframe\">\n",
       "  <thead>\n",
       "    <tr style=\"text-align: right;\">\n",
       "      <th></th>\n",
       "      <th>image_id</th>\n",
       "      <th>grapheme_root</th>\n",
       "      <th>vowel_diacritic</th>\n",
       "      <th>consonant_diacritic</th>\n",
       "      <th>grapheme</th>\n",
       "    </tr>\n",
       "  </thead>\n",
       "  <tbody>\n",
       "    <tr>\n",
       "      <th>0</th>\n",
       "      <td>Train_0.jpg</td>\n",
       "      <td>15</td>\n",
       "      <td>9</td>\n",
       "      <td>5</td>\n",
       "      <td>ক্ট্রো</td>\n",
       "    </tr>\n",
       "    <tr>\n",
       "      <th>1</th>\n",
       "      <td>Train_1.jpg</td>\n",
       "      <td>159</td>\n",
       "      <td>0</td>\n",
       "      <td>0</td>\n",
       "      <td>হ</td>\n",
       "    </tr>\n",
       "    <tr>\n",
       "      <th>2</th>\n",
       "      <td>Train_2.jpg</td>\n",
       "      <td>22</td>\n",
       "      <td>3</td>\n",
       "      <td>5</td>\n",
       "      <td>খ্রী</td>\n",
       "    </tr>\n",
       "    <tr>\n",
       "      <th>3</th>\n",
       "      <td>Train_3.jpg</td>\n",
       "      <td>53</td>\n",
       "      <td>2</td>\n",
       "      <td>2</td>\n",
       "      <td>র্টি</td>\n",
       "    </tr>\n",
       "    <tr>\n",
       "      <th>4</th>\n",
       "      <td>Train_4.jpg</td>\n",
       "      <td>71</td>\n",
       "      <td>9</td>\n",
       "      <td>5</td>\n",
       "      <td>থ্রো</td>\n",
       "    </tr>\n",
       "    <tr>\n",
       "      <th>...</th>\n",
       "      <td>...</td>\n",
       "      <td>...</td>\n",
       "      <td>...</td>\n",
       "      <td>...</td>\n",
       "      <td>...</td>\n",
       "    </tr>\n",
       "    <tr>\n",
       "      <th>200835</th>\n",
       "      <td>Train_200835.jpg</td>\n",
       "      <td>22</td>\n",
       "      <td>7</td>\n",
       "      <td>2</td>\n",
       "      <td>র্খে</td>\n",
       "    </tr>\n",
       "    <tr>\n",
       "      <th>200836</th>\n",
       "      <td>Train_200836.jpg</td>\n",
       "      <td>65</td>\n",
       "      <td>9</td>\n",
       "      <td>0</td>\n",
       "      <td>ত্তো</td>\n",
       "    </tr>\n",
       "    <tr>\n",
       "      <th>200837</th>\n",
       "      <td>Train_200837.jpg</td>\n",
       "      <td>2</td>\n",
       "      <td>1</td>\n",
       "      <td>4</td>\n",
       "      <td>অ্যা</td>\n",
       "    </tr>\n",
       "    <tr>\n",
       "      <th>200838</th>\n",
       "      <td>Train_200838.jpg</td>\n",
       "      <td>152</td>\n",
       "      <td>9</td>\n",
       "      <td>0</td>\n",
       "      <td>স্নো</td>\n",
       "    </tr>\n",
       "    <tr>\n",
       "      <th>200839</th>\n",
       "      <td>Train_200839.jpg</td>\n",
       "      <td>127</td>\n",
       "      <td>2</td>\n",
       "      <td>0</td>\n",
       "      <td>ল্টি</td>\n",
       "    </tr>\n",
       "  </tbody>\n",
       "</table>\n",
       "<p>200840 rows × 5 columns</p>\n",
       "</div>"
      ],
      "text/plain": [
       "                image_id  grapheme_root  vowel_diacritic  consonant_diacritic  \\\n",
       "0            Train_0.jpg             15                9                    5   \n",
       "1            Train_1.jpg            159                0                    0   \n",
       "2            Train_2.jpg             22                3                    5   \n",
       "3            Train_3.jpg             53                2                    2   \n",
       "4            Train_4.jpg             71                9                    5   \n",
       "...                  ...            ...              ...                  ...   \n",
       "200835  Train_200835.jpg             22                7                    2   \n",
       "200836  Train_200836.jpg             65                9                    0   \n",
       "200837  Train_200837.jpg              2                1                    4   \n",
       "200838  Train_200838.jpg            152                9                    0   \n",
       "200839  Train_200839.jpg            127                2                    0   \n",
       "\n",
       "       grapheme  \n",
       "0        ক্ট্রো  \n",
       "1             হ  \n",
       "2          খ্রী  \n",
       "3          র্টি  \n",
       "4          থ্রো  \n",
       "...         ...  \n",
       "200835     র্খে  \n",
       "200836     ত্তো  \n",
       "200837     অ্যা  \n",
       "200838     স্নো  \n",
       "200839     ল্টি  \n",
       "\n",
       "[200840 rows x 5 columns]"
      ]
     },
     "execution_count": 10,
     "metadata": {},
     "output_type": "execute_result"
    }
   ],
   "source": [
    "df_index"
   ]
  },
  {
   "cell_type": "code",
   "execution_count": null,
   "metadata": {},
   "outputs": [],
   "source": []
  },
  {
   "cell_type": "code",
   "execution_count": 11,
   "metadata": {},
   "outputs": [
    {
     "data": {
      "text/plain": [
       "0    125278\n",
       "2     23465\n",
       "5     21397\n",
       "4     21270\n",
       "1      7424\n",
       "6      1387\n",
       "3       619\n",
       "Name: consonant_diacritic, dtype: int64"
      ]
     },
     "execution_count": 11,
     "metadata": {},
     "output_type": "execute_result"
    }
   ],
   "source": [
    "df_index['consonant_diacritic'].value_counts() \n",
    "#7 values , # 7 columns one hot coding, output = 7 colums and softmax"
   ]
  },
  {
   "cell_type": "code",
   "execution_count": 12,
   "metadata": {},
   "outputs": [
    {
     "data": {
      "text/plain": [
       "image_id               object\n",
       "grapheme_root           int64\n",
       "vowel_diacritic         int64\n",
       "consonant_diacritic     int64\n",
       "grapheme               object\n",
       "dtype: object"
      ]
     },
     "execution_count": 12,
     "metadata": {},
     "output_type": "execute_result"
    }
   ],
   "source": [
    "df_index.dtypes"
   ]
  },
  {
   "cell_type": "code",
   "execution_count": 13,
   "metadata": {},
   "outputs": [
    {
     "name": "stdout",
     "output_type": "stream",
     "text": [
      "/home/beth/Galvanize/capstone/capstone_2/src\r\n"
     ]
    }
   ],
   "source": [
    "!pwd"
   ]
  },
  {
   "cell_type": "code",
   "execution_count": 14,
   "metadata": {},
   "outputs": [],
   "source": [
    "df_index_1 = df_index.iloc[:44597,:]"
   ]
  },
  {
   "cell_type": "code",
   "execution_count": 15,
   "metadata": {
    "scrolled": true
   },
   "outputs": [
    {
     "data": {
      "text/html": [
       "<div>\n",
       "<style scoped>\n",
       "    .dataframe tbody tr th:only-of-type {\n",
       "        vertical-align: middle;\n",
       "    }\n",
       "\n",
       "    .dataframe tbody tr th {\n",
       "        vertical-align: top;\n",
       "    }\n",
       "\n",
       "    .dataframe thead th {\n",
       "        text-align: right;\n",
       "    }\n",
       "</style>\n",
       "<table border=\"1\" class=\"dataframe\">\n",
       "  <thead>\n",
       "    <tr style=\"text-align: right;\">\n",
       "      <th></th>\n",
       "      <th>image_id</th>\n",
       "      <th>grapheme_root</th>\n",
       "      <th>vowel_diacritic</th>\n",
       "      <th>consonant_diacritic</th>\n",
       "      <th>grapheme</th>\n",
       "    </tr>\n",
       "  </thead>\n",
       "  <tbody>\n",
       "    <tr>\n",
       "      <th>0</th>\n",
       "      <td>Train_0.jpg</td>\n",
       "      <td>15</td>\n",
       "      <td>9</td>\n",
       "      <td>5</td>\n",
       "      <td>ক্ট্রো</td>\n",
       "    </tr>\n",
       "    <tr>\n",
       "      <th>1</th>\n",
       "      <td>Train_1.jpg</td>\n",
       "      <td>159</td>\n",
       "      <td>0</td>\n",
       "      <td>0</td>\n",
       "      <td>হ</td>\n",
       "    </tr>\n",
       "    <tr>\n",
       "      <th>2</th>\n",
       "      <td>Train_2.jpg</td>\n",
       "      <td>22</td>\n",
       "      <td>3</td>\n",
       "      <td>5</td>\n",
       "      <td>খ্রী</td>\n",
       "    </tr>\n",
       "    <tr>\n",
       "      <th>3</th>\n",
       "      <td>Train_3.jpg</td>\n",
       "      <td>53</td>\n",
       "      <td>2</td>\n",
       "      <td>2</td>\n",
       "      <td>র্টি</td>\n",
       "    </tr>\n",
       "    <tr>\n",
       "      <th>4</th>\n",
       "      <td>Train_4.jpg</td>\n",
       "      <td>71</td>\n",
       "      <td>9</td>\n",
       "      <td>5</td>\n",
       "      <td>থ্রো</td>\n",
       "    </tr>\n",
       "    <tr>\n",
       "      <th>...</th>\n",
       "      <td>...</td>\n",
       "      <td>...</td>\n",
       "      <td>...</td>\n",
       "      <td>...</td>\n",
       "      <td>...</td>\n",
       "    </tr>\n",
       "    <tr>\n",
       "      <th>44592</th>\n",
       "      <td>Train_44592.jpg</td>\n",
       "      <td>78</td>\n",
       "      <td>1</td>\n",
       "      <td>0</td>\n",
       "      <td>দ্মা</td>\n",
       "    </tr>\n",
       "    <tr>\n",
       "      <th>44593</th>\n",
       "      <td>Train_44593.jpg</td>\n",
       "      <td>86</td>\n",
       "      <td>2</td>\n",
       "      <td>0</td>\n",
       "      <td>ন্তি</td>\n",
       "    </tr>\n",
       "    <tr>\n",
       "      <th>44594</th>\n",
       "      <td>Train_44594.jpg</td>\n",
       "      <td>140</td>\n",
       "      <td>0</td>\n",
       "      <td>0</td>\n",
       "      <td>ষ্ক</td>\n",
       "    </tr>\n",
       "    <tr>\n",
       "      <th>44595</th>\n",
       "      <td>Train_44595.jpg</td>\n",
       "      <td>18</td>\n",
       "      <td>9</td>\n",
       "      <td>0</td>\n",
       "      <td>ক্ষো</td>\n",
       "    </tr>\n",
       "    <tr>\n",
       "      <th>44596</th>\n",
       "      <td>Train_44596.jpg</td>\n",
       "      <td>64</td>\n",
       "      <td>4</td>\n",
       "      <td>2</td>\n",
       "      <td>র্তু</td>\n",
       "    </tr>\n",
       "  </tbody>\n",
       "</table>\n",
       "<p>44597 rows × 5 columns</p>\n",
       "</div>"
      ],
      "text/plain": [
       "              image_id  grapheme_root  vowel_diacritic  consonant_diacritic  \\\n",
       "0          Train_0.jpg             15                9                    5   \n",
       "1          Train_1.jpg            159                0                    0   \n",
       "2          Train_2.jpg             22                3                    5   \n",
       "3          Train_3.jpg             53                2                    2   \n",
       "4          Train_4.jpg             71                9                    5   \n",
       "...                ...            ...              ...                  ...   \n",
       "44592  Train_44592.jpg             78                1                    0   \n",
       "44593  Train_44593.jpg             86                2                    0   \n",
       "44594  Train_44594.jpg            140                0                    0   \n",
       "44595  Train_44595.jpg             18                9                    0   \n",
       "44596  Train_44596.jpg             64                4                    2   \n",
       "\n",
       "      grapheme  \n",
       "0       ক্ট্রো  \n",
       "1            হ  \n",
       "2         খ্রী  \n",
       "3         র্টি  \n",
       "4         থ্রো  \n",
       "...        ...  \n",
       "44592     দ্মা  \n",
       "44593     ন্তি  \n",
       "44594      ষ্ক  \n",
       "44595     ক্ষো  \n",
       "44596     র্তু  \n",
       "\n",
       "[44597 rows x 5 columns]"
      ]
     },
     "execution_count": 15,
     "metadata": {},
     "output_type": "execute_result"
    }
   ],
   "source": [
    "df_index_1"
   ]
  },
  {
   "cell_type": "code",
   "execution_count": 16,
   "metadata": {},
   "outputs": [
    {
     "data": {
      "text/plain": [
       "<AxesSubplot:>"
      ]
     },
     "execution_count": 16,
     "metadata": {},
     "output_type": "execute_result"
    },
    {
     "data": {
      "image/png": "[encoded data removed]",
      "text/plain": [
       "<Figure size 720x1440 with 1 Axes>"
      ]
     },
     "metadata": {
      "needs_background": "light"
     },
     "output_type": "display_data"
    }
   ],
   "source": [
    "plt.figure(figsize=(10,20))\n",
    "df_index_1['grapheme_root'].value_counts().sort_index().plot.barh()  "
   ]
  },
  {
   "cell_type": "code",
   "execution_count": 17,
   "metadata": {},
   "outputs": [
    {
     "data": {
      "text/plain": [
       "<AxesSubplot:>"
      ]
     },
     "execution_count": 17,
     "metadata": {},
     "output_type": "execute_result"
    },
    {
     "data": {
      "image/png": "[encoded data removed]",
      "text/plain": [
       "<Figure size 432x288 with 1 Axes>"
      ]
     },
     "metadata": {
      "needs_background": "light"
     },
     "output_type": "display_data"
    }
   ],
   "source": [
    "df_index_1['vowel_diacritic'].value_counts().sort_index().plot.barh()  "
   ]
  },
  {
   "cell_type": "code",
   "execution_count": 18,
   "metadata": {},
   "outputs": [
    {
     "data": {
      "text/plain": [
       "<AxesSubplot:>"
      ]
     },
     "execution_count": 18,
     "metadata": {},
     "output_type": "execute_result"
    },
    {
     "data": {
      "image/png": "[encoded data removed]",
      "text/plain": [
       "<Figure size 432x288 with 1 Axes>"
      ]
     },
     "metadata": {
      "needs_background": "light"
     },
     "output_type": "display_data"
    }
   ],
   "source": [
    "df_index_1['consonant_diacritic'].value_counts().sort_index().plot.barh()  "
   ]
  },
  {
   "cell_type": "code",
   "execution_count": null,
   "metadata": {},
   "outputs": [],
   "source": []
  },
  {
   "cell_type": "code",
   "execution_count": 19,
   "metadata": {},
   "outputs": [
    {
     "name": "stdout",
     "output_type": "stream",
     "text": [
      "168\n"
     ]
    },
    {
     "data": {
      "text/plain": [
       "72     1284\n",
       "64     1247\n",
       "13     1236\n",
       "23     1129\n",
       "107    1110\n",
       "       ... \n",
       "63       27\n",
       "126      26\n",
       "45       24\n",
       "102      24\n",
       "73       22\n",
       "Name: grapheme_root, Length: 168, dtype: int64"
      ]
     },
     "execution_count": 19,
     "metadata": {},
     "output_type": "execute_result"
    }
   ],
   "source": [
    "print(len(df_index_1['grapheme_root'].value_counts()))\n",
    "df_index_1['grapheme_root'].value_counts()"
   ]
  },
  {
   "cell_type": "code",
   "execution_count": 20,
   "metadata": {},
   "outputs": [
    {
     "name": "stdout",
     "output_type": "stream",
     "text": [
      "11\n"
     ]
    },
    {
     "data": {
      "text/plain": [
       "0     9290\n",
       "1     8159\n",
       "7     6414\n",
       "2     5813\n",
       "4     4109\n",
       "3     3613\n",
       "9     3494\n",
       "5     1220\n",
       "6      951\n",
       "8      769\n",
       "10     765\n",
       "Name: vowel_diacritic, dtype: int64"
      ]
     },
     "execution_count": 20,
     "metadata": {},
     "output_type": "execute_result"
    }
   ],
   "source": [
    "print(len(df_index_1['vowel_diacritic'].value_counts()))\n",
    "df_index_1['vowel_diacritic'].value_counts()"
   ]
  },
  {
   "cell_type": "code",
   "execution_count": 21,
   "metadata": {},
   "outputs": [
    {
     "name": "stdout",
     "output_type": "stream",
     "text": [
      "7\n"
     ]
    },
    {
     "data": {
      "text/plain": [
       "0    27933\n",
       "2     5168\n",
       "5     4784\n",
       "4     4639\n",
       "1     1641\n",
       "6      293\n",
       "3      139\n",
       "Name: consonant_diacritic, dtype: int64"
      ]
     },
     "execution_count": 21,
     "metadata": {},
     "output_type": "execute_result"
    }
   ],
   "source": [
    "print(len(df_index_1['consonant_diacritic'].value_counts()))\n",
    "df_index_1['consonant_diacritic'].value_counts() "
   ]
  },
  {
   "cell_type": "code",
   "execution_count": null,
   "metadata": {},
   "outputs": [],
   "source": []
  },
  {
   "cell_type": "code",
   "execution_count": 22,
   "metadata": {},
   "outputs": [],
   "source": [
    "df_shuffle = df_index_1.sample(frac=1) #shuffle"
   ]
  },
  {
   "cell_type": "code",
   "execution_count": 23,
   "metadata": {},
   "outputs": [],
   "source": [
    "train = df_shuffle.iloc[:int(0.8*len(df_index_1)),:]\n",
    "test = df_shuffle.iloc[int(0.8*len(df_index_1)):,:]"
   ]
  },
  {
   "cell_type": "code",
   "execution_count": 24,
   "metadata": {},
   "outputs": [
    {
     "data": {
      "text/html": [
       "<div>\n",
       "<style scoped>\n",
       "    .dataframe tbody tr th:only-of-type {\n",
       "        vertical-align: middle;\n",
       "    }\n",
       "\n",
       "    .dataframe tbody tr th {\n",
       "        vertical-align: top;\n",
       "    }\n",
       "\n",
       "    .dataframe thead th {\n",
       "        text-align: right;\n",
       "    }\n",
       "</style>\n",
       "<table border=\"1\" class=\"dataframe\">\n",
       "  <thead>\n",
       "    <tr style=\"text-align: right;\">\n",
       "      <th></th>\n",
       "      <th>image_id</th>\n",
       "      <th>grapheme_root</th>\n",
       "      <th>vowel_diacritic</th>\n",
       "      <th>consonant_diacritic</th>\n",
       "      <th>grapheme</th>\n",
       "    </tr>\n",
       "  </thead>\n",
       "  <tbody>\n",
       "    <tr>\n",
       "      <th>5716</th>\n",
       "      <td>Train_5716.jpg</td>\n",
       "      <td>38</td>\n",
       "      <td>1</td>\n",
       "      <td>0</td>\n",
       "      <td>চা</td>\n",
       "    </tr>\n",
       "    <tr>\n",
       "      <th>26283</th>\n",
       "      <td>Train_26283.jpg</td>\n",
       "      <td>76</td>\n",
       "      <td>4</td>\n",
       "      <td>0</td>\n",
       "      <td>দ্বু</td>\n",
       "    </tr>\n",
       "    <tr>\n",
       "      <th>38976</th>\n",
       "      <td>Train_38976.jpg</td>\n",
       "      <td>42</td>\n",
       "      <td>0</td>\n",
       "      <td>2</td>\n",
       "      <td>র্ছ</td>\n",
       "    </tr>\n",
       "    <tr>\n",
       "      <th>15591</th>\n",
       "      <td>Train_15591.jpg</td>\n",
       "      <td>16</td>\n",
       "      <td>6</td>\n",
       "      <td>0</td>\n",
       "      <td>ক্তৃ</td>\n",
       "    </tr>\n",
       "    <tr>\n",
       "      <th>32997</th>\n",
       "      <td>Train_32997.jpg</td>\n",
       "      <td>96</td>\n",
       "      <td>2</td>\n",
       "      <td>5</td>\n",
       "      <td>প্রি</td>\n",
       "    </tr>\n",
       "    <tr>\n",
       "      <th>...</th>\n",
       "      <td>...</td>\n",
       "      <td>...</td>\n",
       "      <td>...</td>\n",
       "      <td>...</td>\n",
       "      <td>...</td>\n",
       "    </tr>\n",
       "    <tr>\n",
       "      <th>31451</th>\n",
       "      <td>Train_31451.jpg</td>\n",
       "      <td>148</td>\n",
       "      <td>0</td>\n",
       "      <td>0</td>\n",
       "      <td>স্ক</td>\n",
       "    </tr>\n",
       "    <tr>\n",
       "      <th>20793</th>\n",
       "      <td>Train_20793.jpg</td>\n",
       "      <td>79</td>\n",
       "      <td>10</td>\n",
       "      <td>0</td>\n",
       "      <td>ধৌ</td>\n",
       "    </tr>\n",
       "    <tr>\n",
       "      <th>23500</th>\n",
       "      <td>Train_23500.jpg</td>\n",
       "      <td>118</td>\n",
       "      <td>9</td>\n",
       "      <td>0</td>\n",
       "      <td>ম্বো</td>\n",
       "    </tr>\n",
       "    <tr>\n",
       "      <th>12054</th>\n",
       "      <td>Train_12054.jpg</td>\n",
       "      <td>81</td>\n",
       "      <td>0</td>\n",
       "      <td>2</td>\n",
       "      <td>র্ন</td>\n",
       "    </tr>\n",
       "    <tr>\n",
       "      <th>43290</th>\n",
       "      <td>Train_43290.jpg</td>\n",
       "      <td>29</td>\n",
       "      <td>7</td>\n",
       "      <td>5</td>\n",
       "      <td>ঘ্রে</td>\n",
       "    </tr>\n",
       "  </tbody>\n",
       "</table>\n",
       "<p>35677 rows × 5 columns</p>\n",
       "</div>"
      ],
      "text/plain": [
       "              image_id  grapheme_root  vowel_diacritic  consonant_diacritic  \\\n",
       "5716    Train_5716.jpg             38                1                    0   \n",
       "26283  Train_26283.jpg             76                4                    0   \n",
       "38976  Train_38976.jpg             42                0                    2   \n",
       "15591  Train_15591.jpg             16                6                    0   \n",
       "32997  Train_32997.jpg             96                2                    5   \n",
       "...                ...            ...              ...                  ...   \n",
       "31451  Train_31451.jpg            148                0                    0   \n",
       "20793  Train_20793.jpg             79               10                    0   \n",
       "23500  Train_23500.jpg            118                9                    0   \n",
       "12054  Train_12054.jpg             81                0                    2   \n",
       "43290  Train_43290.jpg             29                7                    5   \n",
       "\n",
       "      grapheme  \n",
       "5716        চা  \n",
       "26283     দ্বু  \n",
       "38976      র্ছ  \n",
       "15591     ক্তৃ  \n",
       "32997     প্রি  \n",
       "...        ...  \n",
       "31451      স্ক  \n",
       "20793       ধৌ  \n",
       "23500     ম্বো  \n",
       "12054      র্ন  \n",
       "43290     ঘ্রে  \n",
       "\n",
       "[35677 rows x 5 columns]"
      ]
     },
     "execution_count": 24,
     "metadata": {},
     "output_type": "execute_result"
    }
   ],
   "source": [
    "train"
   ]
  },
  {
   "cell_type": "code",
   "execution_count": 25,
   "metadata": {},
   "outputs": [],
   "source": [
    "from PIL import Image \n",
    "\n",
    "def mygenerator(dataframe, N): # X = image, y = target\n",
    "    for _ in range(N):\n",
    "        sample = dataframe.sample()\n",
    "        TRAIN_DIR = '/home/beth/Galvanize/capstone/capstone_2/data/train/train/'\n",
    "        image_name = TRAIN_DIR + sample['image_id'].values[0]\n",
    "        image=Image.open(image_name)\n",
    "        y=np.zeros(7)\n",
    "        y[sample[\"consonant_diacritic\"].values[0]]=1   \n",
    "        X = np.array(image).astype(np.int32)\n",
    "        y = y.astype(np.int32).reshape(1,7) \n",
    "        X = np.array([X,X,X]).reshape(1,137,236,3)\n",
    "        yield X,y\n",
    "# infinite numbers of X and y    "
   ]
  },
  {
   "cell_type": "code",
   "execution_count": 26,
   "metadata": {},
   "outputs": [],
   "source": [
    "# X,y = next(mygenerator(train, 1000)) # randomly pick a row "
   ]
  },
  {
   "cell_type": "code",
   "execution_count": 33,
   "metadata": {},
   "outputs": [],
   "source": [
    "# X.shape"
   ]
  },
  {
   "cell_type": "code",
   "execution_count": 34,
   "metadata": {},
   "outputs": [],
   "source": [
    "# y.shape"
   ]
  },
  {
   "cell_type": "code",
   "execution_count": 35,
   "metadata": {},
   "outputs": [],
   "source": [
    "# next(train_generator)[1]  # set of images # 32 y values  # one hot "
   ]
  },
  {
   "cell_type": "code",
   "execution_count": 36,
   "metadata": {},
   "outputs": [],
   "source": [
    "# next(train_generator)[0].shape # images "
   ]
  },
  {
   "cell_type": "code",
   "execution_count": null,
   "metadata": {},
   "outputs": [],
   "source": []
  },
  {
   "cell_type": "code",
   "execution_count": 37,
   "metadata": {},
   "outputs": [],
   "source": [
    "# len(train_generator)"
   ]
  },
  {
   "cell_type": "code",
   "execution_count": 38,
   "metadata": {},
   "outputs": [],
   "source": [
    "# len(validation_generator)"
   ]
  },
  {
   "cell_type": "code",
   "execution_count": 39,
   "metadata": {},
   "outputs": [],
   "source": [
    "model = keras.models.Sequential([\n",
    "    keras.layers.Conv2D(64, 7, activation=\"relu\", padding=\"valid\", input_shape=[137,236,3]),#input shape: [rows, columns, channels]\n",
    "    keras.layers.MaxPooling2D(2),\n",
    "    \n",
    "#     keras.layers.Conv2D(128, 3, activation=\"relu\", padding=\"valid\"),\n",
    "    keras.layers.Conv2D(128, 3, activation=\"relu\", padding=\"valid\"),\n",
    "    keras.layers.MaxPooling2D(2),\n",
    "    \n",
    "    keras.layers.Conv2D(128, 3, activation=\"relu\", padding=\"valid\"),\n",
    "#     keras.layers.Conv2D(256, 3, activation=\"relu\", padding=\"valid\"),\n",
    "    keras.layers.MaxPooling2D(2),\n",
    "    \n",
    "    keras.layers.Flatten(),\n",
    "    keras.layers.Dense(128, activation=\"relu\"),\n",
    "    keras.layers.Dropout(0.5),\n",
    "    keras.layers.Dense(64, activation=\"relu\"),\n",
    "    keras.layers.Dropout(0.5),\n",
    "    keras.layers.Dense(7, activation=\"softmax\")\n",
    "])\n",
    "\n",
    "model.compile(loss='categorical_crossentropy',\n",
    "                optimizer='adam',\n",
    "                metrics=['accuracy'])\n",
    "\n",
    "# Details/Retrospectives:\n",
    "# - reduce the layers \n",
    "# - first use of ReLU\n",
    "# - did not Norm layers (not common anymore)\n",
    "# - no data augmentation\n",
    "# - dropout 0.5\n",
    "# - no batch size 32\n",
    "# - no SGD Momentum \n",
    "# - no Learning rate, reduced by 10 manually when val accuracy plateaus\n",
    "# - no L2 weight decay 5\n",
    "# - no 7 CNN ensemble: "
   ]
  },
  {
   "cell_type": "code",
   "execution_count": 40,
   "metadata": {},
   "outputs": [
    {
     "name": "stdout",
     "output_type": "stream",
     "text": [
      "Epoch 1/2\n",
      "4000/4000 [==============================] - 702s 175ms/step - loss: 9.3755 - accuracy: 0.6049 - val_loss: 1.1934 - val_accuracy: 0.6230\n",
      "Epoch 2/2\n",
      "4000/4000 [==============================] - ETA: 0s - loss: 4.5730 - accuracy: 0.6167WARNING:tensorflow:Your input ran out of data; interrupting training. Make sure that your dataset or generator can generate at least `steps_per_epoch * epochs` batches (in this case, 2000 batches). You may need to use the repeat() function when building your dataset.\n",
      "4000/4000 [==============================] - 567s 142ms/step - loss: 4.5725 - accuracy: 0.6167\n",
      "WARNING:tensorflow:Early stopping conditioned on metric `val_loss` which is not available. Available metrics are: loss,accuracy\n"
     ]
    },
    {
     "ename": "KeyError",
     "evalue": "'Failed to format this callback filepath: \"./checkpoint/model.{epoch:02d}-{val_loss:.2f}.h5\". Reason: \\'val_loss\\''",
     "output_type": "error",
     "traceback": [
      "\u001b[0;31m---------------------------------------------------------------------------\u001b[0m",
      "\u001b[0;31mKeyError\u001b[0m                                  Traceback (most recent call last)",
      "\u001b[0;32m~/anaconda3/lib/python3.7/site-packages/tensorflow/python/keras/callbacks.py\u001b[0m in \u001b[0;36m_get_file_path\u001b[0;34m(self, epoch, logs)\u001b[0m\n\u001b[1;32m   1426\u001b[0m       \u001b[0;31m# placeholders can cause formatting to fail.\u001b[0m\u001b[0;34m\u001b[0m\u001b[0;34m\u001b[0m\u001b[0;34m\u001b[0m\u001b[0m\n\u001b[0;32m-> 1427\u001b[0;31m       \u001b[0mfile_path\u001b[0m \u001b[0;34m=\u001b[0m \u001b[0mself\u001b[0m\u001b[0;34m.\u001b[0m\u001b[0mfilepath\u001b[0m\u001b[0;34m.\u001b[0m\u001b[0mformat\u001b[0m\u001b[0;34m(\u001b[0m\u001b[0mepoch\u001b[0m\u001b[0;34m=\u001b[0m\u001b[0mepoch\u001b[0m \u001b[0;34m+\u001b[0m \u001b[0;36m1\u001b[0m\u001b[0;34m,\u001b[0m \u001b[0;34m**\u001b[0m\u001b[0mlogs\u001b[0m\u001b[0;34m)\u001b[0m\u001b[0;34m\u001b[0m\u001b[0;34m\u001b[0m\u001b[0m\n\u001b[0m\u001b[1;32m   1428\u001b[0m     \u001b[0;32mexcept\u001b[0m \u001b[0mKeyError\u001b[0m \u001b[0;32mas\u001b[0m \u001b[0me\u001b[0m\u001b[0;34m:\u001b[0m\u001b[0;34m\u001b[0m\u001b[0;34m\u001b[0m\u001b[0m\n",
      "\u001b[0;31mKeyError\u001b[0m: 'val_loss'",
      "\nDuring handling of the above exception, another exception occurred:\n",
      "\u001b[0;31mKeyError\u001b[0m                                  Traceback (most recent call last)",
      "\u001b[0;32m<ipython-input-40-78960db11ef8>\u001b[0m in \u001b[0;36m<module>\u001b[0;34m\u001b[0m\n\u001b[1;32m      6\u001b[0m                     \u001b[0mepochs\u001b[0m\u001b[0;34m=\u001b[0m\u001b[0;36m2\u001b[0m\u001b[0;34m,\u001b[0m\u001b[0;34m\u001b[0m\u001b[0;34m\u001b[0m\u001b[0m\n\u001b[1;32m      7\u001b[0m                     \u001b[0msteps_per_epoch\u001b[0m\u001b[0;34m=\u001b[0m\u001b[0;36m4000\u001b[0m\u001b[0;34m,\u001b[0m\u001b[0;34m\u001b[0m\u001b[0;34m\u001b[0m\u001b[0m\n\u001b[0;32m----> 8\u001b[0;31m                     validation_data=mygenerator(test,2000),callbacks=my_callbacks)# \n\u001b[0m\u001b[1;32m      9\u001b[0m \u001b[0;34m\u001b[0m\u001b[0m\n",
      "\u001b[0;32m~/anaconda3/lib/python3.7/site-packages/tensorflow/python/keras/engine/training.py\u001b[0m in \u001b[0;36mfit\u001b[0;34m(self, x, y, batch_size, epochs, verbose, callbacks, validation_split, validation_data, shuffle, class_weight, sample_weight, initial_epoch, steps_per_epoch, validation_steps, validation_batch_size, validation_freq, max_queue_size, workers, use_multiprocessing)\u001b[0m\n\u001b[1;32m   1143\u001b[0m           \u001b[0mepoch_logs\u001b[0m\u001b[0;34m.\u001b[0m\u001b[0mupdate\u001b[0m\u001b[0;34m(\u001b[0m\u001b[0mval_logs\u001b[0m\u001b[0;34m)\u001b[0m\u001b[0;34m\u001b[0m\u001b[0;34m\u001b[0m\u001b[0m\n\u001b[1;32m   1144\u001b[0m \u001b[0;34m\u001b[0m\u001b[0m\n\u001b[0;32m-> 1145\u001b[0;31m         \u001b[0mcallbacks\u001b[0m\u001b[0;34m.\u001b[0m\u001b[0mon_epoch_end\u001b[0m\u001b[0;34m(\u001b[0m\u001b[0mepoch\u001b[0m\u001b[0;34m,\u001b[0m \u001b[0mepoch_logs\u001b[0m\u001b[0;34m)\u001b[0m\u001b[0;34m\u001b[0m\u001b[0;34m\u001b[0m\u001b[0m\n\u001b[0m\u001b[1;32m   1146\u001b[0m         \u001b[0mtraining_logs\u001b[0m \u001b[0;34m=\u001b[0m \u001b[0mepoch_logs\u001b[0m\u001b[0;34m\u001b[0m\u001b[0;34m\u001b[0m\u001b[0m\n\u001b[1;32m   1147\u001b[0m         \u001b[0;32mif\u001b[0m \u001b[0mself\u001b[0m\u001b[0;34m.\u001b[0m\u001b[0mstop_training\u001b[0m\u001b[0;34m:\u001b[0m\u001b[0;34m\u001b[0m\u001b[0;34m\u001b[0m\u001b[0m\n",
      "\u001b[0;32m~/anaconda3/lib/python3.7/site-packages/tensorflow/python/keras/callbacks.py\u001b[0m in \u001b[0;36mon_epoch_end\u001b[0;34m(self, epoch, logs)\u001b[0m\n\u001b[1;32m    426\u001b[0m     \u001b[0;32mfor\u001b[0m \u001b[0mcallback\u001b[0m \u001b[0;32min\u001b[0m \u001b[0mself\u001b[0m\u001b[0;34m.\u001b[0m\u001b[0mcallbacks\u001b[0m\u001b[0;34m:\u001b[0m\u001b[0;34m\u001b[0m\u001b[0;34m\u001b[0m\u001b[0m\n\u001b[1;32m    427\u001b[0m       \u001b[0;32mif\u001b[0m \u001b[0mgetattr\u001b[0m\u001b[0;34m(\u001b[0m\u001b[0mcallback\u001b[0m\u001b[0;34m,\u001b[0m \u001b[0;34m'_supports_tf_logs'\u001b[0m\u001b[0;34m,\u001b[0m \u001b[0;32mFalse\u001b[0m\u001b[0;34m)\u001b[0m\u001b[0;34m:\u001b[0m\u001b[0;34m\u001b[0m\u001b[0;34m\u001b[0m\u001b[0m\n\u001b[0;32m--> 428\u001b[0;31m         \u001b[0mcallback\u001b[0m\u001b[0;34m.\u001b[0m\u001b[0mon_epoch_end\u001b[0m\u001b[0;34m(\u001b[0m\u001b[0mepoch\u001b[0m\u001b[0;34m,\u001b[0m \u001b[0mlogs\u001b[0m\u001b[0;34m)\u001b[0m\u001b[0;34m\u001b[0m\u001b[0;34m\u001b[0m\u001b[0m\n\u001b[0m\u001b[1;32m    429\u001b[0m       \u001b[0;32melse\u001b[0m\u001b[0;34m:\u001b[0m\u001b[0;34m\u001b[0m\u001b[0;34m\u001b[0m\u001b[0m\n\u001b[1;32m    430\u001b[0m         \u001b[0;32mif\u001b[0m \u001b[0mnumpy_logs\u001b[0m \u001b[0;32mis\u001b[0m \u001b[0;32mNone\u001b[0m\u001b[0;34m:\u001b[0m  \u001b[0;31m# Only convert once.\u001b[0m\u001b[0;34m\u001b[0m\u001b[0;34m\u001b[0m\u001b[0m\n",
      "\u001b[0;32m~/anaconda3/lib/python3.7/site-packages/tensorflow/python/keras/callbacks.py\u001b[0m in \u001b[0;36mon_epoch_end\u001b[0;34m(self, epoch, logs)\u001b[0m\n\u001b[1;32m   1342\u001b[0m     \u001b[0;31m# pylint: disable=protected-access\u001b[0m\u001b[0;34m\u001b[0m\u001b[0;34m\u001b[0m\u001b[0;34m\u001b[0m\u001b[0m\n\u001b[1;32m   1343\u001b[0m     \u001b[0;32mif\u001b[0m \u001b[0mself\u001b[0m\u001b[0;34m.\u001b[0m\u001b[0msave_freq\u001b[0m \u001b[0;34m==\u001b[0m \u001b[0;34m'epoch'\u001b[0m\u001b[0;34m:\u001b[0m\u001b[0;34m\u001b[0m\u001b[0;34m\u001b[0m\u001b[0m\n\u001b[0;32m-> 1344\u001b[0;31m       \u001b[0mself\u001b[0m\u001b[0;34m.\u001b[0m\u001b[0m_save_model\u001b[0m\u001b[0;34m(\u001b[0m\u001b[0mepoch\u001b[0m\u001b[0;34m=\u001b[0m\u001b[0mepoch\u001b[0m\u001b[0;34m,\u001b[0m \u001b[0mlogs\u001b[0m\u001b[0;34m=\u001b[0m\u001b[0mlogs\u001b[0m\u001b[0;34m)\u001b[0m\u001b[0;34m\u001b[0m\u001b[0;34m\u001b[0m\u001b[0m\n\u001b[0m\u001b[1;32m   1345\u001b[0m \u001b[0;34m\u001b[0m\u001b[0m\n\u001b[1;32m   1346\u001b[0m   \u001b[0;32mdef\u001b[0m \u001b[0m_should_save_on_batch\u001b[0m\u001b[0;34m(\u001b[0m\u001b[0mself\u001b[0m\u001b[0;34m,\u001b[0m \u001b[0mbatch\u001b[0m\u001b[0;34m)\u001b[0m\u001b[0;34m:\u001b[0m\u001b[0;34m\u001b[0m\u001b[0;34m\u001b[0m\u001b[0m\n",
      "\u001b[0;32m~/anaconda3/lib/python3.7/site-packages/tensorflow/python/keras/callbacks.py\u001b[0m in \u001b[0;36m_save_model\u001b[0;34m(self, epoch, logs)\u001b[0m\n\u001b[1;32m   1375\u001b[0m       \u001b[0mlogs\u001b[0m \u001b[0;34m=\u001b[0m \u001b[0mtf_utils\u001b[0m\u001b[0;34m.\u001b[0m\u001b[0mto_numpy_or_python_type\u001b[0m\u001b[0;34m(\u001b[0m\u001b[0mlogs\u001b[0m\u001b[0;34m)\u001b[0m\u001b[0;34m\u001b[0m\u001b[0;34m\u001b[0m\u001b[0m\n\u001b[1;32m   1376\u001b[0m       \u001b[0mself\u001b[0m\u001b[0;34m.\u001b[0m\u001b[0mepochs_since_last_save\u001b[0m \u001b[0;34m=\u001b[0m \u001b[0;36m0\u001b[0m\u001b[0;34m\u001b[0m\u001b[0;34m\u001b[0m\u001b[0m\n\u001b[0;32m-> 1377\u001b[0;31m       \u001b[0mfilepath\u001b[0m \u001b[0;34m=\u001b[0m \u001b[0mself\u001b[0m\u001b[0;34m.\u001b[0m\u001b[0m_get_file_path\u001b[0m\u001b[0;34m(\u001b[0m\u001b[0mepoch\u001b[0m\u001b[0;34m,\u001b[0m \u001b[0mlogs\u001b[0m\u001b[0;34m)\u001b[0m\u001b[0;34m\u001b[0m\u001b[0;34m\u001b[0m\u001b[0m\n\u001b[0m\u001b[1;32m   1378\u001b[0m \u001b[0;34m\u001b[0m\u001b[0m\n\u001b[1;32m   1379\u001b[0m       \u001b[0;32mtry\u001b[0m\u001b[0;34m:\u001b[0m\u001b[0;34m\u001b[0m\u001b[0;34m\u001b[0m\u001b[0m\n",
      "\u001b[0;32m~/anaconda3/lib/python3.7/site-packages/tensorflow/python/keras/callbacks.py\u001b[0m in \u001b[0;36m_get_file_path\u001b[0;34m(self, epoch, logs)\u001b[0m\n\u001b[1;32m   1428\u001b[0m     \u001b[0;32mexcept\u001b[0m \u001b[0mKeyError\u001b[0m \u001b[0;32mas\u001b[0m \u001b[0me\u001b[0m\u001b[0;34m:\u001b[0m\u001b[0;34m\u001b[0m\u001b[0;34m\u001b[0m\u001b[0m\n\u001b[1;32m   1429\u001b[0m       raise KeyError('Failed to format this callback filepath: \"{}\". '\n\u001b[0;32m-> 1430\u001b[0;31m                      'Reason: {}'.format(self.filepath, e))\n\u001b[0m\u001b[1;32m   1431\u001b[0m     self._write_filepath = distributed_file_utils.write_filepath(\n\u001b[1;32m   1432\u001b[0m         file_path, self.model.distribute_strategy)\n",
      "\u001b[0;31mKeyError\u001b[0m: 'Failed to format this callback filepath: \"./checkpoint/model.{epoch:02d}-{val_loss:.2f}.h5\". Reason: \\'val_loss\\''"
     ]
    }
   ],
   "source": [
    "my_callbacks = [\n",
    "    keras.callbacks.EarlyStopping(patience=2),\n",
    "    keras.callbacks.ModelCheckpoint(filepath='./checkpoint/model.{epoch:02d}-{val_loss:.2f}.h5'),\n",
    "    keras.callbacks.TensorBoard(log_dir='./logs')]\n",
    "history = model.fit(mygenerator(train,8000),\n",
    "                    epochs=2,                    \n",
    "                    steps_per_epoch=4000,\n",
    "                    validation_data=mygenerator(test,2000),callbacks=my_callbacks)# \n",
    "\n"
   ]
  },
  {
   "cell_type": "code",
   "execution_count": null,
   "metadata": {},
   "outputs": [],
   "source": [
    "score = model.evaluate(mygenerator(test,2000), verbose=0)\n",
    "print('Test score:', score[0])\n",
    "print('Test accuracy:', score[1])  # this is the one we care about"
   ]
  },
  {
   "cell_type": "code",
   "execution_count": 225,
   "metadata": {},
   "outputs": [
    {
     "name": "stdout",
     "output_type": "stream",
     "text": [
      "Model: \"sequential_19\"\n",
      "_________________________________________________________________\n",
      "Layer (type)                 Output Shape              Param #   \n",
      "=================================================================\n",
      "conv2d_91 (Conv2D)           (None, 131, 230, 64)      9472      \n",
      "_________________________________________________________________\n",
      "max_pooling2d_57 (MaxPooling (None, 65, 115, 64)       0         \n",
      "_________________________________________________________________\n",
      "conv2d_92 (Conv2D)           (None, 63, 113, 128)      73856     \n",
      "_________________________________________________________________\n",
      "max_pooling2d_58 (MaxPooling (None, 31, 56, 128)       0         \n",
      "_________________________________________________________________\n",
      "conv2d_93 (Conv2D)           (None, 29, 54, 128)       147584    \n",
      "_________________________________________________________________\n",
      "max_pooling2d_59 (MaxPooling (None, 14, 27, 128)       0         \n",
      "_________________________________________________________________\n",
      "flatten_19 (Flatten)         (None, 48384)             0         \n",
      "_________________________________________________________________\n",
      "dense_57 (Dense)             (None, 128)               6193280   \n",
      "_________________________________________________________________\n",
      "dropout_38 (Dropout)         (None, 128)               0         \n",
      "_________________________________________________________________\n",
      "dense_58 (Dense)             (None, 64)                8256      \n",
      "_________________________________________________________________\n",
      "dropout_39 (Dropout)         (None, 64)                0         \n",
      "_________________________________________________________________\n",
      "dense_59 (Dense)             (None, 7)                 455       \n",
      "=================================================================\n",
      "Total params: 6,432,903\n",
      "Trainable params: 6,432,903\n",
      "Non-trainable params: 0\n",
      "_________________________________________________________________\n"
     ]
    }
   ],
   "source": [
    "model.summary()"
   ]
  },
  {
   "cell_type": "code",
   "execution_count": null,
   "metadata": {},
   "outputs": [],
   "source": [
    "[plt.plot(history.history[i], label=i) for i in history.history.keys()]"
   ]
  },
  {
   "cell_type": "code",
   "execution_count": 226,
   "metadata": {},
   "outputs": [
    {
     "data": {
      "image/png": "[encoded data removed]",
      "text/plain": [
       "<Figure size 432x288 with 2 Axes>"
      ]
     },
     "metadata": {
      "needs_background": "light"
     },
     "output_type": "display_data"
    }
   ],
   "source": [
    "%matplotlib inline\n",
    "import matplotlib.pyplot as plt\n",
    "\n",
    "fig, loss_ax = plt.subplots()\n",
    "\n",
    "acc_ax = loss_ax.twinx()\n",
    "\n",
    "loss_ax.plot(history.history['loss'], 'y', label='train loss')\n",
    "loss_ax.plot(history.history['val_loss'], 'r', label='val loss')\n",
    "\n",
    "acc_ax.plot(history.history['accuracy'], 'b', label='train acc')\n",
    "acc_ax.plot(history.history['val_accuracy'], 'g', label='val acc')\n",
    "\n",
    "loss_ax.set_xlabel('epoch')\n",
    "loss_ax.set_ylabel('loss')\n",
    "acc_ax.set_ylabel('accuray')\n",
    "\n",
    "loss_ax.legend(loc='upper left')\n",
    "acc_ax.legend(loc='lower left')\n",
    "\n",
    "plt.show()\n"
   ]
  },
  {
   "cell_type": "code",
   "execution_count": null,
   "metadata": {},
   "outputs": [],
   "source": []
  },
  {
   "cell_type": "code",
   "execution_count": null,
   "metadata": {},
   "outputs": [],
   "source": []
  },
  {
   "cell_type": "code",
   "execution_count": null,
   "metadata": {},
   "outputs": [],
   "source": []
  },
  {
   "cell_type": "code",
   "execution_count": null,
   "metadata": {},
   "outputs": [],
   "source": []
  },
  {
   "cell_type": "code",
   "execution_count": null,
   "metadata": {},
   "outputs": [],
   "source": []
  },
  {
   "cell_type": "code",
   "execution_count": null,
   "metadata": {},
   "outputs": [],
   "source": []
  },
  {
   "cell_type": "code",
   "execution_count": 143,
   "metadata": {},
   "outputs": [
    {
     "name": "stdout",
     "output_type": "stream",
     "text": [
      "Found 44597 validated image filenames.\n"
     ]
    }
   ],
   "source": [
    "# TRAIN_DIR = '/home/beth/Galvanize/capstone/capstone_2/data/train/train'\n",
    "# # VALIDATION_DIR = '/home/beth/Galvanize/capstone/capstone_2/data/test'\n",
    "\n",
    "# datagen = ImageDataGenerator(validation_split=0.3, rescale=1./255)\n",
    "# batch_size = 32\n",
    "# train_generator = datagen.flow_from_dataframe(dataframe=df_index_1,\n",
    "#                                               directory=TRAIN_DIR,\n",
    "#                                               x_col=\"image_id\",\n",
    "#                                               y_col=\"consonant_diacritic\",\n",
    "#                                               weight_col=None,\n",
    "#                                               target_size=(137, 236),\n",
    "#                                               color_mode=\"grayscale\",\n",
    "#                                               classes=None,\n",
    "#                                               class_mode=\"raw\",\n",
    "#                                               batch_size=batch_size,\n",
    "#                                               shuffle=True,\n",
    "#                                               subset=None,\n",
    "#                                               interpolation=\"nearest\",\n",
    "#                                               validate_filenames=True)\n",
    "\n",
    "#\"raw\": numpy array of values in y_col column(s), - \"sparse\": 1D numpy array of integer labels, \n",
    "# validation_generator = ImageDataGenerator.flow_from_dataframe(dataframe,\n",
    "#                                                          directory=TRAIN_DIR,\n",
    "#                                                          x_col=\"filename\",\n",
    "#                                                          y_col=\"class\",\n",
    "#                                                          weight_col=None,\n",
    "#                                                          target_size=(256, 256),\n",
    "#                                                          color_mode=\"rgb\",\n",
    "#                                                          classes=None,\n",
    "#                                                          class_mode=\"categorical\",\n",
    "#                                                          batch_size=batch_size,\n",
    "#                                                          shuffle=False,\n",
    "#                                                          seed=None,\n",
    "#                                                          save_to_dir=None,\n",
    "#                                                          save_prefix=\"\",\n",
    "#                                                          save_format=\"png\",\n",
    "#                                                          subset=None,\n",
    "#                                                          interpolation=\"nearest\",\n",
    "#                                                          validate_filenames=True)\n",
    "\n",
    "# train_generator = datagen.flow_from_directory(\n",
    "#     TRAIN_DIR, \n",
    "#     subset='training'\n",
    "# )\n",
    "\n",
    "# val_generator = datagen.flow_from_directory(\n",
    "#     TRAIN_DIR,\n",
    "#     subset='validation'\n",
    "# )\n",
    "# https://ibrahimgoke.medium.com/split-train-data-into-training-and-validation-when-using-imagedatagenerator-in-keras-ffdc88bbf6f3\n",
    "\n",
    "# train_datagen = ImageDataGenerator(rescale=1./255,\n",
    "#                                    shear_range=0.2,\n",
    "#                                    zoom_range=0.2,\n",
    "#                                    horizontal_flip=True)\n",
    "\n",
    "# test_datagen = ImageDataGenerator(rescale=1./255)\n"
   ]
  },
  {
   "cell_type": "code",
   "execution_count": null,
   "metadata": {},
   "outputs": [],
   "source": [
    "# validation_generator = test_datagen.flow_from_directory(\n",
    "#         '../data/validation',\n",
    "#         target_size=(150, 150),\n",
    "#         batch_size=batch_size,\n",
    "#         class_mode='binary')\n",
    "\n",
    "# cat_dog_model.fit_generator(\n",
    "#     train_generator,\n",
    "#     steps_per_epoch=180 // batch_size,\n",
    "#     epochs=50,\n",
    "#     validation_data=validation_generator,\n",
    "#     validation_steps=20 // batch_size)\n",
    "\n",
    "# score = cat_dog_model.evaluate(validation_generator, verbose=0)\n",
    "# print('Test score:', score[0])\n",
    "# print('Test accuracy:', score[1])  # this is the one we care about"
   ]
  },
  {
   "cell_type": "code",
   "execution_count": null,
   "metadata": {},
   "outputs": [],
   "source": [
    "# # important inputs to the model: don't changes the ones marked KEEP in the functions above\n",
    "# batch_size = 5000  # number of training samples used at a time to update the weights\n",
    "# nb_epoch = 2       # number of passes through the entire train dataset before weights \"final\"\n",
    "# nb_filters = 12    # number of convolutional filters to use\n",
    "# pool_size = (2, 2)  # pooling decreases image size, reduces computation, adds translational invariance\n",
    "# kernel_size = (4, 4)  # convolutional kernel size, slides over image to learn features\n",
    "# dropout = 0.1\n",
    "# activation='tanh'\n",
    "# optimizer='adadelta'\n",
    "\n",
    "# model = Sequential()  # model is a linear stack of layers (don't change)\n",
    "\n",
    "#     # note: the convolutional layers and dense layers require an activation function\n",
    "#     # see https://keras.io/activations/\n",
    "#     # and https://en.wikipedia.org/wiki/Activation_function\n",
    "#     # options: 'linear', 'sigmoid', 'tanh', 'relu', 'softplus', 'softsign'\n",
    "\n",
    "#     model.add(Conv2D(nb_filters,\n",
    "#                      (kernel_size[0], kernel_size[1]),\n",
    "#                      padding='valid',\n",
    "#                      input_shape=input_shape))  # first conv. layer  KEEP\n",
    "#     model.add(Activation(activation))  # Activation specification necessary for Conv2D and Dense layers\n",
    "\n",
    "#     model.add(Conv2D(nb_filters,\n",
    "#                      (kernel_size[0], kernel_size[1]),\n",
    "#                      padding='valid'))  # 2nd conv. layer KEEP\n",
    "#     model.add(Activation(activation))\n",
    "\n",
    "#     model.add(MaxPooling2D(pool_size=pool_size))  # decreases size, helps prevent overfitting\n",
    "#     model.add(Dropout(dropout))  # zeros out some fraction of inputs, helps prevent overfitting\n",
    "\n",
    "#     model.add(Flatten())  # necessary to flatten before going into conventional dense layer  KEEP\n",
    "#     print('Model flattened out to ', model.output_shape)\n",
    "\n",
    "#     # now start a typical neural network\n",
    "#     model.add(Dense(32))  # (only) 32 neurons in this layer, really?   KEEP\n",
    "#     model.add(Activation(activation))\n",
    "\n",
    "#     model.add(Dropout(dropout))  # zeros out some fraction of inputs, helps prevent overfitting\n",
    "\n",
    "#     model.add(Dense(nb_classes))  # 10 final nodes (one for each class)  KEEP\n",
    "#     model.add(Activation('softmax'))  # softmax at end to pick between classes 0-9 KEEP\n",
    "\n",
    "#     # many optimizers available, see https://keras.io/optimizers/#usage-of-optimizers\n",
    "#     # suggest you KEEP loss at 'categorical_crossentropy' for this multiclass problem,\n",
    "#     # and KEEP metrics at 'accuracy'\n",
    "#     # suggest limiting optimizers to one of these: 'adam', 'adadelta', 'sgd'\n",
    "#     model.compile(loss='categorical_crossentropy',\n",
    "#                   optimizer=optimizer,\n",
    "#                   metrics=['accuracy'],\n",
    "#                  learning)\n",
    "#     return model"
   ]
  }
 ],
 "metadata": {
  "kernelspec": {
   "display_name": "Python 3",
   "language": "python",
   "name": "python3"
  },
  "language_info": {
   "codemirror_mode": {
    "name": "ipython",
    "version": 3
   },
   "file_extension": ".py",
   "mimetype": "text/x-python",
   "name": "python",
   "nbconvert_exporter": "python",
   "pygments_lexer": "ipython3",
   "version": "3.7.9"
  }
 },
 "nbformat": 4,
 "nbformat_minor": 4
}
